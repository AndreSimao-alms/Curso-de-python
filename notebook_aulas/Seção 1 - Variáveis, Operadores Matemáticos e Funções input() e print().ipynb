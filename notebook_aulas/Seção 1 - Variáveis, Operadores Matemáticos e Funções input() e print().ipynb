{
 "cells": [
  {
   "cell_type": "markdown",
   "metadata": {
    "id": "UXMRA6CC0rPQ"
   },
   "source": [
    "#  <span style=\"color:darkred\"> Tipo de variáveis\n",
    "---\n",
    "Vamos dar o **primeiro passo** em nossa playlist apresentando os principais **tipos de dados** que vamos utilizar aqui em nosso treinamento. Variáveis possuem algumas **diretrizes** para manter **boas práticas de codificação**, estas são:\n",
    "- Podem conter letras, números e *undercores*\n",
    "- Devem começar somente com letra ou *undercore*\n",
    "- Devem está em caixa-baixa (caracteres minúsculos"
   ]
  },
  {
   "cell_type": "markdown",
   "metadata": {
    "id": "JQrcfukeH-Mi"
   },
   "source": [
    "## <span style=\"color:purple\">  Parte 1 - int & float\n",
    "---"
   ]
  },
  {
   "cell_type": "markdown",
   "metadata": {
    "id": "--ris8gq1dxg"
   },
   "source": [
    "####  Int\n",
    "- Número inteiros. "
   ]
  },
  {
   "cell_type": "code",
   "execution_count": 5,
   "metadata": {
    "id": "L_GwrgVtu06B"
   },
   "outputs": [],
   "source": [
    "# Apresentado no terminal Prompt de Comando"
   ]
  },
  {
   "cell_type": "markdown",
   "metadata": {
    "id": "wvNruCyI2Ogr"
   },
   "source": [
    "#### Float\n",
    "- Números decimais:\\\n",
    "    **CUIDADO!** Utilize **ponto** para a separação de casas, uma vez que a vírgula é utilizada para declaração de tuplas, por exemplo:\n",
    "\n"
   ]
  },
  {
   "cell_type": "code",
   "execution_count": 6,
   "metadata": {
    "id": "wAMQbltou8gY"
   },
   "outputs": [],
   "source": [
    "# Apresentado no terminal Prompt de Comando"
   ]
  },
  {
   "cell_type": "markdown",
   "metadata": {
    "id": "IOXAmHmOHGg6"
   },
   "source": [
    "### <span style=\"color:purple\"> Exemplo 1 - Conversão de unidades milhas/kilometros\n",
    "---\n",
    "Aplique ao prompt de comandos a equação abaixo para a conversão de unidade de medida kilometros e milhas\n",
    "\n",
    "```\n",
    "milhas = 1.60934*distancia \n",
    "```\n",
    "\n"
   ]
  },
  {
   "cell_type": "code",
   "execution_count": null,
   "metadata": {
    "id": "uICguOl1vFJg"
   },
   "outputs": [],
   "source": [
    "# Apresentado no terminal Prompt de Comando"
   ]
  },
  {
   "cell_type": "markdown",
   "metadata": {
    "id": "w48zFoBaHs95"
   },
   "source": [
    "### <span style=\"color:purple\"> Função type()\n",
    "---\n",
    "Esta função recebe uma variável retorna a sua respectiva classificação."
   ]
  },
  {
   "cell_type": "code",
   "execution_count": null,
   "metadata": {
    "id": "fDGGUNLXvFtq"
   },
   "outputs": [],
   "source": [
    "# Apresentado no terminal Prompt de Comando"
   ]
  },
  {
   "cell_type": "markdown",
   "metadata": {
    "id": "vaLWVVMYIG4B"
   },
   "source": [
    "## <span style=\"color:purple\">  Parte 2 - Uso de Strings\n",
    "---"
   ]
  },
  {
   "cell_type": "markdown",
   "metadata": {
    "id": "dSQiIQ-y4Uq5"
   },
   "source": [
    "#### String\n",
    "Combinação de múltiplos caracteres"
   ]
  },
  {
   "cell_type": "code",
   "execution_count": 2,
   "metadata": {
    "colab": {
     "base_uri": "https://localhost:8080/"
    },
    "id": "Fq8226jnybIJ",
    "outputId": "f5f45077-7065-486c-a941-0031b63debf9"
   },
   "outputs": [
    {
     "data": {
      "text/plain": [
       "str"
      ]
     },
     "execution_count": 2,
     "metadata": {},
     "output_type": "execute_result"
    }
   ],
   "source": [
    "nome = 'André Luiz'\n",
    "type(nome)"
   ]
  },
  {
   "cell_type": "markdown",
   "metadata": {
    "id": "oXWQeb0qJKW2"
   },
   "source": [
    "#### Index\n",
    "O conceito de index é utilizado em diferentes **iteráveis**, este recurso permite **acessar valores** através de um **índice** que se inicia apartir de zero e que também aceita valores negativos. "
   ]
  },
  {
   "cell_type": "code",
   "execution_count": 3,
   "metadata": {
    "colab": {
     "base_uri": "https://localhost:8080/",
     "height": 35
    },
    "id": "gjeLBbvnOLFH",
    "outputId": "efcfce85-484b-42cc-87c2-91285e2f35a0"
   },
   "outputs": [
    {
     "data": {
      "text/plain": [
       "'i'"
      ]
     },
     "execution_count": 3,
     "metadata": {},
     "output_type": "execute_result"
    }
   ],
   "source": [
    "#[0,1,2,3,4,5,6,7,8,9,10]\n",
    "\n",
    "nome[-2]"
   ]
  },
  {
   "cell_type": "markdown",
   "metadata": {
    "id": "1pBHdpY1JP-A"
   },
   "source": [
    "#### Slice\n",
    "Slice é um recurso utilizado em elementos iteráveis onde **seleciona intervalos** através do uso do **index**."
   ]
  },
  {
   "cell_type": "code",
   "execution_count": 4,
   "metadata": {
    "colab": {
     "base_uri": "https://localhost:8080/",
     "height": 35
    },
    "id": "qnMPtRGRqNhv",
    "outputId": "de354c59-2cb5-49bb-fa81-410cc710ba1d"
   },
   "outputs": [
    {
     "data": {
      "text/plain": [
       "'Luiz'"
      ]
     },
     "execution_count": 4,
     "metadata": {},
     "output_type": "execute_result"
    }
   ],
   "source": [
    "nome[6:10]"
   ]
  },
  {
   "cell_type": "markdown",
   "metadata": {
    "id": "6twZEeomJTf_"
   },
   "source": [
    "### <span style=\"color:purple\"> Alguns métodos strings\n",
    "---\n",
    "Em Python, variáveis são **objetos** criados por **classes internas** da linguagem que **definem** o tipo de variável, estes objetos possuem **método**s, que nada mais são que **funções da sua própria classe**. Em suma, estes métodos são ferramentas essenciais para resolução de problemas. Assim, a variável string, possui uma gama de métodos para a sua manipulação, vejamos alguns exemplos abaixo:"
   ]
  },
  {
   "cell_type": "markdown",
   "metadata": {
    "id": "0oZ0T4ORJwF2"
   },
   "source": [
    "#### upper( )\n",
    "Retorna string com caracteres maiúsculos"
   ]
  },
  {
   "cell_type": "code",
   "execution_count": 17,
   "metadata": {
    "colab": {
     "base_uri": "https://localhost:8080/",
     "height": 35
    },
    "id": "eQWLS4tUKCpE",
    "outputId": "72259a72-b173-494e-c4c3-8be6de087c5d"
   },
   "outputs": [
    {
     "data": {
      "text/plain": [
       "'ANDRÉ LUIZ'"
      ]
     },
     "execution_count": 17,
     "metadata": {},
     "output_type": "execute_result"
    }
   ],
   "source": [
    "nome.upper()"
   ]
  },
  {
   "cell_type": "markdown",
   "metadata": {
    "id": "euNuUuhgJyW-"
   },
   "source": [
    "#### lower( )\n",
    "Retorna string com caracteres minúsculos"
   ]
  },
  {
   "cell_type": "code",
   "execution_count": null,
   "metadata": {
    "colab": {
     "base_uri": "https://localhost:8080/",
     "height": 35
    },
    "id": "xtnwmyFYKP1L",
    "outputId": "128bfe2f-8dc3-466f-cad4-ddb1c5e1ddb6"
   },
   "outputs": [
    {
     "data": {
      "application/vnd.google.colaboratory.intrinsic+json": {
       "type": "string"
      },
      "text/plain": [
       "'andré luiz'"
      ]
     },
     "execution_count": 94,
     "metadata": {},
     "output_type": "execute_result"
    }
   ],
   "source": [
    "nome.lower()"
   ]
  },
  {
   "cell_type": "markdown",
   "metadata": {
    "id": "4oXOzhsqJ0at"
   },
   "source": [
    "#### title( )\n",
    "Retorna string com primeiro caractere maiúsculo de cada palavra"
   ]
  },
  {
   "cell_type": "code",
   "execution_count": 8,
   "metadata": {
    "colab": {
     "base_uri": "https://localhost:8080/",
     "height": 35
    },
    "id": "FS2LH8pYKYw0",
    "outputId": "91f9a292-371a-4a56-8fc7-cb0c647af375"
   },
   "outputs": [
    {
     "data": {
      "text/plain": [
       "'Curso De Python'"
      ]
     },
     "execution_count": 8,
     "metadata": {},
     "output_type": "execute_result"
    }
   ],
   "source": [
    "'curso de python'.title()"
   ]
  },
  {
   "cell_type": "markdown",
   "metadata": {
    "id": "keOc7mc_J3It"
   },
   "source": [
    "#### split( ) e parâmetro \"sep\"\n",
    "Retorna uma lista compostas pelas palavras construídas em um string. Outro novo elemento apresentado aqui é o conceito de **parâmetro**, estes são entradas (*inputs*) que podem ser obrigatórios ou não para um determinado método ou função."
   ]
  },
  {
   "cell_type": "code",
   "execution_count": 18,
   "metadata": {
    "id": "DRy0gbdjK_SC"
   },
   "outputs": [
    {
     "data": {
      "text/plain": [
       "['curs', '_de_pyth', 'n']"
      ]
     },
     "execution_count": 18,
     "metadata": {},
     "output_type": "execute_result"
    }
   ],
   "source": [
    "curso = 'curso_de_python'\n",
    "curso.split(sep='o')"
   ]
  },
  {
   "cell_type": "markdown",
   "metadata": {
    "id": "q0yED6GM_dJT"
   },
   "source": [
    "#### replace( )\n",
    "Recebe (elemento_velho, elemento_novo) e retorna uma nova string"
   ]
  },
  {
   "cell_type": "code",
   "execution_count": 19,
   "metadata": {
    "colab": {
     "base_uri": "https://localhost:8080/",
     "height": 35
    },
    "id": "kCipufbD_lsT",
    "outputId": "9ebc8c4b-d1d9-42ef-e33c-2e12eb85a6d9"
   },
   "outputs": [
    {
     "data": {
      "text/plain": [
       "'Curso De Python'"
      ]
     },
     "execution_count": 19,
     "metadata": {},
     "output_type": "execute_result"
    }
   ],
   "source": [
    "curso = 'curso_de_python'\n",
    "curso = curso.replace('_',' ')\n",
    "curso.title()"
   ]
  },
  {
   "cell_type": "markdown",
   "metadata": {
    "id": "EQi0RDWNITIC"
   },
   "source": [
    "#### map( )\n",
    "Aplica uma função para cada iterável. Neste exemplo vamos converter uma docstring em uma lista contendo strings, então, através da função map(), poderemos converter para variável float com um comando em todos itens desta lista."
   ]
  },
  {
   "cell_type": "code",
   "execution_count": 20,
   "metadata": {
    "colab": {
     "base_uri": "https://localhost:8080/"
    },
    "id": "L4s_f9bVIXzT",
    "outputId": "0dc6f734-50cd-4d9c-87b5-64ed04d9ed9b"
   },
   "outputs": [
    {
     "name": "stdout",
     "output_type": "stream",
     "text": [
      "[19.37, 33.87, 12.17, 22.86, 10.14, 15.41, 6.31, 7.77, 46.61, 69.45, 31.21, 32.82, 34.74, 40.02, 26.23, 31.21]\n"
     ]
    }
   ],
   "source": [
    "\n",
    "dados = '''19.37\n",
    "33.87\n",
    "12.17\n",
    "22.86\n",
    "10.14\n",
    "15.41\n",
    "6.31\n",
    "7.77\n",
    "46.61\n",
    "69.45\n",
    "31.21\n",
    "32.82\n",
    "34.74\n",
    "40.02\n",
    "26.23\n",
    "31.21'''\n",
    "dados = dados.replace('\\n', ',')\n",
    "dados = dados.split(sep= ',')\n",
    "dados = list(map(float,dados))\n",
    "print(dados)"
   ]
  },
  {
   "cell_type": "markdown",
   "metadata": {
    "id": "r76h7bvV7kT9"
   },
   "source": [
    "## <span style=\"color:DARKRED\"> Desafio 1 -> Contador de caracteres e palavras \n",
    "---\n",
    "Construa um programa que receba uma string e calcule: \n",
    "- O número de palavras \n",
    "- O número de caracteres \n",
    "- O número de caracteres sem espaços \\\n",
    "\\\n",
    "__Utilize a função `len()`__"
   ]
  },
  {
   "cell_type": "code",
   "execution_count": 12,
   "metadata": {
    "colab": {
     "base_uri": "https://localhost:8080/"
    },
    "id": "PEl0EEDL3lhz",
    "outputId": "229d90fd-01c6-4411-8715-fb9591ba277d"
   },
   "outputs": [
    {
     "name": "stdout",
     "output_type": "stream",
     "text": [
      "87\n",
      "478\n",
      "392\n"
     ]
    }
   ],
   "source": [
    "dados_n = 'Return True if the object argument is an instance of the classinfo argument, or of a (direct, indirect, or virtual) subclass thereof. If object is not an object of the given type, the function always returns False. If classinfo is a tuple of type objects (or recursively, other such tuples) or a Union Type of multiple types, return True if object is an instance of any of the types. If classinfo is not a type or tuple of types and such tuples, a TypeError exception is raised.'\n",
    "n_palavras = len(dados_n.rsplit())\n",
    "n_carac = len(dados_n)\n",
    "n_carac_sem_espaco = len(dados_n.replace(' ', ''))\n",
    "print(n_palavras)\n",
    "print(n_carac)\n",
    "print(n_carac_sem_espaco)"
   ]
  },
  {
   "cell_type": "markdown",
   "metadata": {
    "id": "ju8EBpBviGeZ"
   },
   "source": [
    "### <span style=\"color:darkred\"> Exemplo 3 (Extra) | Limpeza de dados \n",
    "### <span style=\"color:k\"> Efeitos de Planejamento de Experimentos 2^4\n",
    "---\n",
    "Este exemplo não foi apresentado nas gravações da playlist devido o conteúdo necessário para a construção do código. No entanto, deixei aqui nesta apostila para demonstrar como podemos utilzar os métodos strings para a resolução de problemas pertinentes. "
   ]
  },
  {
   "cell_type": "code",
   "execution_count": 23,
   "metadata": {
    "colab": {
     "base_uri": "https://localhost:8080/"
    },
    "id": "Fk2ad7JBBvBM",
    "outputId": "0ca24edc-47d9-4c06-ef16-2a729f6ad140"
   },
   "outputs": [],
   "source": [
    "# Tabela de efeitos de planejamento experimental 2^4\n",
    "dados = '''-55\t-55\t-55\t-55\t55\t55\t55\t55\t55\t55\t-55\t-55\t-55\t-55\t55\n",
    "53\t-53\t-53\t-53\t-53\t-53\t-53\t53\t53\t53\t53\t53\t53\t-53\t-53\n",
    "-91\t91\t-91\t-91\t-91\t91\t91\t-91\t-91\t91\t91\t91\t-91\t91\t-91\n",
    "94\t94\t-94\t-94\t94\t-94\t-94\t-94\t-94\t94\t-94\t-94\t94\t94\t94\n",
    "-88\t-88\t88\t-88\t88\t-88\t88\t-88\t88\t-88\t88\t-88\t88\t88\t-88\n",
    "97\t-97\t97\t-97\t-97\t97\t-97\t-97\t97\t-97\t-97\t97\t-97\t97\t97\n",
    "-100\t100\t100\t-100\t-100\t-100\t100\t100\t-100\t-100\t-100\t100\t100\t-100\t100\n",
    "98\t98\t98\t-98\t98\t98\t-98\t98\t-98\t-98\t98\t-98\t-98\t-98\t-98\n",
    "-72\t-72\t-72\t72\t72\t72\t-72\t72\t-72\t-72\t-72\t72\t72\t72\t-72\n",
    "62\t-62\t-62\t62\t-62\t-62\t62\t62\t-62\t-62\t62\t-62\t-62\t62\t62\n",
    "-90\t90\t-90\t90\t-90\t90\t-90\t-90\t90\t-90\t90\t-90\t90\t-90\t90\n",
    "90\t90\t-90\t90\t90\t-90\t90\t-90\t90\t-90\t-90\t90\t-90\t-90\t-90\n",
    "-90\t-90\t90\t90\t90\t-90\t-90\t-90\t-90\t90\t90\t90\t-90\t-90\t90\n",
    "98\t-98\t98\t98\t-98\t98\t98\t-98\t-98\t98\t-98\t-98\t98\t-98\t-98\n",
    "-104\t104\t104\t104\t-104\t-104\t-104\t104\t104\t104\t-104\t-104\t-104\t104\t-104\n",
    "100\t100\t100\t100\t100\t100\t100\t100\t100\t100\t100\t100\t100\t100\t100'''"
   ]
  },
  {
   "cell_type": "code",
   "execution_count": 54,
   "metadata": {},
   "outputs": [
    {
     "data": {
      "text/html": [
       "<div>\n",
       "<style scoped>\n",
       "    .dataframe tbody tr th:only-of-type {\n",
       "        vertical-align: middle;\n",
       "    }\n",
       "\n",
       "    .dataframe tbody tr th {\n",
       "        vertical-align: top;\n",
       "    }\n",
       "\n",
       "    .dataframe thead th {\n",
       "        text-align: right;\n",
       "    }\n",
       "</style>\n",
       "<table border=\"1\" class=\"dataframe\">\n",
       "  <thead>\n",
       "    <tr style=\"text-align: right;\">\n",
       "      <th></th>\n",
       "      <th>1</th>\n",
       "      <th>2</th>\n",
       "      <th>3</th>\n",
       "      <th>4</th>\n",
       "      <th>12</th>\n",
       "      <th>13</th>\n",
       "      <th>14</th>\n",
       "      <th>23</th>\n",
       "      <th>24</th>\n",
       "      <th>34</th>\n",
       "      <th>123</th>\n",
       "      <th>124</th>\n",
       "      <th>134</th>\n",
       "      <th>234</th>\n",
       "      <th>1234</th>\n",
       "    </tr>\n",
       "  </thead>\n",
       "  <tbody>\n",
       "    <tr>\n",
       "      <th>0</th>\n",
       "      <td>-55</td>\n",
       "      <td>-55</td>\n",
       "      <td>-55</td>\n",
       "      <td>-55</td>\n",
       "      <td>55</td>\n",
       "      <td>55</td>\n",
       "      <td>55</td>\n",
       "      <td>55</td>\n",
       "      <td>55</td>\n",
       "      <td>55</td>\n",
       "      <td>-55</td>\n",
       "      <td>-55</td>\n",
       "      <td>-55</td>\n",
       "      <td>-55</td>\n",
       "      <td>55</td>\n",
       "    </tr>\n",
       "    <tr>\n",
       "      <th>1</th>\n",
       "      <td>53</td>\n",
       "      <td>-53</td>\n",
       "      <td>-53</td>\n",
       "      <td>-53</td>\n",
       "      <td>-53</td>\n",
       "      <td>-53</td>\n",
       "      <td>-53</td>\n",
       "      <td>53</td>\n",
       "      <td>53</td>\n",
       "      <td>53</td>\n",
       "      <td>53</td>\n",
       "      <td>53</td>\n",
       "      <td>53</td>\n",
       "      <td>-53</td>\n",
       "      <td>-53</td>\n",
       "    </tr>\n",
       "    <tr>\n",
       "      <th>2</th>\n",
       "      <td>-91</td>\n",
       "      <td>91</td>\n",
       "      <td>-91</td>\n",
       "      <td>-91</td>\n",
       "      <td>-91</td>\n",
       "      <td>91</td>\n",
       "      <td>91</td>\n",
       "      <td>-91</td>\n",
       "      <td>-91</td>\n",
       "      <td>91</td>\n",
       "      <td>91</td>\n",
       "      <td>91</td>\n",
       "      <td>-91</td>\n",
       "      <td>91</td>\n",
       "      <td>-91</td>\n",
       "    </tr>\n",
       "    <tr>\n",
       "      <th>3</th>\n",
       "      <td>94</td>\n",
       "      <td>94</td>\n",
       "      <td>-94</td>\n",
       "      <td>-94</td>\n",
       "      <td>94</td>\n",
       "      <td>-94</td>\n",
       "      <td>-94</td>\n",
       "      <td>-94</td>\n",
       "      <td>-94</td>\n",
       "      <td>94</td>\n",
       "      <td>-94</td>\n",
       "      <td>-94</td>\n",
       "      <td>94</td>\n",
       "      <td>94</td>\n",
       "      <td>94</td>\n",
       "    </tr>\n",
       "    <tr>\n",
       "      <th>4</th>\n",
       "      <td>-88</td>\n",
       "      <td>-88</td>\n",
       "      <td>88</td>\n",
       "      <td>-88</td>\n",
       "      <td>88</td>\n",
       "      <td>-88</td>\n",
       "      <td>88</td>\n",
       "      <td>-88</td>\n",
       "      <td>88</td>\n",
       "      <td>-88</td>\n",
       "      <td>88</td>\n",
       "      <td>-88</td>\n",
       "      <td>88</td>\n",
       "      <td>88</td>\n",
       "      <td>-88</td>\n",
       "    </tr>\n",
       "    <tr>\n",
       "      <th>5</th>\n",
       "      <td>97</td>\n",
       "      <td>-97</td>\n",
       "      <td>97</td>\n",
       "      <td>-97</td>\n",
       "      <td>-97</td>\n",
       "      <td>97</td>\n",
       "      <td>-97</td>\n",
       "      <td>-97</td>\n",
       "      <td>97</td>\n",
       "      <td>-97</td>\n",
       "      <td>-97</td>\n",
       "      <td>97</td>\n",
       "      <td>-97</td>\n",
       "      <td>97</td>\n",
       "      <td>97</td>\n",
       "    </tr>\n",
       "    <tr>\n",
       "      <th>6</th>\n",
       "      <td>-100</td>\n",
       "      <td>100</td>\n",
       "      <td>100</td>\n",
       "      <td>-100</td>\n",
       "      <td>-100</td>\n",
       "      <td>-100</td>\n",
       "      <td>100</td>\n",
       "      <td>100</td>\n",
       "      <td>-100</td>\n",
       "      <td>-100</td>\n",
       "      <td>-100</td>\n",
       "      <td>100</td>\n",
       "      <td>100</td>\n",
       "      <td>-100</td>\n",
       "      <td>100</td>\n",
       "    </tr>\n",
       "    <tr>\n",
       "      <th>7</th>\n",
       "      <td>98</td>\n",
       "      <td>98</td>\n",
       "      <td>98</td>\n",
       "      <td>-98</td>\n",
       "      <td>98</td>\n",
       "      <td>98</td>\n",
       "      <td>-98</td>\n",
       "      <td>98</td>\n",
       "      <td>-98</td>\n",
       "      <td>-98</td>\n",
       "      <td>98</td>\n",
       "      <td>-98</td>\n",
       "      <td>-98</td>\n",
       "      <td>-98</td>\n",
       "      <td>-98</td>\n",
       "    </tr>\n",
       "    <tr>\n",
       "      <th>8</th>\n",
       "      <td>-72</td>\n",
       "      <td>-72</td>\n",
       "      <td>-72</td>\n",
       "      <td>72</td>\n",
       "      <td>72</td>\n",
       "      <td>72</td>\n",
       "      <td>-72</td>\n",
       "      <td>72</td>\n",
       "      <td>-72</td>\n",
       "      <td>-72</td>\n",
       "      <td>-72</td>\n",
       "      <td>72</td>\n",
       "      <td>72</td>\n",
       "      <td>72</td>\n",
       "      <td>-72</td>\n",
       "    </tr>\n",
       "    <tr>\n",
       "      <th>9</th>\n",
       "      <td>62</td>\n",
       "      <td>-62</td>\n",
       "      <td>-62</td>\n",
       "      <td>62</td>\n",
       "      <td>-62</td>\n",
       "      <td>-62</td>\n",
       "      <td>62</td>\n",
       "      <td>62</td>\n",
       "      <td>-62</td>\n",
       "      <td>-62</td>\n",
       "      <td>62</td>\n",
       "      <td>-62</td>\n",
       "      <td>-62</td>\n",
       "      <td>62</td>\n",
       "      <td>62</td>\n",
       "    </tr>\n",
       "    <tr>\n",
       "      <th>10</th>\n",
       "      <td>-90</td>\n",
       "      <td>90</td>\n",
       "      <td>-90</td>\n",
       "      <td>90</td>\n",
       "      <td>-90</td>\n",
       "      <td>90</td>\n",
       "      <td>-90</td>\n",
       "      <td>-90</td>\n",
       "      <td>90</td>\n",
       "      <td>-90</td>\n",
       "      <td>90</td>\n",
       "      <td>-90</td>\n",
       "      <td>90</td>\n",
       "      <td>-90</td>\n",
       "      <td>90</td>\n",
       "    </tr>\n",
       "    <tr>\n",
       "      <th>11</th>\n",
       "      <td>90</td>\n",
       "      <td>90</td>\n",
       "      <td>-90</td>\n",
       "      <td>90</td>\n",
       "      <td>90</td>\n",
       "      <td>-90</td>\n",
       "      <td>90</td>\n",
       "      <td>-90</td>\n",
       "      <td>90</td>\n",
       "      <td>-90</td>\n",
       "      <td>-90</td>\n",
       "      <td>90</td>\n",
       "      <td>-90</td>\n",
       "      <td>-90</td>\n",
       "      <td>-90</td>\n",
       "    </tr>\n",
       "    <tr>\n",
       "      <th>12</th>\n",
       "      <td>-90</td>\n",
       "      <td>-90</td>\n",
       "      <td>90</td>\n",
       "      <td>90</td>\n",
       "      <td>90</td>\n",
       "      <td>-90</td>\n",
       "      <td>-90</td>\n",
       "      <td>-90</td>\n",
       "      <td>-90</td>\n",
       "      <td>90</td>\n",
       "      <td>90</td>\n",
       "      <td>90</td>\n",
       "      <td>-90</td>\n",
       "      <td>-90</td>\n",
       "      <td>90</td>\n",
       "    </tr>\n",
       "    <tr>\n",
       "      <th>13</th>\n",
       "      <td>98</td>\n",
       "      <td>-98</td>\n",
       "      <td>98</td>\n",
       "      <td>98</td>\n",
       "      <td>-98</td>\n",
       "      <td>98</td>\n",
       "      <td>98</td>\n",
       "      <td>-98</td>\n",
       "      <td>-98</td>\n",
       "      <td>98</td>\n",
       "      <td>-98</td>\n",
       "      <td>-98</td>\n",
       "      <td>98</td>\n",
       "      <td>-98</td>\n",
       "      <td>-98</td>\n",
       "    </tr>\n",
       "    <tr>\n",
       "      <th>14</th>\n",
       "      <td>-104</td>\n",
       "      <td>104</td>\n",
       "      <td>104</td>\n",
       "      <td>104</td>\n",
       "      <td>-104</td>\n",
       "      <td>-104</td>\n",
       "      <td>-104</td>\n",
       "      <td>104</td>\n",
       "      <td>104</td>\n",
       "      <td>104</td>\n",
       "      <td>-104</td>\n",
       "      <td>-104</td>\n",
       "      <td>-104</td>\n",
       "      <td>104</td>\n",
       "      <td>-104</td>\n",
       "    </tr>\n",
       "    <tr>\n",
       "      <th>15</th>\n",
       "      <td>100</td>\n",
       "      <td>100</td>\n",
       "      <td>100</td>\n",
       "      <td>100</td>\n",
       "      <td>100</td>\n",
       "      <td>100</td>\n",
       "      <td>100</td>\n",
       "      <td>100</td>\n",
       "      <td>100</td>\n",
       "      <td>100</td>\n",
       "      <td>100</td>\n",
       "      <td>100</td>\n",
       "      <td>100</td>\n",
       "      <td>100</td>\n",
       "      <td>100</td>\n",
       "    </tr>\n",
       "  </tbody>\n",
       "</table>\n",
       "</div>"
      ],
      "text/plain": [
       "    1    2    3     4     12    13    14   23    24    34    123   124   134   \\\n",
       "0    -55  -55  -55   -55    55    55    55   55    55    55   -55   -55   -55   \n",
       "1     53  -53  -53   -53   -53   -53   -53   53    53    53    53    53    53   \n",
       "2    -91   91  -91   -91   -91    91    91  -91   -91    91    91    91   -91   \n",
       "3     94   94  -94   -94    94   -94   -94  -94   -94    94   -94   -94    94   \n",
       "4    -88  -88   88   -88    88   -88    88  -88    88   -88    88   -88    88   \n",
       "5     97  -97   97   -97   -97    97   -97  -97    97   -97   -97    97   -97   \n",
       "6   -100  100  100  -100  -100  -100   100  100  -100  -100  -100   100   100   \n",
       "7     98   98   98   -98    98    98   -98   98   -98   -98    98   -98   -98   \n",
       "8    -72  -72  -72    72    72    72   -72   72   -72   -72   -72    72    72   \n",
       "9     62  -62  -62    62   -62   -62    62   62   -62   -62    62   -62   -62   \n",
       "10   -90   90  -90    90   -90    90   -90  -90    90   -90    90   -90    90   \n",
       "11    90   90  -90    90    90   -90    90  -90    90   -90   -90    90   -90   \n",
       "12   -90  -90   90    90    90   -90   -90  -90   -90    90    90    90   -90   \n",
       "13    98  -98   98    98   -98    98    98  -98   -98    98   -98   -98    98   \n",
       "14  -104  104  104   104  -104  -104  -104  104   104   104  -104  -104  -104   \n",
       "15   100  100  100   100   100   100   100  100   100   100   100   100   100   \n",
       "\n",
       "    234   1234  \n",
       "0    -55    55  \n",
       "1    -53   -53  \n",
       "2     91   -91  \n",
       "3     94    94  \n",
       "4     88   -88  \n",
       "5     97    97  \n",
       "6   -100   100  \n",
       "7    -98   -98  \n",
       "8     72   -72  \n",
       "9     62    62  \n",
       "10   -90    90  \n",
       "11   -90   -90  \n",
       "12   -90    90  \n",
       "13   -98   -98  \n",
       "14   104  -104  \n",
       "15   100   100  "
      ]
     },
     "execution_count": 54,
     "metadata": {},
     "output_type": "execute_result"
    }
   ],
   "source": [
    "import numpy as np\n",
    "import pandas as pd # seção 5 \n",
    "def limpar_dados(dados): # Função parametrizada - > seção 4 \n",
    "    dados = dados.replace('\\t', ' ')\n",
    "    dados = dados.replace('\\n', ',')\n",
    "    dados = dados.split(sep=',')\n",
    "    dados = [[i] for i in dados]  # List comprehensions\n",
    "    return np.array([dados[j][0].split() for j in range(len(dados))]) # List comprehensions e função range()-> seção 3 e 4\n",
    "def gerar_df(dados):\n",
    "    columns = [1,2,3,4,12,13,14,23,24,34,123,124,134,234,1234]\n",
    "    return pd.DataFrame(limpar_dados(dados),columns=columns) #seção 5\n",
    "gerar_df(dados)"
   ]
  },
  {
   "cell_type": "markdown",
   "metadata": {
    "id": "oGIOPkI3IQwY"
   },
   "source": [
    "## <span style=\"color:purple\">  Parte 3 - Variáveis Compostas "
   ]
  },
  {
   "cell_type": "markdown",
   "metadata": {
    "id": "G0Ecj6dzNdp0"
   },
   "source": [
    "## <span style=\"color:purple\">  Uma abordagem breve sobre variáveis compostas\n",
    "---\n",
    "Variáveis compostas são coleções de itens, ou seja, são variáveis que podem armazenar vários tipos de variáveis em um único elemento. As coleções que apresentarei neste módulos será as listas e dicionários. As **listas** são coleções **mutáveis**, em outras palavras podem ser modificadas, adicionando, removendo e ordenando os seus itens."
   ]
  },
  {
   "cell_type": "markdown",
   "metadata": {
    "id": "JbNvs_fjOADR"
   },
   "source": [
    "### <span style=\"color:purple\"> list"
   ]
  },
  {
   "cell_type": "code",
   "execution_count": 57,
   "metadata": {
    "colab": {
     "base_uri": "https://localhost:8080/"
    },
    "id": "A50FEuzCN3yv",
    "outputId": "5d583feb-c120-41cb-f0f1-187a67e03b78"
   },
   "outputs": [
    {
     "name": "stdout",
     "output_type": "stream",
     "text": [
      "<class 'tuple'>\n"
     ]
    }
   ],
   "source": [
    "lista = [True, 2, 2.5, 'andre', [1,2,3], (2,3)]\n",
    "lista\n",
    "tuplas = True, 2, 2.5, 'andre', [1,2,3], (2,3)\n",
    "print(type(tuplas))"
   ]
  },
  {
   "cell_type": "markdown",
   "metadata": {
    "id": "QIFRdMhuOoro"
   },
   "source": [
    "#### index\n",
    "\n",
    "```\n",
    "\n",
    "index ->[0,1,2,3,4]\n",
    "\n",
    "lista = [1,2,3,4,5]\n",
    "\n",
    "index->[-5,-4,-3,-2,-1] \n",
    "\n",
    "lista[0]\n",
    ">>> 1\n",
    "\n",
    "lista[-1]\n",
    ">>> 5\n",
    "```\n",
    "\n"
   ]
  },
  {
   "cell_type": "code",
   "execution_count": 58,
   "metadata": {
    "id": "TaINlXj9Rea8"
   },
   "outputs": [
    {
     "data": {
      "text/plain": [
       "3"
      ]
     },
     "execution_count": 58,
     "metadata": {},
     "output_type": "execute_result"
    }
   ],
   "source": [
    "lista[3]\n",
    "lista[-1][1]"
   ]
  },
  {
   "cell_type": "markdown",
   "metadata": {
    "id": "GpYrlC9mOymX"
   },
   "source": [
    "#### slice\n",
    "\n",
    "```\n",
    "index ->[0,1,2,3,4]\n",
    "lista = [1,2,3,4,5]\n",
    "\n",
    "lista[0:3]\n",
    ">>> 1\n",
    "```\n"
   ]
  },
  {
   "cell_type": "code",
   "execution_count": 59,
   "metadata": {
    "colab": {
     "base_uri": "https://localhost:8080/"
    },
    "id": "UU2fQZGvYr3z",
    "outputId": "b0d3346e-1ac8-4ba2-82ec-14df7bbb960f"
   },
   "outputs": [
    {
     "data": {
      "text/plain": [
       "[1, 2, 3, 4]"
      ]
     },
     "execution_count": 59,
     "metadata": {},
     "output_type": "execute_result"
    }
   ],
   "source": [
    "lista = [1,2,3,4,5]\n",
    "lista[0:4]"
   ]
  },
  {
   "cell_type": "markdown",
   "metadata": {
    "id": "KNEBbr7KNoxH"
   },
   "source": [
    "#### Método append ()\n",
    "Retorna um valor para o final de uma lista"
   ]
  },
  {
   "cell_type": "code",
   "execution_count": 60,
   "metadata": {
    "colab": {
     "base_uri": "https://localhost:8080/"
    },
    "id": "Ma1tUEqwZfxL",
    "outputId": "aeb79028-ab69-435a-f244-313454bf71d7"
   },
   "outputs": [
    {
     "data": {
      "text/plain": [
       "[1, 2, 3, 4, 5, [1, 2, 3]]"
      ]
     },
     "execution_count": 60,
     "metadata": {},
     "output_type": "execute_result"
    }
   ],
   "source": [
    "lista.append([1,2,3])\n",
    "lista"
   ]
  },
  {
   "cell_type": "markdown",
   "metadata": {
    "id": "9pY0SheQPwh9"
   },
   "source": [
    "### <span style=\"color:purple\"> dict"
   ]
  },
  {
   "cell_type": "markdown",
   "metadata": {
    "id": "DsmWpF-7VEUv"
   },
   "source": [
    "#### Estrutura de dicionários:\n",
    "\n",
    "\n",
    "```\n",
    "#ESTRUTURA GENÉRICA:\n",
    "\n",
    "dict_ex = {'Key':value}\n",
    "\n",
    "dicionario = {'Nome': 'André', 'Idade': 25, 'Semestre': 9, 'Ano de ingresso':2017}\n",
    "\n",
    "# items:\n",
    ">>> 'Nome': 'André', 'Idade': 25, 'Semestre': 9, 'Ano de ingresso':2017\n",
    "\n",
    "# key:\n",
    ">>> 'Nome', 'Idade', 'Semestre', 'Ano de ingresso'\n",
    "\n",
    "# values:\n",
    ">>> 'André', 25, 9, 2017\n",
    "\n",
    "```\n",
    "\n"
   ]
  },
  {
   "cell_type": "code",
   "execution_count": 62,
   "metadata": {
    "colab": {
     "base_uri": "https://localhost:8080/"
    },
    "id": "YZjLxyUHRqwD",
    "outputId": "bdae571f-fcd1-46b5-e071-8c4f1ef6fc69"
   },
   "outputs": [
    {
     "data": {
      "text/plain": [
       "4"
      ]
     },
     "execution_count": 62,
     "metadata": {},
     "output_type": "execute_result"
    }
   ],
   "source": [
    "dicionario = {'Nome': 'André', 'Idade': 25, 'Semestre': 9, 'Ano de ingresso':2017}\n",
    "len(dicionario)"
   ]
  },
  {
   "cell_type": "markdown",
   "metadata": {
    "id": "EWbpdDjKXDki"
   },
   "source": [
    "#### Método items( )\n",
    "Retorna as itens do dicionário."
   ]
  },
  {
   "cell_type": "code",
   "execution_count": 63,
   "metadata": {
    "colab": {
     "base_uri": "https://localhost:8080/"
    },
    "id": "DFKZnVDzX882",
    "outputId": "89b3f562-3b65-4630-8600-05664377920a"
   },
   "outputs": [
    {
     "data": {
      "text/plain": [
       "dict_items([('Nome', 'André'), ('Idade', 25), ('Semestre', 9), ('Ano de ingresso', 2017)])"
      ]
     },
     "execution_count": 63,
     "metadata": {},
     "output_type": "execute_result"
    }
   ],
   "source": [
    "dicionario.items()"
   ]
  },
  {
   "cell_type": "markdown",
   "metadata": {
    "id": "eHr-1nfjXLXg"
   },
   "source": [
    "#### Método keys( )\n",
    "Retorna as chaves do dicionário.\n"
   ]
  },
  {
   "cell_type": "code",
   "execution_count": null,
   "metadata": {
    "colab": {
     "base_uri": "https://localhost:8080/"
    },
    "id": "xpghLuGOXb4j",
    "outputId": "8096b290-123f-420a-a3f9-45710850330e"
   },
   "outputs": [
    {
     "data": {
      "text/plain": [
       "dict_keys(['Nome', 'Idade', 'Semestre', 'Ano de ingresso'])"
      ]
     },
     "execution_count": 26,
     "metadata": {},
     "output_type": "execute_result"
    }
   ],
   "source": [
    "dicionario.keys()"
   ]
  },
  {
   "cell_type": "markdown",
   "metadata": {
    "id": "4f9byhAXXPVh"
   },
   "source": [
    "#### Método values( )\n",
    "Retorna os valores do dicionário."
   ]
  },
  {
   "cell_type": "code",
   "execution_count": null,
   "metadata": {
    "colab": {
     "base_uri": "https://localhost:8080/"
    },
    "id": "h4Cuj95vXvh4",
    "outputId": "4f9e3154-9cfd-469a-9395-fb99f588c1fc"
   },
   "outputs": [
    {
     "data": {
      "text/plain": [
       "dict_values(['André', 25, 9, 2017])"
      ]
     },
     "execution_count": 27,
     "metadata": {},
     "output_type": "execute_result"
    }
   ],
   "source": [
    "dicionario.values()"
   ]
  },
  {
   "cell_type": "markdown",
   "metadata": {
    "id": "Z6lv0xYAN5vP"
   },
   "source": [
    "#### Método get( )\n",
    "Recebe o nome da chave e retorna o seu repectivo valor. Caso o parâmetro inserido for inesxistente será retornado um NoneType\n"
   ]
  },
  {
   "cell_type": "code",
   "execution_count": null,
   "metadata": {
    "colab": {
     "base_uri": "https://localhost:8080/"
    },
    "id": "mVQOvM23QEno",
    "outputId": "5193cce9-add7-4569-c2ba-28abe7c9334a"
   },
   "outputs": [
    {
     "data": {
      "text/plain": [
       "NoneType"
      ]
     },
     "execution_count": 32,
     "metadata": {},
     "output_type": "execute_result"
    }
   ],
   "source": [
    "type(dicionario.get('Curso'))"
   ]
  },
  {
   "cell_type": "markdown",
   "metadata": {
    "id": "F8FH2y4RYDV2"
   },
   "source": [
    "#### Adicionando item ao dicionário"
   ]
  },
  {
   "cell_type": "code",
   "execution_count": null,
   "metadata": {
    "id": "bPgSCJbHNgAg"
   },
   "outputs": [],
   "source": [
    "dicionario['Curso']='Química'"
   ]
  },
  {
   "cell_type": "code",
   "execution_count": null,
   "metadata": {
    "id": "KhrTEsevTax1"
   },
   "outputs": [],
   "source": [
    "dicionario['CPF']=00000000000"
   ]
  },
  {
   "cell_type": "code",
   "execution_count": null,
   "metadata": {
    "colab": {
     "base_uri": "https://localhost:8080/"
    },
    "id": "DCx-LpseTmz1",
    "outputId": "992425aa-43d3-4a26-acb3-b8629a582d92"
   },
   "outputs": [
    {
     "data": {
      "text/plain": [
       "{'Ano de ingresso': 2017,\n",
       " 'CPF': 0,\n",
       " 'Curso': 'Química',\n",
       " 'Idade': 25,\n",
       " 'Nome': 'André',\n",
       " 'Semestre': 9}"
      ]
     },
     "execution_count": 36,
     "metadata": {},
     "output_type": "execute_result"
    }
   ],
   "source": [
    "composto_quimicos = [a,b,c,d]"
   ]
  },
  {
   "cell_type": "markdown",
   "metadata": {
    "id": "7uMgO3QLNvbi"
   },
   "source": [
    "## <span style=\"color:purple\"> Parte 4 - Função print()\n",
    "---"
   ]
  },
  {
   "cell_type": "markdown",
   "metadata": {
    "id": "prvggJssAzO2"
   },
   "source": [
    "## <span style=\"color:purple\">Função print()\n",
    "---\n",
    "- Imprime valores ou elementos no terminal do compilador\n"
   ]
  },
  {
   "cell_type": "markdown",
   "metadata": {
    "id": "1fT-9JUG8S5H"
   },
   "source": [
    "### <span style=\"color:purple\"> Exemplo 1 - Conversão de unidades milhas/kilometros\n",
    "Crie um programa que receba a distância em milhas e tempo (h) e imprima valores de distância em km, tempo em horas e a valocidade escalar média em km/h.\n",
    "\n",
    "```\n",
    "milhas = 1.60934*distancia \n",
    "```"
   ]
  },
  {
   "cell_type": "code",
   "execution_count": null,
   "metadata": {
    "colab": {
     "base_uri": "https://localhost:8080/"
    },
    "id": "oD_UUdTo-J-2",
    "outputId": "30ab6ff0-b075-4af8-e9d2-ad8f0c682589"
   },
   "outputs": [
    {
     "name": "stdout",
     "output_type": "stream",
     "text": [
      "10\n",
      "1\n",
      "10.0\n",
      "1.0\n",
      "16.0934\n"
     ]
    }
   ],
   "source": [
    "distancia = float(input())\n",
    "tempo = float(input())\n",
    "km = 1.60934*distancia \n",
    "v_media = km/tempo \n",
    "print(distancia)\n",
    "print(tempo)\n",
    "print(v_media)"
   ]
  },
  {
   "cell_type": "markdown",
   "metadata": {
    "id": "08T51I-lCRIS"
   },
   "source": [
    "### <span style=\"color:purple\"> Concatenação de variaveis na função print"
   ]
  },
  {
   "cell_type": "code",
   "execution_count": null,
   "metadata": {
    "colab": {
     "base_uri": "https://localhost:8080/"
    },
    "id": "h52AyVPd7OkS",
    "outputId": "5c44fe3f-305b-4863-beb2-f3753cbd1dc0"
   },
   "outputs": [
    {
     "name": "stdout",
     "output_type": "stream",
     "text": [
      "Distância: 10.0\n",
      "Tempo: 1.0\n",
      "Velocidade média 16.0934\n"
     ]
    }
   ],
   "source": [
    "print('Distância:', distancia )\n",
    "print('Tempo:',tempo)\n",
    "print('Velocidade média', v_media)"
   ]
  },
  {
   "cell_type": "markdown",
   "metadata": {
    "id": "l2ybtizyCcpA"
   },
   "source": [
    "### <span style=\"color:purple\"> Método 'f'"
   ]
  },
  {
   "cell_type": "code",
   "execution_count": null,
   "metadata": {
    "colab": {
     "base_uri": "https://localhost:8080/"
    },
    "id": "QeKzlURXC71w",
    "outputId": "1222db09-11f1-4023-fc8c-7e645f310956"
   },
   "outputs": [
    {
     "name": "stdout",
     "output_type": "stream",
     "text": [
      "Distância: 10.0\n",
      "Tempo:' 1.0\n",
      "Velocidade média' 16.0934\n"
     ]
    }
   ],
   "source": [
    "print(f\"Distância: {distancia}\")\n",
    "print(f\"Tempo:' {tempo}\")\n",
    "print(f\"Velocidade média' {v_media}\")"
   ]
  },
  {
   "cell_type": "code",
   "execution_count": null,
   "metadata": {
    "id": "u8lYcEdy8jI0"
   },
   "outputs": [],
   "source": []
  },
  {
   "cell_type": "markdown",
   "metadata": {
    "id": "_WY_d_A3C5po"
   },
   "source": [
    "### <span style=\"color:purple\"> Método .format()"
   ]
  },
  {
   "cell_type": "code",
   "execution_count": null,
   "metadata": {
    "colab": {
     "base_uri": "https://localhost:8080/"
    },
    "id": "K2a6IoPuDp7u",
    "outputId": "1ca3985b-0577-4a40-e3bf-65cd7253a540"
   },
   "outputs": [
    {
     "name": "stdout",
     "output_type": "stream",
     "text": [
      "Distância: 10.0, 1.0\n",
      "Tempo:' 1.0\n",
      "Velocidade média' 16.0934\n"
     ]
    }
   ],
   "source": [
    "print(\"Distância: {}, {}\".format(distancia,tempo))\n",
    "print(\"Tempo:' {}\".format(tempo))\n",
    "print(\"Velocidade média' {}\".format(v_media))"
   ]
  },
  {
   "cell_type": "markdown",
   "metadata": {
    "id": "AzszKCzt2nNK"
   },
   "source": [
    "### <span style=\"color:purple\"> %s | %f | %d"
   ]
  },
  {
   "cell_type": "code",
   "execution_count": null,
   "metadata": {
    "colab": {
     "base_uri": "https://localhost:8080/"
    },
    "id": "lLncs0y8Ea5K",
    "outputId": "c60943e1-d855-4c84-9336-1229d3bff392"
   },
   "outputs": [
    {
     "name": "stdout",
     "output_type": "stream",
     "text": [
      "Distância: 10\n",
      "Tempo:' 1\n",
      "Velocidade média' 16.1\n",
      "A distãncia percorrida foi de 10 km e sua respectiva velocidade média foi de 16.09 km/h\n"
     ]
    }
   ],
   "source": [
    "print(\"Distância: %d\"%distancia)\n",
    "print(\"Tempo:' %d\"%tempo)\n",
    "print(\"Velocidade média' %.1f\"%v_media)\n",
    "print('A distãncia percorrida foi de %d km e sua respectiva velocidade média foi de %.2f km/h'%(distancia, v_media))"
   ]
  },
  {
   "cell_type": "markdown",
   "metadata": {
    "id": "00dHMx1kf75J"
   },
   "source": [
    "#Parte 5 -> seção 1"
   ]
  },
  {
   "cell_type": "markdown",
   "metadata": {
    "id": "KBXYIPtCERrs"
   },
   "source": [
    "## <span style=\"color:purple\"> Função input() \n",
    "---\n",
    "- insere dados ao programa\n",
    "- Estrutura: _tipodevariavel_input_informação\n",
    "\\\n",
    "Função input( ): https://docs.python.org/3/library/functions.html#input"
   ]
  },
  {
   "cell_type": "code",
   "execution_count": null,
   "metadata": {
    "colab": {
     "base_uri": "https://localhost:8080/"
    },
    "id": "mGbujLGhfYgI",
    "outputId": "9a16cb49-e91e-4b93-889a-1094fee6672b"
   },
   "outputs": [
    {
     "name": "stdout",
     "output_type": "stream",
     "text": [
      "Digite um valor: 15\n"
     ]
    }
   ],
   "source": [
    "a = int(input('Digite um valor: '))"
   ]
  },
  {
   "cell_type": "code",
   "execution_count": null,
   "metadata": {
    "colab": {
     "base_uri": "https://localhost:8080/"
    },
    "id": "QBvUrwhXfgVY",
    "outputId": "512e3c2e-53cb-49c5-8ad0-4c5e75e37675"
   },
   "outputs": [
    {
     "data": {
      "text/plain": [
       "int"
      ]
     },
     "execution_count": 102,
     "metadata": {},
     "output_type": "execute_result"
    }
   ],
   "source": [
    "type(a)"
   ]
  },
  {
   "cell_type": "markdown",
   "metadata": {
    "id": "o_syoBXvEfXx"
   },
   "source": [
    "### <span style=\"color:purple\"> Exemplo 1 - Construção de tanque cilídrico inox\n",
    "**Construa um programa que leia diâmetro e altura de um cilíndro e retorna o usuário valor e metragem das chapas inox necessárias para construção do cilindro.**\n",
    "- Preço por m² da chapa: R$580,00\n",
    "- A empresa realiza cortes circulares\n",
    "\\\n",
    "Biblioteca Math: https://pypi.org/project/python-math/"
   ]
  },
  {
   "cell_type": "code",
   "execution_count": null,
   "metadata": {
    "colab": {
     "base_uri": "https://localhost:8080/"
    },
    "id": "GuGdEFqrgl0u",
    "outputId": "dfa00f58-d133-4940-b009-a4d954f5b3f8"
   },
   "outputs": [
    {
     "name": "stdout",
     "output_type": "stream",
     "text": [
      "Requirement already satisfied: python-math in /usr/local/lib/python3.7/dist-packages (0.0.1)\n"
     ]
    }
   ],
   "source": [
    "!pip install python-math"
   ]
  },
  {
   "cell_type": "code",
   "execution_count": 64,
   "metadata": {
    "id": "Sz_y_SNzgtpU"
   },
   "outputs": [],
   "source": [
    "import math"
   ]
  },
  {
   "cell_type": "code",
   "execution_count": 65,
   "metadata": {
    "colab": {
     "base_uri": "https://localhost:8080/"
    },
    "id": "uLbuKGhbgxol",
    "outputId": "5aeb020b-3bf5-4855-8eb6-4a0bf9d65ee9"
   },
   "outputs": [
    {
     "data": {
      "text/plain": [
       "3.141592653589793"
      ]
     },
     "execution_count": 65,
     "metadata": {},
     "output_type": "execute_result"
    }
   ],
   "source": [
    "pi = math.pi\n",
    "pi"
   ]
  },
  {
   "cell_type": "code",
   "execution_count": 66,
   "metadata": {
    "colab": {
     "base_uri": "https://localhost:8080/"
    },
    "id": "GlmsRD8PYVf1",
    "outputId": "3b8ce462-0dab-4fd1-ce29-fe327bc1429e"
   },
   "outputs": [
    {
     "name": "stdout",
     "output_type": "stream",
     "text": [
      "Qual é a altura? Em metros. 1\n",
      "Qual é o diãmetro? Em metros 1\n",
      "A área total das chapas: 2.57\n",
      "Preço total das chapas: R$ 1490.6\n"
     ]
    }
   ],
   "source": [
    "h = float(input('Qual é a altura? Em metros. '))\n",
    "d = float(input('Qual é o diãmetro? Em metros '))\n",
    "\n",
    "area_l = h*2*(d/2)\n",
    "area_b = 2*(pi*(d/2)**2)\n",
    "area_t = round(area_l + area_b, 2)\n",
    "\n",
    "valor = 580 \n",
    "valor_t = round(valor*area_t, 2)\n",
    "\n",
    "print(f\"A área total das chapas: {area_t}\")\n",
    "print('Preço total das chapas: R$ {}'.format(valor_t))\n"
   ]
  },
  {
   "cell_type": "markdown",
   "metadata": {
    "id": "AV7oL0A_Ib-O"
   },
   "source": [
    "### <span style=\"color:purple\">Exemplo 2 - Custos e ganhos de um funcionário\n",
    "**Receba o salário-base de um funcionário. Calcule e imprima o valor do salário-base considerando 7% de bônus de gratificação e o desconto de 7% de imposto sob estes ganhos.** "
   ]
  },
  {
   "cell_type": "code",
   "execution_count": null,
   "metadata": {
    "colab": {
     "base_uri": "https://localhost:8080/"
    },
    "id": "PNCc-Bqc8Mqh",
    "outputId": "11a8ab17-149c-4eac-acce-430c72c880ac"
   },
   "outputs": [
    {
     "name": "stdout",
     "output_type": "stream",
     "text": [
      "Qual salário-base? Em R$ 1200\n",
      "O valor bruto a ser ganho é de R$ 1284.00, enquanto seu valor líquido é de R$ 1194.12\n"
     ]
    }
   ],
   "source": [
    "salario = float(input('Qual salário-base? Em R$ '))\n",
    "ganhos_b = salario*1.07\n",
    "ganhos_t = ganhos_b - 0.07*(ganhos_b)\n",
    "print('O valor bruto a ser ganho é de R$ %.2f, enquanto seu valor líquido é de R$ %.2f'%(ganhos_b, ganhos_t))"
   ]
  },
  {
   "cell_type": "markdown",
   "metadata": {
    "id": "WrrKKl6zIF0R"
   },
   "source": [
    "## <span style=\"color:darkred\">**DESAFIO I - Aquecimento de água em um tanque**"
   ]
  },
  {
   "cell_type": "markdown",
   "metadata": {
    "id": "UyPb4m5dIO4I"
   },
   "source": [
    "**Construa um programa que forneça o tamanho do diâmetro e altura de uma caldeira cilíndrica contendo água pura e imprima quanto de calor seria necessário para aquecê-la de 25 °C até 80ºC, desprezando efeitos dissipativos. Dados: calor específico da água =  1 cal/g ºC. e massa específica = 1000 kg/m³**\\\n",
    "Q = m.c.deltaT"
   ]
  },
  {
   "cell_type": "code",
   "execution_count": null,
   "metadata": {
    "colab": {
     "base_uri": "https://localhost:8080/"
    },
    "id": "jixvNBpCINbx",
    "outputId": "396f5613-8dac-4e4e-c11e-07a2ae50ed76"
   },
   "outputs": [
    {
     "name": "stdout",
     "output_type": "stream",
     "text": [
      "Qual é o diâmetro da caldeira? Em metros.5\n",
      "Qual é a altura da caldeira? Em metros.2\n",
      "Volume de água: 39.27 m²\n",
      "Massa de água: 39270.0 kg\n",
      "Calor necessário: 2159850.0 cal\n"
     ]
    }
   ],
   "source": [
    "import math \n",
    "pi = math.pi\n",
    "\n",
    "d = float(input('Qual é o diâmetro da caldeira? Em metros.'))\n",
    "h = float(input('Qual é a altura da caldeira? Em metros.'))\n",
    "\n",
    "densidade = 1000\n",
    "calor_s = 1\n",
    "volume = round(h*(((d/2)**2)*pi), 2)\n",
    "massa = round(densidade*volume, 2)\n",
    "\n",
    "q = round(massa*calor_s*(80-25), 2)\n",
    "\n",
    "print(f\"Volume de água: {volume} m²\")\n",
    "print(f\"Massa de água: {massa} kg\")\n",
    "print(f\"Calor necessário: {q} cal\")"
   ]
  },
  {
   "cell_type": "markdown",
   "metadata": {
    "id": "DHV26jG1G7Ha"
   },
   "source": [
    "## <span style=\"color:darkred\"> **DESAFIO II - Salmoura em uma caldeira**\n",
    "Construa um programa que leia as dimensões de uma caldeira cilíndrica e a concentração de NaCl (em % m/m) necessária. Retorne o valor do volume da caldeira e a quantidade em kilogramas de NaCl. \n",
    "- Lembrando que a solução máxima do cloreto de sódio em água é de 36% em 25 ºC\n",
    "\n",
    "\n",
    "\n",
    "```\n",
    "massa_sal = Concentração(%)*massa_agua\n",
    "```\n",
    "\n",
    "\n"
   ]
  },
  {
   "cell_type": "code",
   "execution_count": null,
   "metadata": {
    "colab": {
     "base_uri": "https://localhost:8080/"
    },
    "id": "EebFSOhimZHL",
    "outputId": "9a4d4271-55fe-413a-97b1-a3b3aeb3f632"
   },
   "outputs": [
    {
     "name": "stdout",
     "output_type": "stream",
     "text": [
      "Qual é o diâmetro da caldeira? Em metros.2\n",
      "Qual é a altura da caldeira? Em metros.0.7\n",
      "Qual é a concentração do sal? Em % (m/m) 15\n",
      "========================================\n",
      "Massa de água total: 2199.11\n",
      "Massa de cloreto de sódio: 32986.72\n",
      "========================================\n"
     ]
    }
   ],
   "source": [
    "import math \n",
    "pi = math.pi\n",
    "\n",
    "d = float(input('Qual é o diâmetro da caldeira? Em metros.'))\n",
    "h = float(input('Qual é a altura da caldeira? Em metros.'))\n",
    "conc = float(input('Qual é a concentração do sal? Em % (m/m) '))\n",
    "\n",
    "\n",
    "densidade = 1000\n",
    "volume = h*(((d/2)**2)*pi)\n",
    "massa = densidade*volume\n",
    "\n",
    "massa_sal = conc*massa\n",
    "\n",
    "print('='*40)\n",
    "print('Massa de água total: %.2f'%massa)\n",
    "print('Massa de cloreto de sódio: %.2f'%massa_sal)\n",
    "print('='*40)"
   ]
  }
 ],
 "metadata": {
  "colab": {
   "collapsed_sections": [],
   "name": "Aula1- variáveis, operadores matematicos, input() e print().ipynb",
   "provenance": []
  },
  "kernelspec": {
   "display_name": "Python 3",
   "language": "python",
   "name": "python3"
  },
  "language_info": {
   "codemirror_mode": {
    "name": "ipython",
    "version": 3
   },
   "file_extension": ".py",
   "mimetype": "text/x-python",
   "name": "python",
   "nbconvert_exporter": "python",
   "pygments_lexer": "ipython3",
   "version": "3.8.8"
  }
 },
 "nbformat": 4,
 "nbformat_minor": 1
}
