{
 "cells": [
  {
   "cell_type": "markdown",
   "metadata": {
    "id": "h6TwuYC9WR2d"
   },
   "source": [
    "\n",
    "# Estruturas de decisão\n",
    "Na construção de algorítimos é comum nos depararmos com uma situação onde se deve analisar um **conjunto de condições** para uma **tomada de ações**. Estruturas de decisão são estruturas que criam uma condição lógica para que um determinado comando seja realizado. Vamos aplicar abaixo um exemplo em um programa que avalia a classificação de idade de um indivíduo através da estrutura **if** e **else**: \n",
    "\n",
    "\n",
    "\n",
    "\\\n",
    "Antes de começar, quero informar ao leitor que nesta segunda seção teremos o primeiro contato do uso das **bibliotecas** System-specific parameters and functions (**sys**), **math** e **numpy** para realizar alguns comandos ao decorrer dos exemplos. Este recurso julgo o mais importante, pois a linguagem Python não podemos perder tempo \"inventando a roda\", construindo algorítimos desnecessário. Dessa forma, utilizarei aos poucos diferentes bibliotecas aula-em-aula para evitar uma condução massante do conteúdo do curso.\\\n",
    "\\\n",
    "__BOA AULA!__\n",
    "\n"
   ]
  },
  {
   "cell_type": "code",
   "execution_count": 1,
   "metadata": {
    "scrolled": true
   },
   "outputs": [
    {
     "name": "stdout",
     "output_type": "stream",
     "text": [
      "18\n",
      "Maior de idade\n"
     ]
    }
   ],
   "source": [
    "idade = int(input())\n",
    "if idade < 18:\n",
    "    print('Menor de idade')\n",
    "else:\n",
    "    print('Maior de idade')"
   ]
  },
  {
   "cell_type": "markdown",
   "metadata": {
    "id": "mS4iIIXOaRU5"
   },
   "source": [
    "## Exemplo 1: Ímpar ou Par\n",
    "Construa um programa que leia um valor e determine se este é ímpar ou par."
   ]
  },
  {
   "cell_type": "code",
   "execution_count": 2,
   "metadata": {
    "colab": {
     "base_uri": "https://localhost:8080/"
    },
    "id": "rxpzDFSVLaU7",
    "outputId": "2b6b9dd6-66a2-49f0-c490-dd5d9b672a61"
   },
   "outputs": [
    {
     "name": "stdout",
     "output_type": "stream",
     "text": [
      "6\n",
      "Número par\n"
     ]
    }
   ],
   "source": [
    "num = int(input())\n",
    "if num % 2 == 0:\n",
    "    print('Número par')\n",
    "else:\n",
    "    print('Número ímpar')"
   ]
  },
  {
   "cell_type": "markdown",
   "metadata": {
    "id": "1sLGKYVxaj3j"
   },
   "source": [
    "## Exemplo 2: Avaliação de um aluno \n",
    "### Uso do \"elif\"\n",
    "Construa um programa que leia as notas da P1, P2 e P3 e avalie se aluno está aprovado, recuperação ou reprovado. A P3 possui peso 2.\n",
    "- Aprovado Nf > 6\n",
    "- Recuperação 5 <= Nf <= 6 \n",
    "- Reprovado Nf < 6\n",
    "\n",
    "$Nf = \\frac{(P1 + P2 + 2P3)}{4}$\n",
    "\n",
    "\n",
    ">"
   ]
  },
  {
   "cell_type": "code",
   "execution_count": 3,
   "metadata": {
    "colab": {
     "base_uri": "https://localhost:8080/"
    },
    "id": "aKmiM6IYfoJW",
    "outputId": "14d6fa13-b767-4ae5-f95b-486d8b19f456",
    "scrolled": true
   },
   "outputs": [
    {
     "name": "stdout",
     "output_type": "stream",
     "text": [
      "Nota da prova 1: 4\n",
      "Nota da prova 2: 5\n",
      "Nota da prova 3: 8\n",
      "A média do aluno é de 6.25\n",
      "Aprovado\n"
     ]
    }
   ],
   "source": [
    "p1 = float(input('Nota da prova 1: '))\n",
    "p2 = float(input('Nota da prova 2: '))\n",
    "p3 = float(input('Nota da prova 3: '))\n",
    "\n",
    "media = (p1+p2+2*p3)/4\n",
    "\n",
    "print('A média do aluno é de {}'.format(media))\n",
    "if media > 6:\n",
    "    print('Aprovado')\n",
    "elif media >= 5 and media <=6:\n",
    "    print('O aluno está de recuperação')\n",
    "else:\n",
    "    print('Reprovado')"
   ]
  },
  {
   "cell_type": "markdown",
   "metadata": {
    "id": "hYHgxBvQKUv4"
   },
   "source": [
    "## Exemplo 3: Resolução de Equação de segundo grau"
   ]
  },
  {
   "cell_type": "markdown",
   "metadata": {},
   "source": [
    "**Construa um programa para resolução de equação do segundo grau utilizando a fórmula de Bhaskara, onde indica ao usuário as seguintes mensagens.**\n",
    "\\\n",
    "\\\n",
    "$$\n",
    "\\textbf {Equação de Bhaskara}\\\\\n",
    "$$\n",
    "$$\n",
    "\\Delta=b^2-4ac\n",
    "$$\n",
    "\\\n",
    "$$\n",
    "x = \\frac{-b\\pm\\sqrt\\Delta}{2a}\n",
    "$$\n",
    "\\\n",
    "$$\n",
    "\\Delta > 0\\text{,}\\quad \\text{ há solução real}\n",
    "$$\n",
    "\\\n",
    "$$\n",
    "\\Delta = 0\\text{,}\\quad \\text{ há solução real}\n",
    "$$\n",
    "\\\n",
    "$$\n",
    "\\Delta < 0\\text{,}\\quad \\text{ não há solução real}\n",
    "$$"
   ]
  },
  {
   "cell_type": "code",
   "execution_count": 4,
   "metadata": {
    "id": "KM2NV4aCKKcW"
   },
   "outputs": [
    {
     "name": "stdout",
     "output_type": "stream",
     "text": [
      "Coeficiente a: 1\n",
      "Coeficiente b: 5\n",
      "Coeficiente c: 3\n",
      "Há duas soluções reais, x1 = -0.7 e x2 = -4.3\n"
     ]
    }
   ],
   "source": [
    "import sys\n",
    "a = float(input('Coeficiente a: '))\n",
    "if a == 0:\n",
    "    print('Não se trata de uma equação de segundo grau')\n",
    "    sys.exit()\n",
    "b = float(input('Coeficiente b: '))\n",
    "c = float(input('Coeficiente c: '))\n",
    "delta = (b**2)-4*a*c\n",
    "if delta<0:\n",
    "    print('Não há uma solução real')\n",
    "elif delta == 0:\n",
    "    x = -b/2*a\n",
    "    print('Há uma solução real, x = %.1f'%x)\n",
    "else:\n",
    "    x1 = (-b+(delta**0.5))/2*a\n",
    "    x2 = (-b-(delta**0.5))/2*a\n",
    "    print('Há duas soluções reais, x1 = %.1f e x2 = %.1f'%(x1,x2))"
   ]
  },
  {
   "cell_type": "markdown",
   "metadata": {
    "id": "EiCrkHdWezrL"
   },
   "source": [
    "## DESAFIO 1: Escala de pH\n",
    "Construa um programa que recebe o valor da concentração de H3O+ e determine o seu valor de pH e se a suposta solução é ácida, básica ou neutra. Lembre-se que:\n",
    "\n",
    "$pH=-log[H_3O^+]$\n",
    "\n",
    "\n",
    "Utilize as bibliotecas **math** e **numpy**, caso achar necessário na resolução do exercício, pesquise na documentação utilizando os links oferecidos."
   ]
  },
  {
   "cell_type": "code",
   "execution_count": 5,
   "metadata": {},
   "outputs": [
    {
     "name": "stdout",
     "output_type": "stream",
     "text": [
      "Concentração de hidroxônio (mol/L):  2\n",
      "pH = -0.30, solução ácida.\n"
     ]
    }
   ],
   "source": [
    "import numpy as np \n",
    "conc = float(input('Concentração de hidroxônio (mol/L):  '))\n",
    "\n",
    "pH = -np.log10(conc)\n",
    "\n",
    "if pH == 7: \n",
    "    print('pH = %.2f, solução neutra.'%pH)\n",
    "elif pH > 7:\n",
    "    print('pH = %.2f, solução básica.'%pH)\n",
    "else:\n",
    "    print('pH = %.2f, solução ácida.'%pH)"
   ]
  },
  {
   "cell_type": "markdown",
   "metadata": {},
   "source": [
    "## **DESAFIO 2 - Salmoura em uma caldeira**\n",
    "Construa um programa que leia as dimensões de uma caldeira cilíndrica e a concentração de NaCl (em % m/m) necessária. Retorne o valor do volume da caldeira e a quantidade em kilogramas de NaCl. Caso a concentração de sal for superior à 36%, calcule e imprime o valor de sal precipitado na caldeira.\n",
    "- Lembrando que a solução máxima do cloreto de sódio em água é de 36% em 25 ºC\n",
    "\n"
   ]
  },
  {
   "cell_type": "code",
   "execution_count": 6,
   "metadata": {},
   "outputs": [
    {
     "name": "stdout",
     "output_type": "stream",
     "text": [
      "Qual é o diâmetro da caldeira? Em metros.1\n",
      "Qual é a altura da caldeira? Em metros.5\n",
      "Qual é a concentração do sal? Em % (m/m) 2\n",
      "========================================\n",
      "Massa de água total: 3926.99 kg\n",
      "Massa de cloreto de sódio em solução: 78.54 kg\n",
      "========================================\n"
     ]
    }
   ],
   "source": [
    "import math \n",
    "pi = math.pi\n",
    "\n",
    "d = float(input('Qual é o diâmetro da caldeira? Em metros.'))\n",
    "h = float(input('Qual é a altura da caldeira? Em metros.'))\n",
    "conc = float(input('Qual é a concentração do sal? Em % (m/m) '))\n",
    "\n",
    "conc /= 100\n",
    "densidade = 1000\n",
    "volume = h*(((d/2)**2)*pi)\n",
    "massa = densidade*volume\n",
    "\n",
    "massa_sal = conc*massa\n",
    "\n",
    "if conc <0.36:\n",
    "    print('='*40)\n",
    "    print('Massa de água total: %.2f kg'%massa)\n",
    "    print('Massa de cloreto de sódio em solução: %.2f kg'%massa_sal)\n",
    "    print('='*40)\n",
    "else: \n",
    "    massa_ppt = (conc - 0.36)*massa \n",
    "    print('='*40)\n",
    "    print('Massa de água total: %.2f'%massa)\n",
    "    print('Massa de cloreto de sódio em solução: %.2f kg'%massa_sal)\n",
    "    print('Massa de cloreto de sódio precipitado: %.2f kg'%massa_ppt)\n",
    "    print('='*40)"
   ]
  },
  {
   "cell_type": "markdown",
   "metadata": {
    "id": "ulHvp8YOZOPH"
   },
   "source": [
    "## DESAFIO EXTRA: Cálculo de pH parte II \n",
    "__Construa um programa leia os valores da constante ácida e concetração molar, então calcule o pH considerando as seguintes condições:__\\\n",
    "\n",
    "- para ácidos fortes, em concentrações acima de 1E10-6 mol/l. \n",
    "\n",
    "- para ácidos fracos, em concentrações acima de 1E10-6 mol/l. \n",
    "\n",
    "- para ácidos fortes, em concetntrações abaixo de 1E10-6 mol/l (considerar efeito de autoprotólise).\n",
    "\n",
    "__Classifique:__\\\n",
    "\\\n",
    "$$\n",
    "Ka>1\\quad\\text{para ácidos fortes}\n",
    "$$\n",
    "\\\n",
    "$$\n",
    "Ka<1\\quad\\text{para ácidos fracos}\n",
    "$$\n",
    "__Dados do Problema__\n",
    "\n",
    "$pH=-log[H_3O^+]$\\\n",
    "$k_w=10^{-14}$\\\n",
    "$[H_3O^+]^2-[HCl]_{inicial}[H_3O^+]-K_w=0$\\\n",
    "$[H_3O^+]\\approx\\sqrt{[HA]K_a}\\text{,}\\quad\\text{assumindo}\\quad[HA]> >[H_3O^+]$\n"
   ]
  },
  {
   "cell_type": "code",
   "execution_count": 9,
   "metadata": {
    "colab": {
     "base_uri": "https://localhost:8080/",
     "height": 537
    },
    "id": "DBWyeoJdR8LF",
    "outputId": "f94ffde9-7136-4a8a-ab8d-33b9b11b4496"
   },
   "outputs": [
    {
     "name": "stdout",
     "output_type": "stream",
     "text": [
      "Constante ácida (Ka): 1\n",
      "Concentração, em mol/L: 2\n",
      "Ácido fraco sem efeitos de autoprotólise, -0.150\n"
     ]
    }
   ],
   "source": [
    "import math  #importação da biblioteca math\n",
    "ka = float(input('Constante ácida (Ka): '))  #leitura de dados utilzando o comando input\n",
    "conc = float(input('Concentração, em mol/L: '))  #leitura de dados utilzando o comando input\n",
    "if ka > 1:  #ka>1 engloba ácidos fortes\n",
    "    if conc >= 1e-6:  #1e-6 é maior que 0, é desconsiderado efeitos de protólise\n",
    "        pH = -math.log(conc,10)  #resolução do desafio 1\n",
    "        print(f'Ácido forte sem efeitos de autoprotólise, pH =  %.3f'%pH)  #resultado para ocasião 1\n",
    "    else:  #1e-6 é menor que 0, portanto, considera-se efeitos de protólise\n",
    "        a = 1\n",
    "        b = -conc\n",
    "        c = -1e-14\n",
    "    if a == 0: \n",
    "        print('Equação de segundo grau inexistente')\n",
    "    else:\n",
    "        delta = (b**2)-(4*a*c)\n",
    "        if delta > 0:\n",
    "            x1 = (-b+(delta**0.5))/(2*a)\n",
    "            x2 = (-b-(delta**0.5))/(2*a)\n",
    "        if x1>=0:  #esta estrutura de decisão seleciona somente valores positivos\n",
    "            pH = -1*math.log(x1,10)\n",
    "            print(f'Ácido forte com efeitos de autoprotólise, pH =  %.3f'%pH)  #resultado para ocasião 2\n",
    "        elif x2>=0:\n",
    "            pH = -1*math.log(x2,10)\n",
    "            print(f'Ácido forte com efeitos de autoprotólise, pH =  %.3f'%pH)  #resultado para ocasião 2\n",
    "        else: \n",
    "            print('Não há resolução')\n",
    "        if delta == 0:\n",
    "            x1 = -b/2*a\n",
    "        if x1>=0: #esta estrutura de decisão seleciona somente valores positivos\n",
    "            pH = -1*math.log(x1,10)\n",
    "            print(f'Ácido forte com efeitos de autoprotólise3, pH =  %.3f'%pH)  #resultado para ocasião 2\n",
    "        else:\n",
    "            print('Não há resolução')\n",
    "else:  #ka<1 engloba ácidos fracos\n",
    "    h30 = (conc*ka)**0.5\n",
    "    pH = round(-1*math.log(h30,10),2)\n",
    "    print(f'Ácido fraco sem efeitos de autoprotólise, %.3f'%pH)  #resultado para ocasião 3"
   ]
  },
  {
   "cell_type": "markdown",
   "metadata": {
    "id": "e0sWuTIaYoH5"
   },
   "source": [
    "# Links Úteis\n",
    "Segue os links com as bibliotecas utilizadas nesta aula. O uso deste tipo de marterial é essencial, uma vez que você poderá explorar todos recursos disponíveis da biblioteca. Aqui no curso de Python Básico apresentarei os principais comandos, infelizmente, no entanto, não será possível apresentar tudo que elas podem oferecer. Com isso, espero que seja habitual o uso dos links de documentações quando houver dúvidas. \\\n",
    "\\\n",
    "SYSTEM-SPECIFIC PARAMETER AND FUNCTIONS (sys):\\\n",
    "https://docs.python.org/3/library/sys.html\n",
    "\\\n",
    "MATH:\\\n",
    "https://docs.python.org/3/library/math.html\n",
    "\\\n",
    "NUMPY:\\\n",
    "https://numpy.org/doc/stable/user/index.html#user\n",
    "\\\n",
    "PANDAS:\\\n",
    "https://pandas.pydata.org/docs/user_guide/10min.html"
   ]
  }
 ],
 "metadata": {
  "colab": {
   "collapsed_sections": [],
   "name": "Aula2 - Estruturas de decisão.ipynb",
   "provenance": [],
   "toc_visible": true
  },
  "kernelspec": {
   "display_name": "Python 3",
   "language": "python",
   "name": "python3"
  },
  "language_info": {
   "codemirror_mode": {
    "name": "ipython",
    "version": 3
   },
   "file_extension": ".py",
   "mimetype": "text/x-python",
   "name": "python",
   "nbconvert_exporter": "python",
   "pygments_lexer": "ipython3",
   "version": "3.8.8"
  }
 },
 "nbformat": 4,
 "nbformat_minor": 1
}
