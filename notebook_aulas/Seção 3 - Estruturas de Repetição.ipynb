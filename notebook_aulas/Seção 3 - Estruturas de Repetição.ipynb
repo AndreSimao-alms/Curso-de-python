{
 "cells": [
  {
   "cell_type": "markdown",
   "metadata": {
    "id": "nK9TbVE_A02p"
   },
   "source": [
    "# COMANDO WHILE\n",
    "Responsável de executar um conjuntos de comandos, o fim do loop se encerrará quando uma condição predeterminada ser atendida. Este tipo de comando nos permite realizar um conjunto de comandos inúmeras vezes, de modo que podemos coletar os dados do usuário para manter esse sistema de repetição. Nesta seção veremos as aplicações da estrutura while para criação de sequências numéricas e para coleta de dados continuada para realização de tarefas específicas."
   ]
  },
  {
   "cell_type": "markdown",
   "metadata": {
    "id": "9VAk5dhKh9Bn"
   },
   "source": [
    "##  Sintaxe de condição numérica\n",
    "__Forma de utilizar o comando while de modo que é predeterminado um número específico de execuções do loop.__"
   ]
  },
  {
   "cell_type": "markdown",
   "metadata": {
    "id": "Jx3DN2SKQSWE"
   },
   "source": [
    "###  Exemplo 1: Sequências númericas:\n",
    "\n",
    "Construa um programa que leia o número de termos das sequência abaixo e retorne respectivamente com o valor de sua soma.\n",
    "\n",
    "$$\n",
    "1+2+3+4+5...\n",
    "$$\n",
    "\\\n",
    "$$\n",
    "1-2+3-4+5... \n",
    "$$\n",
    "\\\n",
    "$$\n",
    "1-3+5-7+9...\n",
    "$$"
   ]
  },
  {
   "cell_type": "code",
   "execution_count": 4,
   "metadata": {},
   "outputs": [
    {
     "name": "stdout",
     "output_type": "stream",
     "text": [
      "20\n",
      "[1, 2, 3, 4, 5, 6, 7, 8, 9, 10, 11, 12, 13, 14, 15, 16, 17, 18, 19, 20]\n"
     ]
    }
   ],
   "source": [
    "termos = int(input())\n",
    "serie1 = list()\n",
    "i = 0\n",
    "while (i<termos):\n",
    "    i += 1\n",
    "    serie1.append(i)\n",
    "print(serie1)"
   ]
  },
  {
   "cell_type": "markdown",
   "metadata": {},
   "source": [
    "Note que neste primeiro exemplo precisamos de um contador `i` para definir a condição numérica e dentro da estrutura while foi inserido a operação `i += 1` para gerar a sequência numérica. Na segunda sequência, precisa-se de um novo contador para ser o expoente na sequência alternada, observe que a soma do contador `n` foi escrito na última linha do código."
   ]
  },
  {
   "cell_type": "code",
   "execution_count": 12,
   "metadata": {},
   "outputs": [
    {
     "name": "stdout",
     "output_type": "stream",
     "text": [
      "10\n",
      "[1, -2, 3, -4, 5, -6, 7, -8, 9, -10]\n"
     ]
    }
   ],
   "source": [
    "termos = int(input())\n",
    "serie2 = list()\n",
    "i = 0\n",
    "n = 0\n",
    "while (i<termos):\n",
    "    i += 1\n",
    "    serie2.append(i*(-1)**n)\n",
    "    n += 1\n",
    "print(serie2)"
   ]
  },
  {
   "cell_type": "markdown",
   "metadata": {},
   "source": [
    "Agora vamos aplicar o mesmo raciocínio, só que neste momento vamos selecionar os valores ímpares. Durante o vídeo eu demonstrei um raciocínio utilizando a equação `I = 2n + 1`, porém aqui nesta apostila de acompanhamento deixo o código mais enxuto utilizando um comando de seleção."
   ]
  },
  {
   "cell_type": "code",
   "execution_count": 14,
   "metadata": {
    "colab": {
     "base_uri": "https://localhost:8080/"
    },
    "id": "I363YMvpSs1y",
    "outputId": "9ef9329b-f010-4ef6-f4f6-3eee000a2fdc",
    "scrolled": true
   },
   "outputs": [
    {
     "name": "stdout",
     "output_type": "stream",
     "text": [
      "20\n",
      "[1, -3, 5, -7, 9, -11, 13, -15, 17, -19]\n"
     ]
    }
   ],
   "source": [
    "termos = int(input())\n",
    "serie3 = list()\n",
    "i = 0 \n",
    "n = 0\n",
    "while (i<termos):\n",
    "    i += 1\n",
    "    if (i % 2 == 1):\n",
    "        serie3.append(i*(-1)**n)\n",
    "        n += 1\n",
    "print(serie3)"
   ]
  },
  {
   "cell_type": "markdown",
   "metadata": {
    "id": "yaRE8QV3kGXM"
   },
   "source": [
    "## Sintaxe de condição lógica\n",
    "__Neste caso não há um número predeterminado de execuções do loop, dessa maneira, precisa-se inserir o comando 'break' quando a condição lógica for atendida.__"
   ]
  },
  {
   "cell_type": "markdown",
   "metadata": {
    "id": "izxCmJ94QYWZ"
   },
   "source": [
    "###   Exemplo 2: lista de produtos do mercado "
   ]
  },
  {
   "cell_type": "markdown",
   "metadata": {},
   "source": [
    "Utiliza-se comumente estruturas `while True` para criar um algorimo que receba entradas, de modo que, ao finalizar todos os comandos do laço, o programa interage com usuário peguntando se ele deseja continuar. Veja o exemplo clássico sobre o carrinho de uma loja genérica abaixo:"
   ]
  },
  {
   "cell_type": "code",
   "execution_count": 15,
   "metadata": {
    "colab": {
     "base_uri": "https://localhost:8080/"
    },
    "id": "md5jcuKQ9zor",
    "outputId": "683ec74e-65ca-4322-fcb6-9fbf0886ec27"
   },
   "outputs": [
    {
     "name": "stdout",
     "output_type": "stream",
     "text": [
      "Mercadoria: Banana\n",
      "Adicionar mais um item a lista? Digite \"n\" para finalizar\n",
      "Mercadoria: Feijão\n",
      "Adicionar mais um item a lista? Digite \"n\" para finalizara\n",
      "Mercadoria: Arroz\n",
      "Adicionar mais um item a lista? Digite \"n\" para finalizar\n",
      "Mercadoria: Batata\n",
      "Adicionar mais um item a lista? Digite \"n\" para finalizar\n",
      "Mercadoria: Mousse de Limão\n",
      "Adicionar mais um item a lista? Digite \"n\" para finalizarn\n",
      "Operação finalizada\n",
      "Lista de produtos:  ['Banana', 'Feijão', 'Arroz', 'Batata', 'Mousse de Limão']\n"
     ]
    }
   ],
   "source": [
    "produtos = []\n",
    "while True:\n",
    "    produto = input('Mercadoria: ')\n",
    "    resposta = input('Adicionar mais um item a lista? Digite \"n\" para finalizar')\n",
    "    produtos.append(produto)\n",
    "    if (resposta.lower() == 'n'):\n",
    "        print('Operação finalizada')\n",
    "        print('Lista de produtos:  {}'.format(produtos))\n",
    "        break"
   ]
  },
  {
   "cell_type": "markdown",
   "metadata": {
    "id": "3U3iAjFClmjE"
   },
   "source": [
    "###  Exemplo 3: Cálculo de calor em caldeira - Parte 2\n",
    "Construa um programa que calcula o valor de calor de caldeiras cilínndricas e depois adicione em uma lista com os valores organizados de maneira decrescente.\n"
   ]
  },
  {
   "cell_type": "code",
   "execution_count": 16,
   "metadata": {
    "colab": {
     "base_uri": "https://localhost:8080/"
    },
    "id": "7hYKgndRk1GB",
    "outputId": "7252cc59-ef27-4aa9-c0e0-c177ff76185f"
   },
   "outputs": [
    {
     "name": "stdout",
     "output_type": "stream",
     "text": [
      "Qual é o diâmetro da caldeira? Em metros.0.7\n",
      "Qual é a altura da caldeira? Em metros.0.8\n",
      "Volume de água: 0.31 m²\n",
      "Massa de água: 310.0 kg\n",
      "Calor necessário: 17050.0 cal\n",
      "Calcular outra unidade? Digite \"N\" para sair\n",
      "Qual é o diâmetro da caldeira? Em metros.0.5\n",
      "Qual é a altura da caldeira? Em metros.0.6\n",
      "Volume de água: 0.12 m²\n",
      "Massa de água: 120.0 kg\n",
      "Calor necessário: 6600.0 cal\n",
      "Calcular outra unidade? Digite \"N\" para sair\n",
      "Qual é o diâmetro da caldeira? Em metros.1\n",
      "Qual é a altura da caldeira? Em metros.2\n",
      "Volume de água: 1.57 m²\n",
      "Massa de água: 1570.0 kg\n",
      "Calor necessário: 86350.0 cal\n",
      "Calcular outra unidade? Digite \"N\" para sairn\n",
      "Operação finalizada\n"
     ]
    }
   ],
   "source": [
    "import math \n",
    "pi = math.pi\n",
    "while True:\n",
    "    d = float(input('Qual é o diâmetro da caldeira? Em metros.'))\n",
    "    h = float(input('Qual é a altura da caldeira? Em metros.'))\n",
    "\n",
    "    densidade = 1000\n",
    "    calor_s = 1\n",
    "    volume = round(h*(((d/2)**2)*pi), 2)\n",
    "    massa = round(densidade*volume, 2)\n",
    "\n",
    "    q = round(massa*calor_s*(80-25), 2)\n",
    "\n",
    "    print(f\"Volume de água: {volume} m²\")\n",
    "    print(f\"Massa de água: {massa} kg\")\n",
    "    print(f\"Calor necessário: {q} cal\")\n",
    "    resposta = input('Calcular outra unidade? Digite \"N\" para sair')\n",
    "    if resposta.upper() == 'N':\n",
    "        print('Operação finalizada')\n",
    "        break"
   ]
  },
  {
   "cell_type": "markdown",
   "metadata": {},
   "source": [
    "### Exemplo 4: Registro de dados de um aluno - Parte 2\n",
    "Construa um programa que retorna um formulario com os dados de cada aluno em um dicionario. Cada ficha do aluno deve conter o nome, p1, p2, p3, média e condição de aprovação. \n",
    "\n"
   ]
  },
  {
   "cell_type": "code",
   "execution_count": 38,
   "metadata": {},
   "outputs": [
    {
     "name": "stdout",
     "output_type": "stream",
     "text": [
      "Nome do Aluno:  André\n",
      "Nota da prova 1: 6\n",
      "Nota da prova 2: 5.9\n",
      "Nota da prova 3: 6.1\n",
      "O aluno está de recuperação\n",
      "Registrar mais um aluno? Digite \"n\" para finalizar\n",
      "Nome do Aluno:  Neri\n",
      "Nota da prova 1: 7\n",
      "Nota da prova 2: 8\n",
      "Nota da prova 3: 5\n",
      "Aprovado\n",
      "Registrar mais um aluno? Digite \"n\" para finalizar\n",
      "Nome do Aluno:  Pedro\n",
      "Nota da prova 1: 3\n",
      "Nota da prova 2: 4\n",
      "Nota da prova 3: 10\n",
      "O aluno está de recuperação\n",
      "Registrar mais um aluno? Digite \"n\" para finalizar\n",
      "Nome do Aluno:  Fernanda\n",
      "Nota da prova 1: 8\n",
      "Nota da prova 2: 8\n",
      "Nota da prova 3: 7\n",
      "Aprovado\n",
      "Registrar mais um aluno? Digite \"n\" para finalizarn\n",
      "Operação finalizada\n"
     ]
    }
   ],
   "source": [
    "# Exemplo 2 - Seção 2 - Estruturas de decisão\n",
    "formulario = list()\n",
    "while True:  \n",
    "    ficha = dict()\n",
    "    nome = input('Nome do Aluno:  ')\n",
    "    p1 = float(input('Nota da prova 1: '))\n",
    "    p2 = float(input('Nota da prova 2: '))\n",
    "    p3 = float(input('Nota da prova 3: '))\n",
    "\n",
    "    media = (p1+p2+p3)/3\n",
    "\n",
    "    ficha['Nome'] = nome\n",
    "    ficha['Prova 1'] = p1\n",
    "    ficha['Prova 2'] = p2\n",
    "    ficha['Prova 3'] = p3\n",
    "    ficha['Média'] = media\n",
    "    \n",
    "    if media > 6:\n",
    "        print('Aprovado')\n",
    "        ficha['Status'] = 'Aprovado'\n",
    "    elif media >= 5 and media <=6:\n",
    "        print('O aluno está de recuperação')\n",
    "        ficha['Status'] = 'Recuperação'\n",
    "    else:\n",
    "        print('Reprovado')\n",
    "        ficha['Status'] = 'Reprovação'\n",
    "    formulario.append(ficha)\n",
    "    resposta = input('Registrar mais um aluno? Digite \"n\" para finalizar')\n",
    "    \n",
    "    if resposta.lower() == 'n':\n",
    "        print('Operação finalizada')\n",
    "        break"
   ]
  },
  {
   "cell_type": "code",
   "execution_count": 39,
   "metadata": {},
   "outputs": [
    {
     "data": {
      "text/plain": [
       "[{'Nome': 'André',\n",
       "  'Prova 1': 6.0,\n",
       "  'Prova 2': 5.9,\n",
       "  'Prova 3': 6.1,\n",
       "  'Média': 6.0,\n",
       "  'Status': 'Recuperação'},\n",
       " {'Nome': 'Neri',\n",
       "  'Prova 1': 7.0,\n",
       "  'Prova 2': 8.0,\n",
       "  'Prova 3': 5.0,\n",
       "  'Média': 6.666666666666667,\n",
       "  'Status': 'Aprovado'},\n",
       " {'Nome': 'Pedro',\n",
       "  'Prova 1': 3.0,\n",
       "  'Prova 2': 4.0,\n",
       "  'Prova 3': 10.0,\n",
       "  'Média': 5.666666666666667,\n",
       "  'Status': 'Recuperação'},\n",
       " {'Nome': 'Fernanda',\n",
       "  'Prova 1': 8.0,\n",
       "  'Prova 2': 8.0,\n",
       "  'Prova 3': 7.0,\n",
       "  'Média': 7.666666666666667,\n",
       "  'Status': 'Aprovado'}]"
      ]
     },
     "execution_count": 39,
     "metadata": {},
     "output_type": "execute_result"
    }
   ],
   "source": [
    "formulario"
   ]
  },
  {
   "cell_type": "markdown",
   "metadata": {
    "id": "QKMv3D1mumNr"
   },
   "source": [
    "#  Desafio 1: Dados experimentais\n",
    "__Construa um programa que recolha um-a-um dos dados experimentais de tempo e concentração de uma amostra. depois, contrua um gráfico linear ln[C3H6] x tempo.__\\\n",
    "__(Utilize o comando while)__\\\n",
    "\\\n",
    "__Utilize o link abaixo para acessar o tutorial sobre o gráfico _scatter Real Python__:\\\n",
    "https://realpython.com/visualizing-python-plt-scatter/\n",
    "\n",
    "\\\n",
    "__MÃOS À OBRA!__"
   ]
  },
  {
   "cell_type": "code",
   "execution_count": 23,
   "metadata": {
    "colab": {
     "base_uri": "https://localhost:8080/"
    },
    "id": "-NTh6o1Xnfpf",
    "outputId": "3200128f-2158-42a8-b5df-ca324891667a"
   },
   "outputs": [
    {
     "name": "stdout",
     "output_type": "stream",
     "text": [
      "Concentração, em mol/L: 1.5E-3\n",
      "Tempo, em min: 0\n",
      "Finalizar coleta dados? Digite \"s\" para finalizar\n",
      "Concentração, em mol/L: 1.24E-3\n",
      "Tempo, em min: 5\n",
      "Finalizar coleta dados? Digite \"s\" para finalizar\n",
      "Concentração, em mol/L: 1E-3\n",
      "Tempo, em min: 10\n",
      "Finalizar coleta dados? Digite \"s\" para finalizar\n",
      "Concentração, em mol/L: 0.83E-3\n",
      "Tempo, em min: 15\n",
      "Finalizar coleta dados? Digite \"s\" para finalizars\n"
     ]
    },
    {
     "data": {
      "image/png": "[encoded data removed]",
      "text/plain": [
       "<Figure size 432x288 with 1 Axes>"
      ]
     },
     "metadata": {
      "needs_background": "light"
     },
     "output_type": "display_data"
    }
   ],
   "source": [
    "concentracao, tempo = [], []\n",
    "\n",
    "while True:\n",
    "    dados1 = float(input('Concentração, em mol/L: '))\n",
    "    dados2 = float(input('Tempo, em min: '))\n",
    "    concentracao.append(dados1)\n",
    "    tempo.append(dados2)\n",
    "    \n",
    "    resposta = input('Finalizar coleta dados? Digite \"s\" para finalizar')\n",
    "    \n",
    "    if resposta.upper() == 'S':\n",
    "        break\n",
    "\n",
    "ln =[]\n",
    "n=0\n",
    "import math\n",
    "while n<len(concentracao) : \n",
    "    ln.append(round(math.log(concentracao[n]),2))\n",
    "    n += 1\n",
    "    \n",
    "import matplotlib.pyplot as plt\n",
    "\n",
    "plt.scatter(tempo,ln)\n",
    "plt.xlabel('Tempo (min)')\n",
    "plt.ylabel('ln(mol/L)')\n",
    "plt.title('ln[C3H6] x min')\n",
    "plt.show()"
   ]
  },
  {
   "cell_type": "code",
   "execution_count": 24,
   "metadata": {},
   "outputs": [
    {
     "data": {
      "text/plain": [
       "numpy.ndarray"
      ]
     },
     "execution_count": 24,
     "metadata": {},
     "output_type": "execute_result"
    }
   ],
   "source": [
    "import numpy as np \n",
    "ln1 = np.array(ln)\n",
    "type(ln1)"
   ]
  },
  {
   "cell_type": "code",
   "execution_count": 25,
   "metadata": {},
   "outputs": [
    {
     "data": {
      "text/plain": [
       "array([-6.50229017, -6.6926439 , -6.90775528, -7.09408486])"
      ]
     },
     "execution_count": 25,
     "metadata": {},
     "output_type": "execute_result"
    }
   ],
   "source": [
    "np.log(np.array(concentracao))"
   ]
  },
  {
   "cell_type": "markdown",
   "metadata": {
    "id": "n1_EG8ldq4IY"
   },
   "source": [
    "#  RANGE\n",
    "\n",
    "__Esta função retorna uma sequência numérica que é definida através do argumento da função.\\\n",
    "Ela pode ser utilizada de três maneiras:__\n",
    "    \n",
    "- __Stop possui intervalo aberto;__\n",
    "\n",
    "- __Start possui intervalo fechado;__\n",
    "\n",
    "- __Por padrão, step = 1;__\n",
    "\n",
    "- __É possível construir sequências negativas.__\n",
    "\n",
    "A função range será um ótimo auxiliar para criarmos a estrtura `for`, uma vez que a criação de coleções é a essencia deste tipo de estrutura de repetição."
   ]
  },
  {
   "cell_type": "markdown",
   "metadata": {
    "id": "gN7vXUcj3-Dx"
   },
   "source": [
    "###  Método 1 - range(stop)"
   ]
  },
  {
   "cell_type": "code",
   "execution_count": 1,
   "metadata": {
    "colab": {
     "base_uri": "https://localhost:8080/"
    },
    "id": "-cCOLx_cYCRd",
    "outputId": "961c5b6b-36b9-431c-fae2-dc7685cfb249"
   },
   "outputs": [
    {
     "data": {
      "text/plain": [
       "[0, 1, 2, 3, 4, 5, 6, 7, 8, 9]"
      ]
     },
     "execution_count": 1,
     "metadata": {},
     "output_type": "execute_result"
    }
   ],
   "source": [
    "list(range(10))"
   ]
  },
  {
   "cell_type": "markdown",
   "metadata": {
    "id": "SRuko4X34bRX"
   },
   "source": [
    "### Método 2 - range(start,stop)"
   ]
  },
  {
   "cell_type": "code",
   "execution_count": 26,
   "metadata": {
    "id": "zwaynB0j4lqv"
   },
   "outputs": [
    {
     "data": {
      "text/plain": [
       "[1, 2, 3, 4, 5, 6, 7, 8, 9, 10]"
      ]
     },
     "execution_count": 26,
     "metadata": {},
     "output_type": "execute_result"
    }
   ],
   "source": [
    "list(range(1,11))"
   ]
  },
  {
   "cell_type": "markdown",
   "metadata": {
    "id": "OdYPkyH74nJG"
   },
   "source": [
    "### Método 3 - range(start,stop,step)"
   ]
  },
  {
   "cell_type": "code",
   "execution_count": 3,
   "metadata": {
    "id": "c4Sa_uhS4uqH"
   },
   "outputs": [
    {
     "data": {
      "text/plain": [
       "[1, 3, 5, 7, 9, 11, 13, 15, 17, 19, 21]"
      ]
     },
     "execution_count": 3,
     "metadata": {},
     "output_type": "execute_result"
    }
   ],
   "source": [
    "list(range(1,22,2))"
   ]
  },
  {
   "cell_type": "markdown",
   "metadata": {
    "id": "4wIZJ9204xWm"
   },
   "source": [
    "## Desafio em aula\n",
    "Construa um programa que leia um valor de um intervalor contendo números naturais e depois realize as seguintes operações:\n",
    "- Soma total, media e desvio padrão de todos os números ímpares\n",
    "- Soma total, media e desvio padrão de todos os números pares\n",
    "- Soma total, media e desvio padrão de todos os números multíplos de 7 e 11.\\\n",
    "\\\n",
    "\\\n",
    "__Dica: Utilize a biblioteca numpy para resolução do terceiro item__\\\n",
    "Tutorial da Geekforgeeks.org sobre medidas de tendência central e de dispersão com Numpy:\\\n",
    "https://www.geeksforgeeks.org/describe-a-numpy-array-in-python/#:~:text=NumPy%20is%20a%20Python%20library,a%20variety%20of%20mathematical%20functions."
   ]
  },
  {
   "cell_type": "code",
   "execution_count": 27,
   "metadata": {},
   "outputs": [
    {
     "name": "stdout",
     "output_type": "stream",
     "text": [
      "[1, 3, 5, 7, 9, 11, 13, 15, 17, 19, 21, 23, 25, 27, 29, 31, 33, 35, 37, 39, 41, 43, 45, 47, 49, 51, 53, 55, 57, 59, 61, 63, 65, 67, 69, 71, 73, 75, 77, 79, 81, 83, 85, 87, 89, 91, 93, 95, 97, 99]\n"
     ]
    }
   ],
   "source": [
    "print(\n",
    "list(range(1,100,2))\n",
    ") # I = 2n + 1"
   ]
  },
  {
   "cell_type": "code",
   "execution_count": 28,
   "metadata": {},
   "outputs": [
    {
     "name": "stdout",
     "output_type": "stream",
     "text": [
      "[0, 2, 4, 6, 8, 10, 12, 14, 16, 18, 20, 22, 24, 26, 28, 30, 32, 34, 36, 38, 40, 42, 44, 46, 48, 50, 52, 54, 56, 58, 60, 62, 64, 66, 68, 70, 72, 74, 76, 78, 80, 82, 84, 86, 88, 90, 92, 94, 96, 98]\n"
     ]
    }
   ],
   "source": [
    "print(\n",
    "list(range(0,100,2))\n",
    ")"
   ]
  },
  {
   "cell_type": "code",
   "execution_count": 29,
   "metadata": {},
   "outputs": [
    {
     "name": "stdout",
     "output_type": "stream",
     "text": [
      "Média: 49.2\n",
      "Soma: 1230\n",
      "Desvio Padrão: 30.8\n"
     ]
    }
   ],
   "source": [
    "lista = list(range(0,100,7)) + list(range(0,100,11))\n",
    "#lista.sort() # Ordena de forma de crescente os itens de uma lista\n",
    "import numpy as np \n",
    "array = np.array(lista)\n",
    "print('Média: {}'.format(array.mean()))\n",
    "print('Soma: {}'.format(array.sum()))\n",
    "print('Desvio Padrão: {0:.1f}'.format(array.std()))"
   ]
  },
  {
   "cell_type": "markdown",
   "metadata": {
    "id": "HXap_DxGqWIw"
   },
   "source": [
    "#  COMANDO FOR\n",
    "__Responsável de executar um conjuntos de comandos, o fim do loop será dado por um número limitado de vezes.__"
   ]
  },
  {
   "cell_type": "markdown",
   "metadata": {},
   "source": [
    "### Exemplo 1: Impressão de itens de uma lista\n",
    "\n",
    "__Imprima os nomes da lista abaixo:__\n",
    "```\n",
    "alunos = ['André', 'Maria', 'João', 'Luis', 'Neri', 'Fernanda', 'Pedro', 'Rita', 'Gabriel']\n",
    "```"
   ]
  },
  {
   "cell_type": "code",
   "execution_count": 30,
   "metadata": {},
   "outputs": [],
   "source": [
    "alunos = ['André', 'Maria', 'João', 'Luis', 'Neri', 'Fernanda', 'Pedro', 'Rita', 'Gabriel']"
   ]
  },
  {
   "cell_type": "code",
   "execution_count": 31,
   "metadata": {},
   "outputs": [
    {
     "name": "stdout",
     "output_type": "stream",
     "text": [
      "André\n",
      "Maria\n",
      "João\n",
      "Luis\n",
      "Neri\n",
      "Fernanda\n",
      "Pedro\n",
      "Rita\n",
      "Gabriel\n"
     ]
    }
   ],
   "source": [
    "for nomes in alunos:\n",
    "    print(nomes)"
   ]
  },
  {
   "cell_type": "markdown",
   "metadata": {
    "colab": {
     "base_uri": "https://localhost:8080/"
    },
    "id": "8KtVR2jL7KO2",
    "outputId": "9cf1a580-3630-4d5b-b6a7-b7799f245671"
   },
   "source": [
    "###  Exemplo 2: Cálculo do fatorial de um valor inteiro\n",
    "Construa um programa que recebe um valor inteiro e retorne o valor do seu fatorial\\\n",
    "$5!=5\\text{x}4\\text{x}3\\text{x}2\\text{x}1=120$"
   ]
  },
  {
   "cell_type": "code",
   "execution_count": 35,
   "metadata": {},
   "outputs": [
    {
     "name": "stdout",
     "output_type": "stream",
     "text": [
      "Número de termos: 10\n",
      "10!=3628800\n"
     ]
    }
   ],
   "source": [
    "num = int(input('Número de termos: '))\n",
    "fatorial = 1\n",
    "for i in range(1,num+1):\n",
    "    fatorial *= i\n",
    "print('{}!={}'.format(num,fatorial))"
   ]
  },
  {
   "cell_type": "markdown",
   "metadata": {},
   "source": [
    "### Exemplo 3: Soma dos quadrados x O quadrado da soma\n",
    "__Leia o número de termos e depois calcule a diferença entre a soma dos quadrados e o quadrado da soma de valores naturais__\n",
    "\\\n",
    "\\\n",
    "__Soma dos quadrados:__\n",
    "\n",
    "$1^2+2^2+3^2+4^2+5^2...$\n",
    "  \n",
    "\n",
    "__Quadrado da soma:__   \n",
    "\n",
    "$(1+2+3+4+5)^2$"
   ]
  },
  {
   "cell_type": "code",
   "execution_count": 36,
   "metadata": {},
   "outputs": [
    {
     "name": "stdout",
     "output_type": "stream",
     "text": [
      "Termos: 10\n",
      "Diferença entre as séries: 330\n"
     ]
    }
   ],
   "source": [
    "termos = int(input('Termos: '))\n",
    "\n",
    "soma_q, quad_s = [], []\n",
    "\n",
    "for i in range(1, termos+1):\n",
    "    soma_q.append(i**2)\n",
    "    quad_s.append(i)\n",
    "dif = sum(soma_q) - sum(quad_s)\n",
    "print(f\"Diferença entre as séries: {dif}\")"
   ]
  },
  {
   "cell_type": "markdown",
   "metadata": {},
   "source": [
    "### Exemplo 4: Aplicação de For Aninhado - Relógio "
   ]
  },
  {
   "cell_type": "markdown",
   "metadata": {},
   "source": [
    "```\n",
    "import time\n",
    "for hora in range(60): \n",
    "    for minuto in range(60):\n",
    "        for segundo in range(60):\n",
    "            print('{}:{}:{}'.format(hora,minuto,segundo))\n",
    "            time.sleep(1)\n",
    "```"
   ]
  },
  {
   "cell_type": "markdown",
   "metadata": {},
   "source": [
    "# Desafio 2 - Investimento de renda fixa\n",
    "**Exercício adaptado de Vanessa Braganholo**\\\n",
    "http://www2.ic.uff.br/~vanessa/material/prog-python/05-Repeticao.pdf\n",
    "\\\n",
    "\\\n",
    "__Faça um programa que calcule o retorno de investimento com 6% de juros compostos com as seguintes características.__ \n",
    "\n",
    "\n",
    "- __Retorne o saldo atual do mês__ \n",
    "- __Retorne o saldo anual levando em consideração o desconto de 7% do valor bruto.__\n",
    "- __Pergunte ao usuário se deseja manter o investimento com o ganho de 0.5% acrescentados ao juros.__\n",
    "- __Ao retirar o investimento pague mais 15% de taxa__\n",
    "\\\n",
    "---\n",
    "__Exemplificação:__\n",
    "```\n",
    "Mês 1 :       R$ 1200.00\n",
    "Mês 2 :       R$ 1272,00\n",
    "...\n",
    "Mês 12 :       R$ 2.414,63\n",
    "Saldo final:   R$ 2,245.61\n",
    "Deseja continuar com o nosso plano? [S/N]\n",
    "```\n",
    "\n"
   ]
  },
  {
   "cell_type": "code",
   "execution_count": 46,
   "metadata": {},
   "outputs": [
    {
     "name": "stdout",
     "output_type": "stream",
     "text": [
      "Valor inicial:  1200\n",
      "Saldo mensal: 1272.00\n",
      "Saldo mensal: 1348.32\n",
      "Saldo mensal: 1429.22\n",
      "Saldo mensal: 1514.97\n",
      "Saldo mensal: 1605.87\n",
      "Saldo mensal: 1702.22\n",
      "Saldo mensal: 1804.36\n",
      "Saldo mensal: 1912.62\n",
      "Saldo mensal: 2027.37\n",
      "Saldo mensal: 2149.02\n",
      "Saldo mensal: 2277.96\n",
      "Saldo mensal: 2414.64\n",
      "Saldo Anual: 2245.61\n",
      "Quer continuar? Digite \"n\" para encerrar o investimento.a\n",
      "Saldo mensal: 2391.58\n",
      "Saldo mensal: 2547.03\n",
      "Saldo mensal: 2712.59\n",
      "Saldo mensal: 2888.90\n",
      "Saldo mensal: 3076.68\n",
      "Saldo mensal: 3276.67\n",
      "Saldo mensal: 3489.65\n",
      "Saldo mensal: 3716.48\n",
      "Saldo mensal: 3958.05\n",
      "Saldo mensal: 4215.32\n",
      "Saldo mensal: 4489.32\n",
      "Saldo mensal: 4781.12\n",
      "Saldo Anual: 4446.44\n",
      "Quer continuar? Digite \"n\" para encerrar o investimento.a\n",
      "Saldo mensal: 4757.69\n",
      "Saldo mensal: 5090.73\n",
      "Saldo mensal: 5447.09\n",
      "Saldo mensal: 5828.38\n",
      "Saldo mensal: 6236.37\n",
      "Saldo mensal: 6672.91\n",
      "Saldo mensal: 7140.02\n",
      "Saldo mensal: 7639.82\n",
      "Saldo mensal: 8174.61\n",
      "Saldo mensal: 8746.83\n",
      "Saldo mensal: 9359.11\n",
      "Saldo mensal: 10014.24\n",
      "Saldo Anual: 9313.25\n",
      "Quer continuar? Digite \"n\" para encerrar o investimento.n\n",
      "Operação Finalizada\n",
      "O saldo depositado na conta do cliente: 7916.259571174125\n"
     ]
    }
   ],
   "source": [
    "p = float(input('Valor inicial:  '))\n",
    "saldo = list()\n",
    "juros = 0.06\n",
    "\n",
    "while True:\n",
    "   \n",
    "    for i in range(1,13):\n",
    "        juros_compostos = (juros+1)**i\n",
    "        montante = juros_compostos*p\n",
    "        saldo.append(montante)\n",
    "        print('Saldo mensal: {0:.2f}'.format(montante))\n",
    "    \n",
    "    saldo_anual = saldo[-1]*0.93\n",
    "    \n",
    "    print('Saldo Anual: {0:.2f}'.format(saldo_anual))\n",
    "    \n",
    "    juros += 0.005\n",
    "    p = saldo_anual\n",
    "    resposta = input('Quer continuar? Digite \"n\" para encerrar o investimento.')\n",
    "    \n",
    "    if resposta.lower() == 'n':\n",
    "        print('Operação Finalizada')\n",
    "        print('O saldo depositado na conta do cliente: {0:.2f}'.format(saldo_anual*0.85))\n",
    "        p=0\n",
    "        break"
   ]
  },
  {
   "cell_type": "markdown",
   "metadata": {
    "id": "GXIpgVFgzzyv"
   },
   "source": [
    "# Desafio 3 - Série de Taylor\n",
    "__Faça um programa que imprima uma lista com n termo da sequencia abaixo juntamente com a sua soma total.\\\n",
    "(Utilize o comando while)__\n",
    "$$\n",
    "e^{x}=\\sum_{n=0}^{\\infty}\\frac{x^{n}}{n!}=1+x+\\frac{x^2}{2!}+\\frac{x^3}{3!}+...\n",
    "$$\n",
    "\n",
    "__Observação:__\n",
    "- __Será recebido o valor de _n_ e deve ser atribuído _x=2_.__\n",
    "- __Utilize o método__ [factorial()](https://www.includehelp.com/python/math-factorial-method-with-example.aspx#:~:text=factorial()%20method%20is%20a,%E2%80%93%20it%20returns%20%22ValueError%22.) __da math library__\n",
    "- __Tente resolver sem a biblioteca Numpy__"
   ]
  },
  {
   "cell_type": "code",
   "execution_count": 6,
   "metadata": {},
   "outputs": [
    {
     "name": "stdout",
     "output_type": "stream",
     "text": [
      "Número de termos: 1000\n",
      "1\n",
      "Soma da série Taylor:  2.7182818284590455\n"
     ]
    }
   ],
   "source": [
    "import math \n",
    "termos = int(input('Número de termos: '))\n",
    "x = int(input())\n",
    "             \n",
    "# fatorial \n",
    "l_fatorial =list()\n",
    "for fatorial in range(termos+1):\n",
    "    l_fatorial.append((math.factorial(fatorial)))\n",
    "\n",
    "# x\n",
    "l_x = [ ]\n",
    "for n in range(termos+1):\n",
    "    l_x.append(x**n)\n",
    "\n",
    "#taylor\n",
    "taylor=[]\n",
    "for i in range(len(l_x)):\n",
    "    taylor.append(l_x[i]/l_fatorial[i])\n",
    "print('Soma da série Taylor:  {}'.format(sum(taylor)))"
   ]
  },
  {
   "cell_type": "code",
   "execution_count": 7,
   "metadata": {},
   "outputs": [
    {
     "data": {
      "text/plain": [
       "2.718281828459045"
      ]
     },
     "execution_count": 7,
     "metadata": {},
     "output_type": "execute_result"
    }
   ],
   "source": [
    "math.e"
   ]
  }
 ],
 "metadata": {
  "colab": {
   "collapsed_sections": [],
   "name": "Aula3 - Laços de repetição.ipynb",
   "provenance": [],
   "toc_visible": true
  },
  "kernelspec": {
   "display_name": "Python 3",
   "language": "python",
   "name": "python3"
  },
  "language_info": {
   "codemirror_mode": {
    "name": "ipython",
    "version": 3
   },
   "file_extension": ".py",
   "mimetype": "text/x-python",
   "name": "python",
   "nbconvert_exporter": "python",
   "pygments_lexer": "ipython3",
   "version": "3.8.8"
  }
 },
 "nbformat": 4,
 "nbformat_minor": 1
}
