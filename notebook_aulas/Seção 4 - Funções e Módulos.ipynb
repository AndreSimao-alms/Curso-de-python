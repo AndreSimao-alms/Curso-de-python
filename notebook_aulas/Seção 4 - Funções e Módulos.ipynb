{
 "cells": [
  {
   "cell_type": "markdown",
   "id": "1cd0e115",
   "metadata": {},
   "source": [
    "# <span style=\"color:darkred\"> Funções\n",
    "#### Trata-se de um conjunto de comandos que é inserido dentro de um bloco de código que possui um nome e, opcionalmente, definidos parâmetros para sua definição.\n",
    "\n",
    "Por questôes de **boas práticas de programação**, os nomes de funções são **verbos de ação** e em **caixa baixa**, por exemplo, uma função que imprime o nome deste treinamento \"Curso de Python Básico\", então o nome adequado para tal seria **imprimir_nome**\n",
    "   "
   ]
  },
  {
   "cell_type": "markdown",
   "id": "10563f5e",
   "metadata": {},
   "source": [
    "## <span style=\"color:purple\"> Funções Simples \n",
    "\n",
    "Funções simples são muito utilizadas para compactar códigos que não precisam de um retorno específico e que não recebam nenhum parâmetro.\n",
    " "
   ]
  },
  {
   "cell_type": "markdown",
   "id": "ae689503",
   "metadata": {},
   "source": [
    "###  Exemplo 1 - Imprimir nome\n",
    "__Construa uma função que imprime o nome deste curso.__"
   ]
  },
  {
   "cell_type": "code",
   "execution_count": 3,
   "id": "4cab1ac5",
   "metadata": {},
   "outputs": [
    {
     "name": "stdout",
     "output_type": "stream",
     "text": [
      "Curso de Python Básico\n"
     ]
    }
   ],
   "source": [
    "def imprimir_nome():\n",
    "    print('Curso de Python Básico')\n",
    "imprimir_nome()"
   ]
  },
  {
   "cell_type": "markdown",
   "id": "58ed16e2",
   "metadata": {},
   "source": [
    "## <span style=\"color:purple\"> Funções com Parâmetros e Retorno \n",
    "- O(s) __Parâmetro(s)__ de uma função são as informações que recebemos em uma função para realizar uma determinada tarefa.\n",
    "    \n",
    "- O __retorno__ é responsável de enviar o dado(s) desejado(s) gerado dentro da função, a partir daqui construiremos funções somente com retorno. \n",
    "\n",
    "Na seção 1, na aula sobre função input() resolvemos exercícios onde recebiámos as dimensões de um cilindro reto para calcular um determinado preço do aço inox para sua construção, vejamos isto dentro de uma função. \n",
    " "
   ]
  },
  {
   "cell_type": "markdown",
   "id": "21564a7b",
   "metadata": {},
   "source": [
    "### <span style=\"color:gray\"> Exemplo 2 - Refaroração de Código\n",
    "__Exemplo 1 (Seção 1) - Construção de tanque cilídrico inox__\n",
    "\n",
    "\\\n",
    "Construa um programa que leia diâmetro e altura de um cilíndro e retorna o usuário valor e metragem das chapas inox necessárias para construção do cilindro.\n",
    " \n",
    "- Preço por m² da chapa: R$580,00\n",
    "- A empresa realiza cortes circulares\n",
    "\\\n",
    "\\\n",
    "__TRECHO DE CÓDIGO__\n",
    "```\n",
    "import math\n",
    "h = float(input('Qual é a altura? Em metros. '))\n",
    "d = float(input('Qual é o diãmetro? Em metros '))\n",
    "area_l = h*2*(d/2)\n",
    "area_b = 2*(math.pi*(d/2)**2)\n",
    "area_t = round(area_l + area_b, 2)\n",
    "valor = 580 \n",
    "valor_t = round(valor*area_t, 2)\n",
    "print(f\"A área total das chapas: {area_t}\")\n",
    "print('Preço total das chapas: R$ {}'.format(valor_t))\n",
    "```"
   ]
  },
  {
   "cell_type": "code",
   "execution_count": 8,
   "id": "f117f87a",
   "metadata": {},
   "outputs": [],
   "source": [
    "import math\n",
    "def calcular_preco(altura,diametro):\n",
    "    \n",
    "    area_l = altura*2*(diametro/2)\n",
    "    area_b = 2*(math.pi*(diametro/2)**2)\n",
    "    area_t = round(area_l + area_b, 2)\n",
    "    valor = 580 \n",
    "    valor_t = round(valor*area_t, 2)\n",
    "\n",
    "    print(f\"A área total das chapas: {area_t}\")\n",
    "    print('Preço total das chapas: R$ {}'.format(valor_t))\n",
    "    \n",
    "    return [valor_t,area_t]"
   ]
  },
  {
   "cell_type": "code",
   "execution_count": 10,
   "id": "862725ed",
   "metadata": {},
   "outputs": [
    {
     "name": "stdout",
     "output_type": "stream",
     "text": [
      "A área total das chapas: 0.89\n",
      "Preço total das chapas: R$ 516.2\n"
     ]
    },
    {
     "data": {
      "text/plain": [
       "[516.2, 0.89]"
      ]
     },
     "execution_count": 10,
     "metadata": {},
     "output_type": "execute_result"
    }
   ],
   "source": [
    "calcular_preco(1,0.5)"
   ]
  },
  {
   "cell_type": "markdown",
   "id": "571ebca6",
   "metadata": {},
   "source": [
    "## <span style=\"color:purple\"> Função dentro de outra função e Parâmetros fixos   \n",
    "\n",
    "Em programação existe um conceito chamado **SOLYD**, trata-se de um conjunto de principíos de **estruturas padrões** que definem **boas práticas de codificação**.\n",
    "\\\n",
    "E um dos conceitos é **não \"sobrecarregar\"** as tarefas de uma função, classe ou método. Para resolver isso, podemos inserir funções dentro de outras funções para **dividir o código** tornando mais **legível**.\n",
    " "
   ]
  },
  {
   "cell_type": "markdown",
   "id": "6971a954",
   "metadata": {},
   "source": [
    "### <span style=\"color:gray\"> Exemplo 3 - Parâmetro fixo - Equação linear\n",
    "\n"
   ]
  },
  {
   "cell_type": "code",
   "execution_count": 45,
   "id": "522c2231",
   "metadata": {},
   "outputs": [],
   "source": [
    "import matplotlib.pyplot as plt\n",
    "import numpy as np "
   ]
  },
  {
   "cell_type": "code",
   "execution_count": 69,
   "id": "32522508",
   "metadata": {},
   "outputs": [],
   "source": [
    "def equacao_linear(a,b): \n",
    "\n",
    "    x= np.array(range(40))\n",
    "    plt.plot(x,a*x +b)\n",
    "    plt.xlabel('x')\n",
    "    plt.ylabel('y')\n",
    "    plt.grid()\n",
    "    plt.title('y=a*x + b',, loc='right')\n",
    "    return plt.show()\n",
    "equacao_linear(1,5)"
   ]
  },
  {
   "cell_type": "markdown",
   "id": "42243767",
   "metadata": {},
   "source": [
    "### <span style=\"color:gray\"> Exemplo 4 - Encapsulamento de função - Equação linear\n",
    "Ainda no exemplo anterior, encapsule os comandos da edição do gráfico.\n"
   ]
  },
  {
   "cell_type": "code",
   "execution_count": 73,
   "id": "277c6881",
   "metadata": {},
   "outputs": [
    {
     "data": {
      "image/png": "[encoded data removed]",
      "text/plain": [
       "<Figure size 432x288 with 1 Axes>"
      ]
     },
     "metadata": {
      "needs_background": "light"
     },
     "output_type": "display_data"
    }
   ],
   "source": [
    "def editar_grafico():\n",
    "    plt.xlabel('x')\n",
    "    plt.ylabel('y')\n",
    "    plt.grid()\n",
    "    plt.title('y=a*x + b', loc='right')\n",
    "\n",
    "def equacao_linear2(a,b): \n",
    "    x= np.array(range(40))\n",
    "    plt.plot(x,a*x +b)\n",
    "    editar_grafico()\n",
    "    return plt.show()\n",
    "\n",
    "equacao_linear2(1,2)"
   ]
  },
  {
   "cell_type": "code",
   "execution_count": 83,
   "id": "edfbd5b6",
   "metadata": {},
   "outputs": [
    {
     "name": "stdout",
     "output_type": "stream",
     "text": [
      "Qual é o diâmetro da caldeira? Em metros.1\n",
      "Qual é a altura da caldeira? Em metros.1\n",
      "Variação de temperatura? Em celsius.50\n",
      "Volume de água: 0.79 m²\n",
      "Massa de água: 790.0 kg\n",
      "Calor necessário: 39500.0 cal\n",
      "Calcular outra unidade? Digite \"N\" para sairn\n",
      "Operação finalizada\n"
     ]
    }
   ],
   "source": [
    "sistema_caldeira()"
   ]
  },
  {
   "cell_type": "markdown",
   "id": "81106f00",
   "metadata": {},
   "source": [
    "# <span style=\"color:purple\"> Documentando uma função através de Docstrings   \n",
    "\n",
    "Documentar suas funções, métodos e classes é importante para a **manuntenção** na construção de um projeto, principalmente quando este código está sendo trabalhado em equipe, onde é preciso **clareza das informações** entre membros da equipe.\n",
    "\n",
    "\\\n",
    "A documentação de uma função possui um determinado padrão de apresentação, onde se deve apresentar um breve resumo de sua  funcionalidade, seguido dos parâmetros e retorno. Segue o exemplo:"
   ]
  },
  {
   "cell_type": "code",
   "execution_count": 87,
   "id": "66859e53",
   "metadata": {},
   "outputs": [
    {
     "name": "stdout",
     "output_type": "stream",
     "text": [
      "Help on built-in function print in module builtins:\n",
      "\n",
      "print(...)\n",
      "    print(value, ..., sep=' ', end='\\n', file=sys.stdout, flush=False)\n",
      "    \n",
      "    Prints the values to a stream, or to sys.stdout by default.\n",
      "    Optional keyword arguments:\n",
      "    file:  a file-like object (stream); defaults to the current sys.stdout.\n",
      "    sep:   string inserted between values, default a space.\n",
      "    end:   string appended after the last value, default a newline.\n",
      "    flush: whether to forcibly flush the stream.\n",
      "\n"
     ]
    }
   ],
   "source": [
    "help(print)"
   ]
  },
  {
   "cell_type": "code",
   "execution_count": 88,
   "id": "6591934a",
   "metadata": {},
   "outputs": [
    {
     "data": {
      "image/png": "[encoded data removed]",
      "text/plain": [
       "<Figure size 432x288 with 1 Axes>"
      ]
     },
     "metadata": {
      "needs_background": "light"
     },
     "output_type": "display_data"
    }
   ],
   "source": [
    "def editar_grafico():\n",
    "    plt.xlabel('x')\n",
    "    plt.ylabel('y')\n",
    "    plt.grid()\n",
    "    plt.title('y=a*x + b', loc='right')\n",
    "\n",
    "def equacao_linear2(a,b): \n",
    "    \"\"\"\n",
    "    Função que recebe coeficientes de equação de 1 grau e retorna seu respectivo gráfico linear\n",
    "    a: Coeficiente angular\n",
    "    b: Coeficiente linear\n",
    "    return: Gráfico linear \n",
    "    \"\"\"\n",
    "    x= np.array(range(40))\n",
    "    plt.plot(x,a*x +b)\n",
    "    editar_grafico()\n",
    "    return plt.show()\n",
    "\n",
    "equacao_linear2(1,2)"
   ]
  },
  {
   "cell_type": "markdown",
   "id": "b61d8a94",
   "metadata": {},
   "source": [
    "# <span style=\"color:red\">DESAFIO 1 - Refaroração de Código II\n",
    "\n",
    "**Tente encapsular ao máximo o código abaixo. Esta função deve receber a variação de temperatura em celsius também.**\n",
    "    \n",
    "__Dica:__\\\n",
    "    - Crie 4 funções\n",
    "__Desafio 1 (Seção 1) - Calor de uma caldeira__\n",
    "\n",
    "\\\n",
    "Construa um programa que forneça o tamanho do diâmetro e altura de uma caldeira cilíndrica contendo água pura e imprima quanto de calor seria necessário para aquecê-la de 25 °C até 80ºC, desprezando efeitos dissipativos. Dados: calor específico da água =  1 cal/g ºC. e massa específica = 1000 kg/m³.\n",
    "\n",
    "$$\n",
    "Q=mc\\Delta{T}\n",
    "$$\n",
    "\\\n",
    "\\\n",
    "__TRECHO DE CÓDIGO__\n",
    "```\n",
    "import math\n",
    "while True:\n",
    "    d = float(input('Qual é o diâmetro da caldeira? Em metros.'))\n",
    "    h = float(input('Qual é a altura da caldeira? Em metros.'))\n",
    "\n",
    "    densidade = 1000\n",
    "    calor_s = 1\n",
    "    volume = round(h*(((d/2)**2)*pi), 2)\n",
    "    massa = round(densidade*volume, 2)\n",
    "\n",
    "    q = round(massa*calor_s*(80-25), 2)\n",
    "\n",
    "    print(f\"Volume de água: {volume} m²\")\n",
    "    print(f\"Massa de água: {massa} kg\")\n",
    "    print(f\"Calor necessário: {q} cal\")\n",
    "    resposta = input('Calcular outra unidade? Digite \"N\" para sair')\n",
    "    if resposta.upper() == 'N':\n",
    "        print('Operação finalizada')\n",
    "```"
   ]
  },
  {
   "cell_type": "code",
   "execution_count": 82,
   "id": "52320b88",
   "metadata": {},
   "outputs": [
    {
     "name": "stdout",
     "output_type": "stream",
     "text": [
      "Qual é o diâmetro da caldeira? Em metros.1\n",
      "Qual é a altura da caldeira? Em metros.1\n",
      "Variação de temperatura? Em celsius.50\n"
     ]
    }
   ],
   "source": [
    "def definir_dimensoes():\n",
    "    d = float(input('Qual é o diâmetro da caldeira? Em metros.'))\n",
    "    h = float(input('Qual é a altura da caldeira? Em metros.'))\n",
    "    deltaT = float(input('Variação de temperatura? Em celsius.'))\n",
    "    return d,h,deltaT\n",
    "\n",
    "def calcular_massa_volume(d,h,densidade=1000,calor_s=1):\n",
    "    volume = round(h*(((d/2)**2)*math.pi), 2)\n",
    "    massa = round(densidade*volume, 2)\n",
    "    return massa, volume\n",
    "\n",
    "def calcular_calor(d,h, massa=calcular_massa_volume,calor_s=1,deltaT=definir_dimensoes()[2]):   \n",
    "    return round(massa(d,h)[0]*calor_s*(deltaT), 2)\n",
    "\n",
    "def sistema_caldeira():\n",
    "    \"\"\"\n",
    "    Calcula o calor necessário para aquecer à água em uma caldeira cilíndrica\n",
    "    : return: Volume (m³) e massa (kg) de água contido na caldeira e calor (calorias) necessário para o aquecimento\n",
    "    \"\"\"\n",
    "\n",
    "    while True:\n",
    "        d,h,deltaT = definir_dimensoes()\n",
    "        print(f\"Volume de água: {calcular_massa_volume(d,h)[1]} m²\")\n",
    "        print(f\"Massa de água: {calcular_massa_volume(d,h)[0]} kg\")\n",
    "        print(f\"Calor necessário: {calcular_calor(d,h)} cal\")\n",
    "        resposta = input('Calcular outra unidade? Digite \"N\" para sair')\n",
    "        if resposta.upper() == 'N':\n",
    "            return print('Operação finalizada')\n",
    "    "
   ]
  },
  {
   "cell_type": "markdown",
   "id": "3ffa60e9",
   "metadata": {},
   "source": [
    "# <span style=\"color:darkred\"> Módulos \n",
    "**O módulo é um arquivo que contém comandos e definições em Python e que pode ser utilizados em outros programas.**\n",
    "\n",
    "Há módulos dentro de **pacotes internos do Python 3** e também e **bibliotecas externas**, como o Numpy, Matplotlib, Math, Pandas entre outros. Além disso, podemos criar os nossos módulos contendo próprias definições.\n",
    "\\\n",
    "\\\n",
    "Nesta aula contruiremos um módulo contendo as funções de exemplo e desafio. \n",
    "   "
   ]
  },
  {
   "cell_type": "code",
   "execution_count": 1,
   "id": "680ee8aa",
   "metadata": {},
   "outputs": [],
   "source": [
    "# Exemplo de módulo de bloco de código que deve conter o arquivo .py\n",
    "import matplotlib.pyplot as plt\n",
    "import numpy as np \n",
    "\n",
    "def __editar_grafico():\n",
    "    plt.xlabel('x')\n",
    "    plt.ylabel('y')\n",
    "    plt.title('y =ax +b', loc='right')\n",
    "\n",
    "def plotar_grafico(a,b):\n",
    "    \"\"\"\n",
    "    Função que plota um gráfico linear a partir dos valores dos coeficientes da reta\n",
    "    a: coeficiente angular\n",
    "    b: coeficiente linear\n",
    "    return: Gráfico plt.plot da equação polinomial do primeiro grau\n",
    "    \"\"\"\n",
    "    x = np.array(range(20))\n",
    "    plt.plot(x, a*x + b)\n",
    "    __editar_grafico()\n",
    "    return plt.show()"
   ]
  }
 ],
 "metadata": {
  "kernelspec": {
   "display_name": "Python 3",
   "language": "python",
   "name": "python3"
  },
  "language_info": {
   "codemirror_mode": {
    "name": "ipython",
    "version": 3
   },
   "file_extension": ".py",
   "mimetype": "text/x-python",
   "name": "python",
   "nbconvert_exporter": "python",
   "pygments_lexer": "ipython3",
   "version": "3.8.8"
  }
 },
 "nbformat": 4,
 "nbformat_minor": 5
}
