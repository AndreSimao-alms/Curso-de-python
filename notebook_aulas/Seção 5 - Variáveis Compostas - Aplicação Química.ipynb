{
 "cells": [
  {
   "cell_type": "markdown",
   "id": "5ef2fa21",
   "metadata": {},
   "source": [
    "# <span style=\"color:darkred\"> Variáveis Compostas e Arquivos  \n",
    "## <span style=\"color:darkred\"> Aplicação em Titulação Potenciométrica \n",
    "Vamos mudar a **dinâmica** de nossas aulas, pois neste momento temos o domínio dos **conceitos básicos da linguagem** e agora abordaremos as **variáveis compostas** em **aplicações reais em química**. Vamos conduzir a aula como uma resolução prática da **Determinação da porcentagem de ácido acético em vinagre**, para isso, importaremos dados através da **interação do Excel com o Python**.\n",
    "\n",
    "\\\n",
    "Todos os dados experimentais que utilizaremos nesta seção foram dados que eu obtive em minha experiência na graduação na disciplina de Laboratório de Análitica Clássica. No final desta seção criaremos um módulo contendo as definições para a aplicação da **Titulação Potenciométrica**.\n",
    "    \n",
    "\\\n",
    "O objetivo principal desta seção é criar um **treinamento** para a aplicação de **problemas do cotidiano de laboratório** utilizando os recursos da **linguagem do Python**, de modo que o usuário siga a lógica aplicada no exemplo abordado.\n",
    "\\\n",
    "\\\n",
    "No meu Google Drive, deixarei dados experimentais de outras práticas para utilizar como treinamento.\n",
    "\\\n",
    "\\\n",
    "**Link:**\n",
    "\\\n",
    "https://drive.google.com/drive/folders/1yxZyj3doQOAvfH0O-6JgefvqxULgJ3vE?usp=sharing"
   ]
  },
  {
   "cell_type": "markdown",
   "id": "4b7a5d39",
   "metadata": {},
   "source": [
    "# <span style=\"color:purple\"> 1º Passo: Importação de dados com a biblioteca Pandas\n",
    "\n",
    "Vamos importar o arquivo xlsx contendo os valores de pH e volume de solução padronizada de hidróxido de sódio. Baixe o arquivo **\"titulacao_potenciometrica.xlsx\"**.\n",
    "\\\n",
    "\\\n",
    "**Link:** \n",
    "\\\n",
    "https://docs.google.com/spreadsheets/d/11Q9tUWoWDxbBrqtIONxxpbotEdKDz5kt/edit?usp=sharing&ouid=105655151372591531914&rtpof=true&sd=true\n",
    "\\\n",
    "\\\n",
    "Uma vez feito o *upload* do arquivo no diretório, utilizaremos o método **pd.read_excel(\"nome_do_arquivo.xlsx\")**, dessa forma será gerado um **dataframe** do arquivo. Também é possível importar dados em arquivos com a extensão **CSV**, para isso, iremos usar o método **pd.read_csv(\"nome_do_arquivo.csv\", sep=';')**."
   ]
  },
  {
   "cell_type": "code",
   "execution_count": 3,
   "id": "c92beadd",
   "metadata": {},
   "outputs": [],
   "source": [
    "import pandas as pd "
   ]
  },
  {
   "cell_type": "code",
   "execution_count": 4,
   "id": "3515dffe",
   "metadata": {},
   "outputs": [
    {
     "data": {
      "text/html": [
       "<div>\n",
       "<style scoped>\n",
       "    .dataframe tbody tr th:only-of-type {\n",
       "        vertical-align: middle;\n",
       "    }\n",
       "\n",
       "    .dataframe tbody tr th {\n",
       "        vertical-align: top;\n",
       "    }\n",
       "\n",
       "    .dataframe thead th {\n",
       "        text-align: right;\n",
       "    }\n",
       "</style>\n",
       "<table border=\"1\" class=\"dataframe\">\n",
       "  <thead>\n",
       "    <tr style=\"text-align: right;\">\n",
       "      <th></th>\n",
       "      <th>V(mL)</th>\n",
       "      <th>pH</th>\n",
       "    </tr>\n",
       "  </thead>\n",
       "  <tbody>\n",
       "    <tr>\n",
       "      <th>0</th>\n",
       "      <td>0.0</td>\n",
       "      <td>3.40</td>\n",
       "    </tr>\n",
       "    <tr>\n",
       "      <th>1</th>\n",
       "      <td>1.0</td>\n",
       "      <td>3.65</td>\n",
       "    </tr>\n",
       "    <tr>\n",
       "      <th>2</th>\n",
       "      <td>2.0</td>\n",
       "      <td>3.93</td>\n",
       "    </tr>\n",
       "    <tr>\n",
       "      <th>3</th>\n",
       "      <td>3.0</td>\n",
       "      <td>4.12</td>\n",
       "    </tr>\n",
       "    <tr>\n",
       "      <th>4</th>\n",
       "      <td>4.0</td>\n",
       "      <td>4.32</td>\n",
       "    </tr>\n",
       "  </tbody>\n",
       "</table>\n",
       "</div>"
      ],
      "text/plain": [
       "   V(mL)    pH\n",
       "0    0.0  3.40\n",
       "1    1.0  3.65\n",
       "2    2.0  3.93\n",
       "3    3.0  4.12\n",
       "4    4.0  4.32"
      ]
     },
     "execution_count": 4,
     "metadata": {},
     "output_type": "execute_result"
    }
   ],
   "source": [
    "def impotar_excel(nome):\n",
    "    return pd.read_excel(nome)\n",
    "impotar_excel('titulacao_potenciometrica.xlsx').head()"
   ]
  },
  {
   "cell_type": "code",
   "execution_count": 5,
   "id": "9c4b0e43",
   "metadata": {},
   "outputs": [],
   "source": [
    "def impotar_csv(nome):\n",
    "    return pd.read_csv(nome)\n",
    "dados = impotar_excel('titulacao_potenciometrica.xlsx')"
   ]
  },
  {
   "cell_type": "markdown",
   "id": "8e568fd1",
   "metadata": {},
   "source": [
    "## <span style=\"color:purple\"> Editando DataFrame -Index e renomear colunas \n",
    "A edição de um dataframe é composto por dezenas de comandos da biblioteca do Pandas, infelizmente não será possível abordar devidamente todos eles, por isso acesse o link abaixo para obter alguns resumos desta abrangente biblioteca.\n",
    "    \n",
    "\\\n",
    "**Acesso aos resumos de algumas bibliotecas do Python**\n",
    "\\\n",
    "https://drive.google.com/drive/folders/12Bjumxn3Cwf1Ykt7-cPKSDsKbf71NKN2?usp=sharing"
   ]
  },
  {
   "cell_type": "markdown",
   "id": "fc0af57f",
   "metadata": {},
   "source": [
    "### <span style=\"color:darkblue\"> **Tamanho do dataframe**\n",
    "\n",
    "Vamos entender o tamanho de um dataframe através do comando **shape**."
   ]
  },
  {
   "cell_type": "code",
   "execution_count": 6,
   "id": "3893d14d",
   "metadata": {},
   "outputs": [
    {
     "data": {
      "text/plain": [
       "2"
      ]
     },
     "execution_count": 6,
     "metadata": {},
     "output_type": "execute_result"
    }
   ],
   "source": [
    "dados.shape[1]"
   ]
  },
  {
   "cell_type": "markdown",
   "id": "d80b6216",
   "metadata": {},
   "source": [
    "### <span style=\"color:darkblue\"> **Métodos index e columns**\n",
    "\n",
    "Como acesar os nomes de colunas e estrutura do index."
   ]
  },
  {
   "cell_type": "code",
   "execution_count": 7,
   "id": "dcd76a71",
   "metadata": {},
   "outputs": [
    {
     "data": {
      "text/plain": [
       "'pH'"
      ]
     },
     "execution_count": 7,
     "metadata": {},
     "output_type": "execute_result"
    }
   ],
   "source": [
    "dados.columns[1]"
   ]
  },
  {
   "cell_type": "markdown",
   "id": "cbe91242",
   "metadata": {},
   "source": [
    "### <span style=\"color:darkblue\"> **Método reindex()**\n",
    "\n",
    "Reconstrói o index do dataframe\n",
    " - O comando df.index retorna uma *series* do índice do dataframe"
   ]
  },
  {
   "cell_type": "code",
   "execution_count": 8,
   "id": "5309eeb2",
   "metadata": {},
   "outputs": [
    {
     "data": {
      "text/html": [
       "<div>\n",
       "<style scoped>\n",
       "    .dataframe tbody tr th:only-of-type {\n",
       "        vertical-align: middle;\n",
       "    }\n",
       "\n",
       "    .dataframe tbody tr th {\n",
       "        vertical-align: top;\n",
       "    }\n",
       "\n",
       "    .dataframe thead th {\n",
       "        text-align: right;\n",
       "    }\n",
       "</style>\n",
       "<table border=\"1\" class=\"dataframe\">\n",
       "  <thead>\n",
       "    <tr style=\"text-align: right;\">\n",
       "      <th></th>\n",
       "      <th>V(mL)</th>\n",
       "      <th>pH</th>\n",
       "    </tr>\n",
       "  </thead>\n",
       "  <tbody>\n",
       "    <tr>\n",
       "      <th>1</th>\n",
       "      <td>1.0</td>\n",
       "      <td>3.65</td>\n",
       "    </tr>\n",
       "    <tr>\n",
       "      <th>2</th>\n",
       "      <td>2.0</td>\n",
       "      <td>3.93</td>\n",
       "    </tr>\n",
       "    <tr>\n",
       "      <th>3</th>\n",
       "      <td>3.0</td>\n",
       "      <td>4.12</td>\n",
       "    </tr>\n",
       "    <tr>\n",
       "      <th>4</th>\n",
       "      <td>4.0</td>\n",
       "      <td>4.32</td>\n",
       "    </tr>\n",
       "    <tr>\n",
       "      <th>5</th>\n",
       "      <td>5.0</td>\n",
       "      <td>4.47</td>\n",
       "    </tr>\n",
       "  </tbody>\n",
       "</table>\n",
       "</div>"
      ],
      "text/plain": [
       "   V(mL)    pH\n",
       "1    1.0  3.65\n",
       "2    2.0  3.93\n",
       "3    3.0  4.12\n",
       "4    4.0  4.32\n",
       "5    5.0  4.47"
      ]
     },
     "execution_count": 8,
     "metadata": {},
     "output_type": "execute_result"
    }
   ],
   "source": [
    "def gerar_index(df):\n",
    "    return df.reindex(list(range(1,df.shape[0])))\n",
    "dados = gerar_index(dados)\n",
    "dados.head()"
   ]
  },
  {
   "cell_type": "markdown",
   "id": "901682be",
   "metadata": {},
   "source": [
    "### Renomear colunas \n",
    "df.rename(columns={'nome_velho':'nome_novo'})"
   ]
  },
  {
   "cell_type": "code",
   "execution_count": 9,
   "id": "7038abaa",
   "metadata": {},
   "outputs": [
    {
     "data": {
      "text/html": [
       "<div>\n",
       "<style scoped>\n",
       "    .dataframe tbody tr th:only-of-type {\n",
       "        vertical-align: middle;\n",
       "    }\n",
       "\n",
       "    .dataframe tbody tr th {\n",
       "        vertical-align: top;\n",
       "    }\n",
       "\n",
       "    .dataframe thead th {\n",
       "        text-align: right;\n",
       "    }\n",
       "</style>\n",
       "<table border=\"1\" class=\"dataframe\">\n",
       "  <thead>\n",
       "    <tr style=\"text-align: right;\">\n",
       "      <th></th>\n",
       "      <th>V</th>\n",
       "      <th>pH</th>\n",
       "    </tr>\n",
       "  </thead>\n",
       "  <tbody>\n",
       "    <tr>\n",
       "      <th>1</th>\n",
       "      <td>1.0</td>\n",
       "      <td>3.65</td>\n",
       "    </tr>\n",
       "    <tr>\n",
       "      <th>2</th>\n",
       "      <td>2.0</td>\n",
       "      <td>3.93</td>\n",
       "    </tr>\n",
       "    <tr>\n",
       "      <th>3</th>\n",
       "      <td>3.0</td>\n",
       "      <td>4.12</td>\n",
       "    </tr>\n",
       "    <tr>\n",
       "      <th>4</th>\n",
       "      <td>4.0</td>\n",
       "      <td>4.32</td>\n",
       "    </tr>\n",
       "    <tr>\n",
       "      <th>5</th>\n",
       "      <td>5.0</td>\n",
       "      <td>4.47</td>\n",
       "    </tr>\n",
       "  </tbody>\n",
       "</table>\n",
       "</div>"
      ],
      "text/plain": [
       "     V    pH\n",
       "1  1.0  3.65\n",
       "2  2.0  3.93\n",
       "3  3.0  4.12\n",
       "4  4.0  4.32\n",
       "5  5.0  4.47"
      ]
     },
     "execution_count": 9,
     "metadata": {},
     "output_type": "execute_result"
    }
   ],
   "source": [
    "def renomear_colunas(df):\n",
    "    return df.rename(columns={df.columns[0]:'V', df.columns[1]:'pH'})\n",
    "dados = renomear_colunas(dados)\n",
    "dados.head()"
   ]
  },
  {
   "cell_type": "markdown",
   "id": "f16880b4",
   "metadata": {},
   "source": [
    "## <span style=\"color:purple\"> Obtendo informações de um dataframe.\n",
    "Esta biblioteca fornece métodos que entregam informações de **tendência central e de dispersão** que são importantes para tomar algumas decisões com os dados. Além disso, a biblioteca inclui algumas opções de **visualização de dados**, como, gráficos tipo *scatter*, *box-plot*, *barras* e *histograma*."
   ]
  },
  {
   "cell_type": "markdown",
   "id": "b7d70bbd",
   "metadata": {},
   "source": [
    "### Análise descritiva dos valores de pH\n",
    "Vamos verificar os dados que são oferecidos com o método de descrição\n"
   ]
  },
  {
   "cell_type": "markdown",
   "id": "eb6b7b41",
   "metadata": {},
   "source": [
    "### df.describe()"
   ]
  },
  {
   "cell_type": "code",
   "execution_count": 12,
   "id": "b81a011e",
   "metadata": {},
   "outputs": [
    {
     "data": {
      "text/html": [
       "<div>\n",
       "<style scoped>\n",
       "    .dataframe tbody tr th:only-of-type {\n",
       "        vertical-align: middle;\n",
       "    }\n",
       "\n",
       "    .dataframe tbody tr th {\n",
       "        vertical-align: top;\n",
       "    }\n",
       "\n",
       "    .dataframe thead th {\n",
       "        text-align: right;\n",
       "    }\n",
       "</style>\n",
       "<table border=\"1\" class=\"dataframe\">\n",
       "  <thead>\n",
       "    <tr style=\"text-align: right;\">\n",
       "      <th></th>\n",
       "      <th>V</th>\n",
       "      <th>pH</th>\n",
       "    </tr>\n",
       "  </thead>\n",
       "  <tbody>\n",
       "    <tr>\n",
       "      <th>count</th>\n",
       "      <td>36.000000</td>\n",
       "      <td>36.000000</td>\n",
       "    </tr>\n",
       "    <tr>\n",
       "      <th>mean</th>\n",
       "      <td>18.125000</td>\n",
       "      <td>7.850556</td>\n",
       "    </tr>\n",
       "    <tr>\n",
       "      <th>std</th>\n",
       "      <td>10.127315</td>\n",
       "      <td>3.304809</td>\n",
       "    </tr>\n",
       "    <tr>\n",
       "      <th>min</th>\n",
       "      <td>1.000000</td>\n",
       "      <td>3.650000</td>\n",
       "    </tr>\n",
       "    <tr>\n",
       "      <th>25%</th>\n",
       "      <td>9.750000</td>\n",
       "      <td>5.025000</td>\n",
       "    </tr>\n",
       "    <tr>\n",
       "      <th>50%</th>\n",
       "      <td>18.500000</td>\n",
       "      <td>6.410000</td>\n",
       "    </tr>\n",
       "    <tr>\n",
       "      <th>75%</th>\n",
       "      <td>26.250000</td>\n",
       "      <td>11.497500</td>\n",
       "    </tr>\n",
       "    <tr>\n",
       "      <th>max</th>\n",
       "      <td>35.000000</td>\n",
       "      <td>12.790000</td>\n",
       "    </tr>\n",
       "  </tbody>\n",
       "</table>\n",
       "</div>"
      ],
      "text/plain": [
       "               V         pH\n",
       "count  36.000000  36.000000\n",
       "mean   18.125000   7.850556\n",
       "std    10.127315   3.304809\n",
       "min     1.000000   3.650000\n",
       "25%     9.750000   5.025000\n",
       "50%    18.500000   6.410000\n",
       "75%    26.250000  11.497500\n",
       "max    35.000000  12.790000"
      ]
     },
     "execution_count": 12,
     "metadata": {},
     "output_type": "execute_result"
    }
   ],
   "source": [
    "dados.describe()"
   ]
  },
  {
   "cell_type": "code",
   "execution_count": 11,
   "id": "b24a244d",
   "metadata": {},
   "outputs": [
    {
     "data": {
      "text/plain": [
       "3.3048094342677907"
      ]
     },
     "execution_count": 11,
     "metadata": {},
     "output_type": "execute_result"
    }
   ],
   "source": [
    "dados['pH'].std()"
   ]
  },
  {
   "cell_type": "markdown",
   "id": "90562409",
   "metadata": {},
   "source": [
    "### Adicionando coluna com desvio padrão de pH ao DataFrame"
   ]
  },
  {
   "cell_type": "code",
   "execution_count": 17,
   "id": "55444f2e",
   "metadata": {},
   "outputs": [
    {
     "data": {
      "text/html": [
       "<div>\n",
       "<style scoped>\n",
       "    .dataframe tbody tr th:only-of-type {\n",
       "        vertical-align: middle;\n",
       "    }\n",
       "\n",
       "    .dataframe tbody tr th {\n",
       "        vertical-align: top;\n",
       "    }\n",
       "\n",
       "    .dataframe thead th {\n",
       "        text-align: right;\n",
       "    }\n",
       "</style>\n",
       "<table border=\"1\" class=\"dataframe\">\n",
       "  <thead>\n",
       "    <tr style=\"text-align: right;\">\n",
       "      <th></th>\n",
       "      <th>V</th>\n",
       "      <th>pH</th>\n",
       "      <th>Desvio Padrão</th>\n",
       "    </tr>\n",
       "  </thead>\n",
       "  <tbody>\n",
       "    <tr>\n",
       "      <th>1</th>\n",
       "      <td>1.0</td>\n",
       "      <td>3.65</td>\n",
       "      <td>3.304809</td>\n",
       "    </tr>\n",
       "    <tr>\n",
       "      <th>2</th>\n",
       "      <td>2.0</td>\n",
       "      <td>3.93</td>\n",
       "      <td>3.304809</td>\n",
       "    </tr>\n",
       "    <tr>\n",
       "      <th>3</th>\n",
       "      <td>3.0</td>\n",
       "      <td>4.12</td>\n",
       "      <td>3.304809</td>\n",
       "    </tr>\n",
       "    <tr>\n",
       "      <th>4</th>\n",
       "      <td>4.0</td>\n",
       "      <td>4.32</td>\n",
       "      <td>3.304809</td>\n",
       "    </tr>\n",
       "    <tr>\n",
       "      <th>5</th>\n",
       "      <td>5.0</td>\n",
       "      <td>4.47</td>\n",
       "      <td>3.304809</td>\n",
       "    </tr>\n",
       "  </tbody>\n",
       "</table>\n",
       "</div>"
      ],
      "text/plain": [
       "     V    pH  Desvio Padrão\n",
       "1  1.0  3.65       3.304809\n",
       "2  2.0  3.93       3.304809\n",
       "3  3.0  4.12       3.304809\n",
       "4  4.0  4.32       3.304809\n",
       "5  5.0  4.47       3.304809"
      ]
     },
     "execution_count": 17,
     "metadata": {},
     "output_type": "execute_result"
    }
   ],
   "source": [
    "dados['Desvio Padrão'] = dados['pH'].std()\n",
    "dados.head()"
   ]
  },
  {
   "cell_type": "code",
   "execution_count": 19,
   "id": "99e10002",
   "metadata": {},
   "outputs": [
    {
     "data": {
      "text/html": [
       "<div>\n",
       "<style scoped>\n",
       "    .dataframe tbody tr th:only-of-type {\n",
       "        vertical-align: middle;\n",
       "    }\n",
       "\n",
       "    .dataframe tbody tr th {\n",
       "        vertical-align: top;\n",
       "    }\n",
       "\n",
       "    .dataframe thead th {\n",
       "        text-align: right;\n",
       "    }\n",
       "</style>\n",
       "<table border=\"1\" class=\"dataframe\">\n",
       "  <thead>\n",
       "    <tr style=\"text-align: right;\">\n",
       "      <th></th>\n",
       "      <th>V</th>\n",
       "      <th>pH</th>\n",
       "      <th>Desvio Padrão</th>\n",
       "      <th>std</th>\n",
       "    </tr>\n",
       "  </thead>\n",
       "  <tbody>\n",
       "    <tr>\n",
       "      <th>1</th>\n",
       "      <td>1.0</td>\n",
       "      <td>3.65</td>\n",
       "      <td>3.304809</td>\n",
       "      <td>3.3</td>\n",
       "    </tr>\n",
       "    <tr>\n",
       "      <th>2</th>\n",
       "      <td>2.0</td>\n",
       "      <td>3.93</td>\n",
       "      <td>3.304809</td>\n",
       "      <td>3.3</td>\n",
       "    </tr>\n",
       "    <tr>\n",
       "      <th>3</th>\n",
       "      <td>3.0</td>\n",
       "      <td>4.12</td>\n",
       "      <td>3.304809</td>\n",
       "      <td>3.3</td>\n",
       "    </tr>\n",
       "    <tr>\n",
       "      <th>4</th>\n",
       "      <td>4.0</td>\n",
       "      <td>4.32</td>\n",
       "      <td>3.304809</td>\n",
       "      <td>3.3</td>\n",
       "    </tr>\n",
       "    <tr>\n",
       "      <th>5</th>\n",
       "      <td>5.0</td>\n",
       "      <td>4.47</td>\n",
       "      <td>3.304809</td>\n",
       "      <td>3.3</td>\n",
       "    </tr>\n",
       "  </tbody>\n",
       "</table>\n",
       "</div>"
      ],
      "text/plain": [
       "     V    pH  Desvio Padrão  std\n",
       "1  1.0  3.65       3.304809  3.3\n",
       "2  2.0  3.93       3.304809  3.3\n",
       "3  3.0  4.12       3.304809  3.3\n",
       "4  4.0  4.32       3.304809  3.3\n",
       "5  5.0  4.47       3.304809  3.3"
      ]
     },
     "execution_count": 19,
     "metadata": {},
     "output_type": "execute_result"
    }
   ],
   "source": [
    "dados['std'] = dados['Desvio Padrão'].round(2)\n",
    "dados.head()"
   ]
  },
  {
   "cell_type": "markdown",
   "id": "8c6f4f23",
   "metadata": {},
   "source": [
    "### Excluindo uma coluna através do método df.drop()\n",
    "\n",
    "df.drop(\"Nome_da_coluna\", axis = 'columns')\\\n",
    "\\\n",
    "Lembrando que:\\\n",
    "\\\n",
    "axis=0 --> index\\\n",
    "axis=1 --> columns"
   ]
  },
  {
   "cell_type": "code",
   "execution_count": 20,
   "id": "ff9074c4",
   "metadata": {},
   "outputs": [
    {
     "data": {
      "text/html": [
       "<div>\n",
       "<style scoped>\n",
       "    .dataframe tbody tr th:only-of-type {\n",
       "        vertical-align: middle;\n",
       "    }\n",
       "\n",
       "    .dataframe tbody tr th {\n",
       "        vertical-align: top;\n",
       "    }\n",
       "\n",
       "    .dataframe thead th {\n",
       "        text-align: right;\n",
       "    }\n",
       "</style>\n",
       "<table border=\"1\" class=\"dataframe\">\n",
       "  <thead>\n",
       "    <tr style=\"text-align: right;\">\n",
       "      <th></th>\n",
       "      <th>V</th>\n",
       "      <th>pH</th>\n",
       "      <th>std</th>\n",
       "    </tr>\n",
       "  </thead>\n",
       "  <tbody>\n",
       "    <tr>\n",
       "      <th>1</th>\n",
       "      <td>1.0</td>\n",
       "      <td>3.65</td>\n",
       "      <td>3.3</td>\n",
       "    </tr>\n",
       "    <tr>\n",
       "      <th>2</th>\n",
       "      <td>2.0</td>\n",
       "      <td>3.93</td>\n",
       "      <td>3.3</td>\n",
       "    </tr>\n",
       "    <tr>\n",
       "      <th>3</th>\n",
       "      <td>3.0</td>\n",
       "      <td>4.12</td>\n",
       "      <td>3.3</td>\n",
       "    </tr>\n",
       "    <tr>\n",
       "      <th>4</th>\n",
       "      <td>4.0</td>\n",
       "      <td>4.32</td>\n",
       "      <td>3.3</td>\n",
       "    </tr>\n",
       "    <tr>\n",
       "      <th>5</th>\n",
       "      <td>5.0</td>\n",
       "      <td>4.47</td>\n",
       "      <td>3.3</td>\n",
       "    </tr>\n",
       "  </tbody>\n",
       "</table>\n",
       "</div>"
      ],
      "text/plain": [
       "     V    pH  std\n",
       "1  1.0  3.65  3.3\n",
       "2  2.0  3.93  3.3\n",
       "3  3.0  4.12  3.3\n",
       "4  4.0  4.32  3.3\n",
       "5  5.0  4.47  3.3"
      ]
     },
     "execution_count": 20,
     "metadata": {},
     "output_type": "execute_result"
    }
   ],
   "source": [
    "dados = dados.drop('Desvio Padrão', axis=1)\n",
    "dados.head()\n"
   ]
  },
  {
   "cell_type": "markdown",
   "id": "bf1fc00e",
   "metadata": {},
   "source": [
    "Para excluir linhas de dataframe, utilize index para 1 linha ou o slice para um intevalo de linhas. Observe abaixo:"
   ]
  },
  {
   "cell_type": "code",
   "execution_count": 22,
   "id": "895744ef",
   "metadata": {},
   "outputs": [
    {
     "data": {
      "text/html": [
       "<div>\n",
       "<style scoped>\n",
       "    .dataframe tbody tr th:only-of-type {\n",
       "        vertical-align: middle;\n",
       "    }\n",
       "\n",
       "    .dataframe tbody tr th {\n",
       "        vertical-align: top;\n",
       "    }\n",
       "\n",
       "    .dataframe thead th {\n",
       "        text-align: right;\n",
       "    }\n",
       "</style>\n",
       "<table border=\"1\" class=\"dataframe\">\n",
       "  <thead>\n",
       "    <tr style=\"text-align: right;\">\n",
       "      <th></th>\n",
       "      <th>V</th>\n",
       "      <th>pH</th>\n",
       "      <th>std</th>\n",
       "    </tr>\n",
       "  </thead>\n",
       "  <tbody>\n",
       "    <tr>\n",
       "      <th>4</th>\n",
       "      <td>4.0</td>\n",
       "      <td>4.32</td>\n",
       "      <td>3.3</td>\n",
       "    </tr>\n",
       "    <tr>\n",
       "      <th>5</th>\n",
       "      <td>5.0</td>\n",
       "      <td>4.47</td>\n",
       "      <td>3.3</td>\n",
       "    </tr>\n",
       "    <tr>\n",
       "      <th>6</th>\n",
       "      <td>6.0</td>\n",
       "      <td>4.60</td>\n",
       "      <td>3.3</td>\n",
       "    </tr>\n",
       "    <tr>\n",
       "      <th>7</th>\n",
       "      <td>7.0</td>\n",
       "      <td>4.71</td>\n",
       "      <td>3.3</td>\n",
       "    </tr>\n",
       "    <tr>\n",
       "      <th>8</th>\n",
       "      <td>8.0</td>\n",
       "      <td>4.85</td>\n",
       "      <td>3.3</td>\n",
       "    </tr>\n",
       "  </tbody>\n",
       "</table>\n",
       "</div>"
      ],
      "text/plain": [
       "     V    pH  std\n",
       "4  4.0  4.32  3.3\n",
       "5  5.0  4.47  3.3\n",
       "6  6.0  4.60  3.3\n",
       "7  7.0  4.71  3.3\n",
       "8  8.0  4.85  3.3"
      ]
     },
     "execution_count": 22,
     "metadata": {},
     "output_type": "execute_result"
    }
   ],
   "source": [
    "dados.drop(dados.index[0:3],axis=0).head()"
   ]
  },
  {
   "cell_type": "markdown",
   "id": "6c87f0c1",
   "metadata": {},
   "source": [
    "## <span style=\"color:purple\">Visualizando dados com pandas \n",
    " \n",
    "Embora os dados experimentais não são adequados para os tipos de representações gráficas abaixo, aplicaremos suas representações gráficas. "
   ]
  },
  {
   "cell_type": "markdown",
   "id": "d0320e35",
   "metadata": {},
   "source": [
    "### Gráfco de disperção *Scatter* \n",
    "```\n",
    "df.plot.scatter(x,y)\n",
    "```"
   ]
  },
  {
   "cell_type": "code",
   "execution_count": 330,
   "id": "7a277727",
   "metadata": {},
   "outputs": [
    {
     "data": {
      "text/plain": [
       "<AxesSubplot:xlabel='V'>"
      ]
     },
     "execution_count": 330,
     "metadata": {},
     "output_type": "execute_result"
    },
    {
     "data": {
      "image/png": "[encoded data removed]",
      "text/plain": [
       "<Figure size 432x288 with 1 Axes>"
      ]
     },
     "metadata": {
      "needs_background": "light"
     },
     "output_type": "display_data"
    }
   ],
   "source": [
    "dados.plot(x='V',y='pH')"
   ]
  },
  {
   "cell_type": "markdown",
   "id": "af4a8360",
   "metadata": {},
   "source": [
    "### Gráfco de Barras\n",
    " \n",
    "```\n",
    "df.plot.bar()\n",
    "```"
   ]
  },
  {
   "cell_type": "code",
   "execution_count": 331,
   "id": "5d642064",
   "metadata": {},
   "outputs": [
    {
     "data": {
      "text/plain": [
       "<AxesSubplot:>"
      ]
     },
     "execution_count": 331,
     "metadata": {},
     "output_type": "execute_result"
    },
    {
     "data": {
      "image/png": "[encoded data removed]",
      "text/plain": [
       "<Figure size 432x288 with 1 Axes>"
      ]
     },
     "metadata": {
      "needs_background": "light"
     },
     "output_type": "display_data"
    }
   ],
   "source": [
    "dados.plot.bar()"
   ]
  },
  {
   "cell_type": "markdown",
   "id": "e525b7d4",
   "metadata": {},
   "source": [
    "### Boxplot \n",
    "```\n",
    "df.plot.box()\n",
    "```"
   ]
  },
  {
   "cell_type": "code",
   "execution_count": 332,
   "id": "38a41650",
   "metadata": {},
   "outputs": [
    {
     "data": {
      "text/plain": [
       "<AxesSubplot:>"
      ]
     },
     "execution_count": 332,
     "metadata": {},
     "output_type": "execute_result"
    },
    {
     "data": {
      "image/png": "[encoded data removed]",
      "text/plain": [
       "<Figure size 432x288 with 1 Axes>"
      ]
     },
     "metadata": {
      "needs_background": "light"
     },
     "output_type": "display_data"
    }
   ],
   "source": [
    "dados.plot.box()"
   ]
  },
  {
   "cell_type": "markdown",
   "id": "2a31b051",
   "metadata": {},
   "source": [
    "### Histograma\n",
    " \n",
    "```\n",
    "df.plot.hist()\n",
    "```"
   ]
  },
  {
   "cell_type": "code",
   "execution_count": 24,
   "id": "4f87f304",
   "metadata": {},
   "outputs": [
    {
     "data": {
      "text/plain": [
       "<AxesSubplot:ylabel='Frequency'>"
      ]
     },
     "execution_count": 24,
     "metadata": {},
     "output_type": "execute_result"
    },
    {
     "data": {
      "image/png": "[encoded data removed]",
      "text/plain": [
       "<Figure size 432x288 with 1 Axes>"
      ]
     },
     "metadata": {
      "needs_background": "light"
     },
     "output_type": "display_data"
    }
   ],
   "source": [
    "dados.plot.hist()"
   ]
  },
  {
   "cell_type": "markdown",
   "id": "25faef03",
   "metadata": {},
   "source": [
    "### Aviso contextual:\n",
    "Vale salientar que as representações gráficas apresentadas não possuem algum valor na aplicação de titulação potenciométrica, estamos aproveitando este exemplo para apresentar alguns recursos oferecidos pela biblioteca Pandas. "
   ]
  },
  {
   "cell_type": "markdown",
   "id": "f5cae56d",
   "metadata": {},
   "source": [
    "# <span style=\"color:purple\"> 2º Passo: Tratamento dos dados\n",
    "Nesta etapa **trataremos os dados** para obter as colunas com os valores da **primeira derivada**, **primeira derivada reversa** e **segunda derivada**. "
   ]
  },
  {
   "cell_type": "markdown",
   "id": "c973809e",
   "metadata": {},
   "source": [
    "## <span style=\"color:purple\">Gerando colunas com os dados das derivadas  \n",
    "Nesta etapa precisaremos explorar novos métodos da biblioteca Pandas para realizar o **cálculo das derivadas**, neste caso o problema está relacionado em aplicar estes cálculos diretamente aos dados experimentais, ou seja, sem utilizar uma equação que descreva o gráfico. Assim, utilizaremos os seguintes métodos:\n",
    "\\\n",
    "\\\n",
    "`assign()`\n",
    "\\\n",
    "Retorna o dataframe juntamente com uma nova coluna que foi gerado através de um kwarg.\n",
    "https://pandas.pydata.org/docs/reference/api/pandas.DataFrame.assign.html\n",
    "\\\n",
    "\\\n",
    "`eval()`\n",
    "\\\n",
    "Avalia uma expressão matemática através de uma *string*, dessa maneira as operações matemáticas são suportadas dentro de uma string.\n",
    "https://pandas.pydata.org/docs/reference/api/pandas.eval.html\n",
    "\\\n",
    "\\\n",
    "`diff()`\n",
    "\\\n",
    "Retorna o cálculo da derivada de dados selecionados.\\\n",
    "https://pandas.pydata.org/docs/reference/api/pandas.DataFrame.diff.html?highlight=diff#pandas.DataFrame.diff    "
   ]
  },
  {
   "cell_type": "code",
   "execution_count": 334,
   "id": "acf32e48",
   "metadata": {},
   "outputs": [],
   "source": [
    "# Coluna primeira derivada\n",
    "def derivar_d1(df):\n",
    "    return df.assign(d1=df.diff().eval('pH/V').round(2))\n",
    "dados = derivar_d1(dados)"
   ]
  },
  {
   "cell_type": "code",
   "execution_count": 335,
   "id": "8546f163",
   "metadata": {
    "scrolled": true
   },
   "outputs": [],
   "source": [
    "# Coluna primeira derivada reversa\n",
    "def derivar_d1r(df):\n",
    "    return df.assign(d1r=df.diff().eval('V/pH').round(2))\n",
    "dados = derivar_d1r(dados)"
   ]
  },
  {
   "cell_type": "code",
   "execution_count": 336,
   "id": "2717ab6c",
   "metadata": {
    "scrolled": true
   },
   "outputs": [
    {
     "data": {
      "text/html": [
       "<div>\n",
       "<style scoped>\n",
       "    .dataframe tbody tr th:only-of-type {\n",
       "        vertical-align: middle;\n",
       "    }\n",
       "\n",
       "    .dataframe tbody tr th {\n",
       "        vertical-align: top;\n",
       "    }\n",
       "\n",
       "    .dataframe thead th {\n",
       "        text-align: right;\n",
       "    }\n",
       "</style>\n",
       "<table border=\"1\" class=\"dataframe\">\n",
       "  <thead>\n",
       "    <tr style=\"text-align: right;\">\n",
       "      <th></th>\n",
       "      <th>V</th>\n",
       "      <th>pH</th>\n",
       "      <th>d1</th>\n",
       "      <th>d1r</th>\n",
       "      <th>d2</th>\n",
       "    </tr>\n",
       "  </thead>\n",
       "  <tbody>\n",
       "    <tr>\n",
       "      <th>1</th>\n",
       "      <td>1.0</td>\n",
       "      <td>3.65</td>\n",
       "      <td>NaN</td>\n",
       "      <td>NaN</td>\n",
       "      <td>NaN</td>\n",
       "    </tr>\n",
       "    <tr>\n",
       "      <th>2</th>\n",
       "      <td>2.0</td>\n",
       "      <td>3.93</td>\n",
       "      <td>0.28</td>\n",
       "      <td>3.57</td>\n",
       "      <td>NaN</td>\n",
       "    </tr>\n",
       "    <tr>\n",
       "      <th>3</th>\n",
       "      <td>3.0</td>\n",
       "      <td>4.12</td>\n",
       "      <td>0.19</td>\n",
       "      <td>5.26</td>\n",
       "      <td>-0.09</td>\n",
       "    </tr>\n",
       "    <tr>\n",
       "      <th>4</th>\n",
       "      <td>4.0</td>\n",
       "      <td>4.32</td>\n",
       "      <td>0.20</td>\n",
       "      <td>5.00</td>\n",
       "      <td>0.01</td>\n",
       "    </tr>\n",
       "    <tr>\n",
       "      <th>5</th>\n",
       "      <td>5.0</td>\n",
       "      <td>4.47</td>\n",
       "      <td>0.15</td>\n",
       "      <td>6.67</td>\n",
       "      <td>-0.05</td>\n",
       "    </tr>\n",
       "  </tbody>\n",
       "</table>\n",
       "</div>"
      ],
      "text/plain": [
       "     V    pH    d1   d1r    d2\n",
       "1  1.0  3.65   NaN   NaN   NaN\n",
       "2  2.0  3.93  0.28  3.57   NaN\n",
       "3  3.0  4.12  0.19  5.26 -0.09\n",
       "4  4.0  4.32  0.20  5.00  0.01\n",
       "5  5.0  4.47  0.15  6.67 -0.05"
      ]
     },
     "execution_count": 336,
     "metadata": {},
     "output_type": "execute_result"
    }
   ],
   "source": [
    "# Coluna segunda derivada\n",
    "def derivar_d2(df):\n",
    "    return df.assign(d2=df.diff().eval('d1/V').round(2))\n",
    "dados = derivar_d2(dados)\n",
    "dados.head()"
   ]
  },
  {
   "cell_type": "markdown",
   "id": "69fd5bbd",
   "metadata": {},
   "source": [
    "# <span style=\"color:purple\"> 3º Passo: Visualização dos dados\n",
    "Precisamos criar uma função que retone em uma única imagem todos os gráficos relacionados à **Titulação Potenciométrica**, para isso, vamos abordar o recurso **pyplot** de **plt.subplot()**. Esta ferramenta possibilita **várias combinações para representação multigráfica**, esta função vai ser muito importante quando desejarmos criar um recurso para salvar os dados, por exemplo, armazenar os dados em um arquivo pdf.\\\n",
    "\\\n",
    "**Material Complementar:** \n",
    "\\\n",
    "\\\n",
    "__Matplotlib.Pyplot__\n",
    "\\\n",
    "https://matplotlib.org/stable/gallery/lines_bars_and_markers/categorical_variables.html#sphx-glr-gallery-lines-bars-and-markers-categorical-variables-py\n",
    "\\\n",
    "\\\n",
    "__Referência Style Sheets__\n",
    "\\\n",
    "https://matplotlib.org/3.5.1/gallery/style_sheets/style_sheets_reference.html"
   ]
  },
  {
   "cell_type": "code",
   "execution_count": 337,
   "id": "6930cce0",
   "metadata": {},
   "outputs": [],
   "source": [
    "import matplotlib.pyplot as plt\n",
    "import numpy as np "
   ]
  },
  {
   "cell_type": "code",
   "execution_count": 338,
   "id": "daebb9c6",
   "metadata": {
    "scrolled": true
   },
   "outputs": [],
   "source": [
    "def plotar_grafico(df):\n",
    "    fig, axs = plt.subplots(2,2, figsize=(10,10))\n",
    "    \n",
    "    axs[0,0].plot(df['V'],df['pH'], color='green' )\n",
    "    axs[0,1].plot(df['V'],df['d1'],color='k')\n",
    "    axs[1,0].plot(df['V'],df['d1r'], color= 'r')\n",
    "    axs[1,1].plot(df['V'],df['d2'], color= 'darkred')\n",
    "    \n",
    "    axs[0,0].grid(color='gray', linestyle='solid')\n",
    "    axs[0,1].grid(color='gray', linestyle='solid')\n",
    "    axs[1,0].grid(color='gray', linestyle='solid')\n",
    "    axs[1,1].grid(color='gray', linestyle='solid')\n",
    "    \n",
    "    axs[0,0].set_title('Curva de titulação')\n",
    "    axs[0,1].set_title('Primeira derivada')\n",
    "    axs[1,0].set_title('Primeira derivada reversa')\n",
    "    axs[1,1].set_title('Segunda derivada')\n",
    "    \n",
    "    axs[0,0].set_xticks(np.arange(0,35,step=2))\n",
    "    axs[0,1].set_xticks(np.arange(0,35,step=2))\n",
    "    axs[1,0].set_xticks(np.arange(0,35,step=2))\n",
    "    axs[1,1].set_xticks(np.arange(0,35,step=2))\n",
    "    \n",
    "    axs[0,0].set_xlabel('V (mL)')\n",
    "    axs[0,1].set_xlabel('V (mL)')\n",
    "    axs[1,0].set_xlabel('V (mL)')\n",
    "    axs[1,1].set_xlabel('V (mL)')\n",
    "    \n",
    "    axs[0,0].set_ylabel('pH')\n",
    "    axs[0,1].set_ylabel('d(pH)/dV')\n",
    "    axs[1,0].set_ylabel('dV/d(pH)')\n",
    "    axs[1,1].set_ylabel('d²pH/d²V')\n",
    "    \n",
    "    fig.suptitle('Titulação Potenciométrica', fontsize=20)\n",
    "    plt.savefig('titulacao_potenciometrica.pdf')\n",
    "    \n",
    "    return plt.show()"
   ]
  },
  {
   "cell_type": "code",
   "execution_count": 339,
   "id": "7a9f57d7",
   "metadata": {},
   "outputs": [
    {
     "data": {
      "image/png": "[encoded data removed]",
      "text/plain": [
       "<Figure size 720x720 with 4 Axes>"
      ]
     },
     "metadata": {
      "needs_background": "light"
     },
     "output_type": "display_data"
    }
   ],
   "source": [
    "plotar_grafico(dados)"
   ]
  },
  {
   "cell_type": "markdown",
   "id": "07703fca",
   "metadata": {},
   "source": [
    "# <span style=\"color:purple\"> 4º Passo: Obtendo dados\n",
    "Uma vez tratado e visualizado os dados, vamos obter os dados que estamos procurando. Em outras palavras, vamos obter o volume de equivalência através dos gráficos de derivadas."
   ]
  },
  {
   "cell_type": "markdown",
   "id": "79bf50fc",
   "metadata": {},
   "source": [
    "## <span style=\"color:purple\"> Resolvendo os valores inválidos (NaN) no dataframe \n",
    " \n",
    "O valor **NaN** significa que é um **valor inválido** em nossos dados, este tipo de valor se trata de um grande problema envolvendo ciência de dados porque muitas vezes os dados coletado possuem estes vazios. Para resolver isto, recomenda-se na **maioria** dos casos que **substitua por 0**. Aqui na biblioteca pandas podemos resolver isto com o método **fillna()** ou **replace()**.\\\n",
    "\\\n",
    "No entanto, substituir o valor inválido no **segundo gráfico** não é uma boa ideia, uma vez que o valor que estamos procurando para encontrar o volume de equivalência é para y=0. Logo, temos que substituir por outro valor que **não seja igual à zero**.\n",
    "\\\n",
    "\\\n",
    "\\\n",
    "__Material complementar da página GeekforGeeks:__\n",
    "\\\n",
    "https://www.geeksforgeeks.org/replace-nan-values-with-zeros-in-pandas-dataframe/\n",
    "\\\n",
    "\\\n",
    "__Material complementar da página Insight__\n",
    "\\\n",
    "https://insightlab.ufc.br/6-truques-do-pandas-para-impulsionar-sua-analise-de-dados"
   ]
  },
  {
   "cell_type": "code",
   "execution_count": 340,
   "id": "c3e19e62",
   "metadata": {},
   "outputs": [
    {
     "data": {
      "text/html": [
       "<div>\n",
       "<style scoped>\n",
       "    .dataframe tbody tr th:only-of-type {\n",
       "        vertical-align: middle;\n",
       "    }\n",
       "\n",
       "    .dataframe tbody tr th {\n",
       "        vertical-align: top;\n",
       "    }\n",
       "\n",
       "    .dataframe thead th {\n",
       "        text-align: right;\n",
       "    }\n",
       "</style>\n",
       "<table border=\"1\" class=\"dataframe\">\n",
       "  <thead>\n",
       "    <tr style=\"text-align: right;\">\n",
       "      <th></th>\n",
       "      <th>V</th>\n",
       "      <th>pH</th>\n",
       "      <th>d1</th>\n",
       "      <th>d1r</th>\n",
       "      <th>d2</th>\n",
       "    </tr>\n",
       "  </thead>\n",
       "  <tbody>\n",
       "    <tr>\n",
       "      <th>1</th>\n",
       "      <td>1.0</td>\n",
       "      <td>3.65</td>\n",
       "      <td>0.28</td>\n",
       "      <td>3.57</td>\n",
       "      <td>-0.09</td>\n",
       "    </tr>\n",
       "    <tr>\n",
       "      <th>2</th>\n",
       "      <td>2.0</td>\n",
       "      <td>3.93</td>\n",
       "      <td>0.28</td>\n",
       "      <td>3.57</td>\n",
       "      <td>-0.09</td>\n",
       "    </tr>\n",
       "    <tr>\n",
       "      <th>3</th>\n",
       "      <td>3.0</td>\n",
       "      <td>4.12</td>\n",
       "      <td>0.19</td>\n",
       "      <td>5.26</td>\n",
       "      <td>-0.09</td>\n",
       "    </tr>\n",
       "    <tr>\n",
       "      <th>4</th>\n",
       "      <td>4.0</td>\n",
       "      <td>4.32</td>\n",
       "      <td>0.20</td>\n",
       "      <td>5.00</td>\n",
       "      <td>0.01</td>\n",
       "    </tr>\n",
       "    <tr>\n",
       "      <th>5</th>\n",
       "      <td>5.0</td>\n",
       "      <td>4.47</td>\n",
       "      <td>0.15</td>\n",
       "      <td>6.67</td>\n",
       "      <td>-0.05</td>\n",
       "    </tr>\n",
       "  </tbody>\n",
       "</table>\n",
       "</div>"
      ],
      "text/plain": [
       "     V    pH    d1   d1r    d2\n",
       "1  1.0  3.65  0.28  3.57 -0.09\n",
       "2  2.0  3.93  0.28  3.57 -0.09\n",
       "3  3.0  4.12  0.19  5.26 -0.09\n",
       "4  4.0  4.32  0.20  5.00  0.01\n",
       "5  5.0  4.47  0.15  6.67 -0.05"
      ]
     },
     "execution_count": 340,
     "metadata": {},
     "output_type": "execute_result"
    }
   ],
   "source": [
    "def trocar_nan(df):\n",
    "    df['d1'] = df['d1'].fillna(axis=0, method='bfill')  #ffill substituirá valores anteriores enquando o bfill será valores posteriores\n",
    "    df['d1r'] = df['d1r'].fillna(axis=0, method='bfill')\n",
    "    df['d2'] = df['d2'].fillna(axis=0, method='bfill')\n",
    "    return df\n",
    "trocar_nan(dados).head()"
   ]
  },
  {
   "cell_type": "markdown",
   "id": "42bdbc75",
   "metadata": {},
   "source": [
    "## <span style=\"color:purple\">Obtendo volume de equivalência \n",
    "  \n",
    "Sabemos que o **volume de equivalência** é obtido pelos gráficos de primeira derivada, primeira derivada inversa e segunda derivada, o primeiro gráfico verificamos o **valor máximo global**, já o segundo quando o **valor mínimo global** e o terceiro quando **y=0**. "
   ]
  },
  {
   "cell_type": "markdown",
   "id": "bd1d2e28",
   "metadata": {},
   "source": [
    "### Manipulação de dados em  um dataframe\n",
    " \n",
    "Para encontrarmos o **volume de equivalência**, precisa-se encontrar o valor máximo da coluna da primeira derivadas para depois associar o volume correspondente. Este tipo de problema onde se procura um valor ou intervalor de um dataframe é muito comum, o método que utilizaremos será o método **df.loc[]**. Este método possibilita **encontrar a linha de um determinado valor** ou as **linhas de um intervalo**. Neste caso, o valor que precisamos é o valor máximo da coluna 'd1'.\n",
    "\n",
    "Outro recurso que utilzaremos também nesta etapa o **df.values**, este retorna o *numpy.array* de um DataFrame ou Serie. Com isso, vamos acessar **o volume de equivalência** a através do **index** deste array, semelhante que fizemos com as listas."
   ]
  },
  {
   "cell_type": "code",
   "execution_count": 341,
   "id": "10641111",
   "metadata": {},
   "outputs": [
    {
     "data": {
      "text/html": [
       "<div>\n",
       "<style scoped>\n",
       "    .dataframe tbody tr th:only-of-type {\n",
       "        vertical-align: middle;\n",
       "    }\n",
       "\n",
       "    .dataframe tbody tr th {\n",
       "        vertical-align: top;\n",
       "    }\n",
       "\n",
       "    .dataframe thead th {\n",
       "        text-align: right;\n",
       "    }\n",
       "</style>\n",
       "<table border=\"1\" class=\"dataframe\">\n",
       "  <thead>\n",
       "    <tr style=\"text-align: right;\">\n",
       "      <th></th>\n",
       "      <th>V</th>\n",
       "      <th>pH</th>\n",
       "      <th>d1</th>\n",
       "      <th>d1r</th>\n",
       "      <th>d2</th>\n",
       "    </tr>\n",
       "  </thead>\n",
       "  <tbody>\n",
       "    <tr>\n",
       "      <th>12</th>\n",
       "      <td>12.0</td>\n",
       "      <td>5.29</td>\n",
       "      <td>0.12</td>\n",
       "      <td>8.33</td>\n",
       "      <td>0.01</td>\n",
       "    </tr>\n",
       "    <tr>\n",
       "      <th>13</th>\n",
       "      <td>13.0</td>\n",
       "      <td>5.41</td>\n",
       "      <td>0.12</td>\n",
       "      <td>8.33</td>\n",
       "      <td>0.00</td>\n",
       "    </tr>\n",
       "    <tr>\n",
       "      <th>14</th>\n",
       "      <td>14.0</td>\n",
       "      <td>5.53</td>\n",
       "      <td>0.12</td>\n",
       "      <td>8.33</td>\n",
       "      <td>0.00</td>\n",
       "    </tr>\n",
       "  </tbody>\n",
       "</table>\n",
       "</div>"
      ],
      "text/plain": [
       "       V    pH    d1   d1r    d2\n",
       "12  12.0  5.29  0.12  8.33  0.01\n",
       "13  13.0  5.41  0.12  8.33  0.00\n",
       "14  14.0  5.53  0.12  8.33  0.00"
      ]
     },
     "execution_count": 341,
     "metadata": {},
     "output_type": "execute_result"
    }
   ],
   "source": [
    "dados.loc[dados['d1'] == 0.12]"
   ]
  },
  {
   "cell_type": "markdown",
   "id": "52f7f021",
   "metadata": {},
   "source": [
    "### Encontrando Volume de Equivalência no gráfico primeira derivada "
   ]
  },
  {
   "cell_type": "code",
   "execution_count": 342,
   "id": "9efbcf16",
   "metadata": {},
   "outputs": [
    {
     "data": {
      "text/plain": [
       "9.33"
      ]
     },
     "execution_count": 342,
     "metadata": {},
     "output_type": "execute_result"
    }
   ],
   "source": [
    "def ve_d1(df):\n",
    "    return df.loc[df['d1'] == df['d1'].max()].values[0][0]\n",
    "ve_d1(dados)\n",
    "\n",
    "def pe_d1(df):\n",
    "    return df.loc[df['d1'] == df['d1'].max()].values[0][1]\n",
    "pe_d1(dados)"
   ]
  },
  {
   "cell_type": "markdown",
   "id": "71e5302a",
   "metadata": {},
   "source": [
    "### Encontrando Volume de Equivalência no gráfico primeira derivada invertida\n",
    " "
   ]
  },
  {
   "cell_type": "code",
   "execution_count": 343,
   "id": "7866f855",
   "metadata": {},
   "outputs": [
    {
     "data": {
      "text/plain": [
       "22.5"
      ]
     },
     "execution_count": 343,
     "metadata": {},
     "output_type": "execute_result"
    }
   ],
   "source": [
    "def ve_d1r(df):\n",
    "    return df.loc[df['d1r'] == df['d1r'].min()].values[0][0]\n",
    "ve_d1r(dados)"
   ]
  },
  {
   "cell_type": "markdown",
   "id": "42aff6fc",
   "metadata": {},
   "source": [
    "### Encontrando Volume de Equivalência no gráfico segunda derivada\n"
   ]
  },
  {
   "cell_type": "code",
   "execution_count": 344,
   "id": "4eaf63fd",
   "metadata": {},
   "outputs": [
    {
     "data": {
      "text/plain": [
       "13.0"
      ]
     },
     "execution_count": 344,
     "metadata": {},
     "output_type": "execute_result"
    }
   ],
   "source": [
    "def ve_d2(df):\n",
    "    return df.loc[df['d2'] == 0].values[0][0]\n",
    "ve_d2(dados)\n",
    "# valor incorreto "
   ]
  },
  {
   "cell_type": "markdown",
   "id": "bb72b99d",
   "metadata": {},
   "source": [
    "## <span style=\"color:purple\">Explorando o problema encontrado no gráfico da segunda derivada.\n",
    "  \n",
    "Notamos que o gráfico da segunda derivada, por algum motivo, possui mais de um valor nulo no seu eixo das ordenadas. Com isso, precisamos selecionar a região de interesse para obter um resultado plausível. "
   ]
  },
  {
   "cell_type": "markdown",
   "id": "20dc9468",
   "metadata": {},
   "source": [
    "### Selecionando um intervalo de dados\n",
    " \n",
    "Vamos selecionar um intervalo que inclua a zona de máximo/mínimos e que seja próximo ao ponto de equivalência encontrado no gráfico de derivadas."
   ]
  },
  {
   "cell_type": "code",
   "execution_count": 345,
   "id": "1bcbe7ff",
   "metadata": {},
   "outputs": [],
   "source": [
    "Vmax = dados.loc[dados['d2'] == dados['d2'].max()].index[0]\n",
    "Vmin = dados.loc[dados['d2'] == dados['d2'].min()].index[0]\n",
    "\n",
    "x_r = dados.loc[Vmax:Vmin]['V'].values\n",
    "y_r = dados.loc[Vmax:Vmin]['d2'].values"
   ]
  },
  {
   "cell_type": "code",
   "execution_count": 346,
   "id": "55f5a381",
   "metadata": {},
   "outputs": [
    {
     "data": {
      "image/png": "[encoded data removed]",
      "text/plain": [
       "<Figure size 432x288 with 1 Axes>"
      ]
     },
     "metadata": {
      "needs_background": "light"
     },
     "output_type": "display_data"
    }
   ],
   "source": [
    "plt.scatter(x_r,y_r, color ='y')\n",
    "plt.plot(x_r, y_r, color = 'k')\n",
    "plt.title('Região do ponto de equivalência')\n",
    "plt.grid()\n",
    "plt.show()"
   ]
  },
  {
   "cell_type": "markdown",
   "id": "569dc387",
   "metadata": {},
   "source": [
    "### Interpolação de gráfico 1-D \n",
    "\n",
    "Agora visualizamos o gráfico da segunda derivada na região de interesse, precisamos obter o ponto deste gráfico onde **y=0**. Então, precisamos criar uma **interpolação** para gerar **n pontos** neste gráfico, tendo em vista isso, vamos recorrer o módulo **scipy.interpolate**.  \n",
    "\\\n",
    "\\\n",
    "\\\n",
    "**Interpolação com módulo Scipy da página **GeekforGeeks**\n",
    "\\\n",
    "https://www.geeksforgeeks.org/scipy-interpolation/\n",
    "\\\n",
    "\\\n",
    "**Sobre interpolação**:\n",
    "\\\n",
    "https://en.wikipedia.org/wiki/Linear_interpolation\n",
    "\\\n",
    "\\\n",
    "**Documentação do módulo scipy.interpolate**\n",
    "\\\n",
    "https://docs.scipy.org/doc/scipy/reference/interpolate.html"
   ]
  },
  {
   "cell_type": "code",
   "execution_count": 347,
   "id": "a45d4e87",
   "metadata": {},
   "outputs": [],
   "source": [
    "from scipy.interpolate import interp1d\n",
    "import numpy as np "
   ]
  },
  {
   "cell_type": "code",
   "execution_count": 348,
   "id": "8c8e7b7f",
   "metadata": {},
   "outputs": [],
   "source": [
    "x = dados['V'].values\n",
    "y = dados['d2'].values"
   ]
  },
  {
   "cell_type": "code",
   "execution_count": 349,
   "id": "835cf169",
   "metadata": {},
   "outputs": [],
   "source": [
    "f = interp1d(x,y)"
   ]
  },
  {
   "cell_type": "code",
   "execution_count": 350,
   "id": "7d1ae913",
   "metadata": {},
   "outputs": [],
   "source": [
    "x_i =  np.linspace(22.5,23, num = 1000, endpoint=True)\n",
    "y_i = f(x_i)\n",
    "interp = pd.DataFrame({'V':x_i.round(2),'d2':y_i.round(2)})"
   ]
  },
  {
   "cell_type": "code",
   "execution_count": 351,
   "id": "5185f1a0",
   "metadata": {},
   "outputs": [
    {
     "data": {
      "image/png": "[encoded data removed]",
      "text/plain": [
       "<Figure size 432x288 with 1 Axes>"
      ]
     },
     "metadata": {
      "needs_background": "light"
     },
     "output_type": "display_data"
    }
   ],
   "source": [
    "plt.scatter(x_i,y_i, color ='y')\n",
    "plt.plot(x_r, y_r, color = 'k')\n",
    "plt.title('Região do ponto de equivalência')\n",
    "plt.grid()\n",
    "plt.show()"
   ]
  },
  {
   "cell_type": "code",
   "execution_count": 352,
   "id": "1fbc2e67",
   "metadata": {},
   "outputs": [
    {
     "data": {
      "text/plain": [
       "22.85"
      ]
     },
     "execution_count": 352,
     "metadata": {},
     "output_type": "execute_result"
    }
   ],
   "source": [
    "ve_d2(interp)"
   ]
  },
  {
   "cell_type": "markdown",
   "id": "3edc2971",
   "metadata": {},
   "source": [
    "### Regressão Linear \n",
    "\n",
    "Através do método de interpolação 1d utilizado na biblioteca **scipy**, foi possível encontrar o volume de equivalência. Vamos continuar explorando este erro para apresentá-los a **regressão linear** usando a biblioteca **sklearn**(). Vale salientar, que esta ferramenta não é necessária para prosseguir com esta aplicação química, no entanto, é muito comum precisarmos construir uma equação de uma reta em diversas aplicações.\n",
    "\\\n",
    "\\\n",
    "\\\n",
    "**Documentação Sklearn**:\n",
    "\\\n",
    "https://en.wikipedia.org/wiki/Linear_regression\n",
    "\\\n",
    "\\\n",
    "**Sobre regressão linear**:\n",
    "\\\n",
    "https://scikit-learn.org/stable/modules/generated/sklearn.linear_model.LinearRegression.html\n",
    "\\\n",
    "\\\n",
    "**Regressão Linear com Sklearn: Conceito e Aplicação (Medium)**:\n",
    "\\\n",
    "https://medium.com/@lamartine_sl/regress%C3%A3o-linear-com-sklearn-modelo-de-previs%C3%A3o-de-custos-com-plano-de-sa%C3%BAde-5e963e590f4c)"
   ]
  },
  {
   "cell_type": "code",
   "execution_count": 353,
   "id": "42fa1109",
   "metadata": {},
   "outputs": [],
   "source": [
    "from sklearn.linear_model import LinearRegression"
   ]
  },
  {
   "cell_type": "code",
   "execution_count": 354,
   "id": "c46c5892",
   "metadata": {},
   "outputs": [],
   "source": [
    "reg = LinearRegression()"
   ]
  },
  {
   "cell_type": "code",
   "execution_count": 355,
   "id": "0d3454cb",
   "metadata": {},
   "outputs": [],
   "source": [
    "x_i = x_i.reshape(-1,1)"
   ]
  },
  {
   "cell_type": "code",
   "execution_count": 356,
   "id": "d522f6f2",
   "metadata": {},
   "outputs": [],
   "source": [
    "reg = reg.fit(x_i,y_i)"
   ]
  },
  {
   "cell_type": "code",
   "execution_count": 357,
   "id": "656d38bf",
   "metadata": {},
   "outputs": [],
   "source": [
    "coef_a = reg.coef_[0]"
   ]
  },
  {
   "cell_type": "code",
   "execution_count": 358,
   "id": "0710a036",
   "metadata": {},
   "outputs": [],
   "source": [
    "coef_l = reg.intercept_"
   ]
  },
  {
   "cell_type": "code",
   "execution_count": 359,
   "id": "8c6a8d56",
   "metadata": {},
   "outputs": [],
   "source": [
    "coef_d = reg.score(x_i,y_i)"
   ]
  },
  {
   "cell_type": "code",
   "execution_count": 360,
   "id": "f0879fdc",
   "metadata": {},
   "outputs": [
    {
     "data": {
      "image/png": "[encoded data removed]",
      "text/plain": [
       "<Figure size 432x288 with 1 Axes>"
      ]
     },
     "metadata": {
      "needs_background": "light"
     },
     "output_type": "display_data"
    }
   ],
   "source": [
    "plt.scatter(x_i,y_i, color ='y')\n",
    "plt.plot(x_r, y_r, color = 'k')\n",
    "plt.title('Região do ponto de equivalência')\n",
    "plt.grid()\n",
    "plt.legend(['y = {0:.1f}x + {1:.1f}  - R²={2:.2f}'.format(coef_a, coef_l,coef_d)])\n",
    "plt.show()"
   ]
  },
  {
   "cell_type": "code",
   "execution_count": 363,
   "id": "a29579fa",
   "metadata": {},
   "outputs": [
    {
     "data": {
      "text/plain": [
       "22.86"
      ]
     },
     "execution_count": 363,
     "metadata": {},
     "output_type": "execute_result"
    }
   ],
   "source": [
    "v_e = round(-coef_l/coef_a,2)\n",
    "v_e"
   ]
  },
  {
   "cell_type": "markdown",
   "id": "1d73e1af",
   "metadata": {},
   "source": [
    "# <span style=\"color:purple\"> Último Passo: Apresentando Resultados\n",
    "\n",
    "Agora temos todos os resultados que o experimentador deve saber para tirar suas conclusões de sua análise. Entretanto, vamos criar um módulo contendo as definições desta aplicação, isto significa que é importante que este módulo entregue os resultado de forma adequada. Assim sendo, vamos entregar as **imagens dos gráficos** em uma extensão de preferência e os **dados das derivadas e volume de equivalência** em uma **planilha Excel**. "
   ]
  },
  {
   "cell_type": "code",
   "execution_count": 375,
   "id": "15d3f447",
   "metadata": {},
   "outputs": [
    {
     "data": {
      "text/html": [
       "<div>\n",
       "<style scoped>\n",
       "    .dataframe tbody tr th:only-of-type {\n",
       "        vertical-align: middle;\n",
       "    }\n",
       "\n",
       "    .dataframe tbody tr th {\n",
       "        vertical-align: top;\n",
       "    }\n",
       "\n",
       "    .dataframe thead th {\n",
       "        text-align: right;\n",
       "    }\n",
       "</style>\n",
       "<table border=\"1\" class=\"dataframe\">\n",
       "  <thead>\n",
       "    <tr style=\"text-align: right;\">\n",
       "      <th></th>\n",
       "      <th>Primeira Derivada</th>\n",
       "      <th>Primeira Derivada. R</th>\n",
       "      <th>Segunda Derivada</th>\n",
       "    </tr>\n",
       "  </thead>\n",
       "  <tbody>\n",
       "    <tr>\n",
       "      <th>V(mL)</th>\n",
       "      <td>22.5</td>\n",
       "      <td>22.5</td>\n",
       "      <td>13.0</td>\n",
       "    </tr>\n",
       "  </tbody>\n",
       "</table>\n",
       "</div>"
      ],
      "text/plain": [
       "       Primeira Derivada  Primeira Derivada. R  Segunda Derivada\n",
       "V(mL)               22.5                  22.5              13.0"
      ]
     },
     "execution_count": 375,
     "metadata": {},
     "output_type": "execute_result"
    }
   ],
   "source": [
    "def gerar_df_ve(df):\n",
    "    return pd.DataFrame({'Primeira Derivada': [ve_d1(df)],'Primeira Derivada. R':[ve_d1r(df)],\n",
    "                         'Segunda Derivada':[ve_d2(df)]},index=['V(mL)'])\n",
    "gerar_df_ve(dados)"
   ]
  },
  {
   "cell_type": "code",
   "execution_count": 376,
   "id": "dba83a36",
   "metadata": {},
   "outputs": [],
   "source": [
    "def salvar_df(df):\n",
    "    resultados = pd.ExcelWriter('titulacao_potenciometrica.xlsx')\n",
    "    df.to_excel(resultados, sheet_name='Titulação Dados')\n",
    "    gerar_df_ve(df).to_excel(resultados, sheet_name='Volume de Equivalência')\n",
    "    return resultados.save()"
   ]
  },
  {
   "cell_type": "code",
   "execution_count": 377,
   "id": "3e368aed",
   "metadata": {},
   "outputs": [],
   "source": [
    "salvar_df(dados)"
   ]
  }
 ],
 "metadata": {
  "kernelspec": {
   "display_name": "Python 3",
   "language": "python",
   "name": "python3"
  },
  "language_info": {
   "codemirror_mode": {
    "name": "ipython",
    "version": 3
   },
   "file_extension": ".py",
   "mimetype": "text/x-python",
   "name": "python",
   "nbconvert_exporter": "python",
   "pygments_lexer": "ipython3",
   "version": "3.8.8"
  }
 },
 "nbformat": 4,
 "nbformat_minor": 5
}
