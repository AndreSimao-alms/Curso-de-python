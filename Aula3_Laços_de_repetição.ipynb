{
  "nbformat": 4,
  "nbformat_minor": 0,
  "metadata": {
    "colab": {
      "name": "Aula3 - Laços de repetição.ipynb",
      "provenance": [],
      "collapsed_sections": [],
      "toc_visible": true,
      "authorship_tag": "ABX9TyPf0XLLtCYUBIMiUlzOc/tc",
      "include_colab_link": true
    },
    "kernelspec": {
      "name": "python3",
      "display_name": "Python 3"
    },
    "language_info": {
      "name": "python"
    }
  },
  "cells": [
    {
      "cell_type": "markdown",
      "metadata": {
        "id": "view-in-github",
        "colab_type": "text"
      },
      "source": [
        "<a href=\"https://colab.research.google.com/github/AndreSimao-alms/Curso-de-python/blob/main/Aula3_La%C3%A7os_de_repeti%C3%A7%C3%A3o.ipynb\" target=\"_parent\"><img src=\"https://colab.research.google.com/assets/colab-badge.svg\" alt=\"Open In Colab\"/></a>"
      ]
    },
    {
      "cell_type": "markdown",
      "source": [
        "# COMANDO WHILE\n",
        "- Responsável de executar um conjuntos de comandos, o fim do loop se encerrará quando uma condição predeterminada ser atendida. "
      ],
      "metadata": {
        "id": "nK9TbVE_A02p"
      }
    },
    {
      "cell_type": "markdown",
      "source": [
        "## Sintaxe de condição numérica\n",
        "- Forma de utilizar o comando while de modo que é predeterminado um número específico de execuções do loop"
      ],
      "metadata": {
        "id": "9VAk5dhKh9Bn"
      }
    },
    {
      "cell_type": "markdown",
      "source": [
        "###Exemplo 1: Numerador simples."
      ],
      "metadata": {
        "id": "Jx3DN2SKQSWE"
      }
    },
    {
      "cell_type": "code",
      "execution_count": null,
      "metadata": {
        "id": "jMrMaLXdAsF4"
      },
      "outputs": [],
      "source": [
        "termos = int(input('Número de termos:  '))\n",
        "n=0\n",
        "while n<=10: \n",
        "  print(n)\n",
        "  n +=1\n",
        "  #Rede de comandos dentro do loop \n",
        "print('Finalizado')"
      ]
    },
    {
      "cell_type": "markdown",
      "source": [
        "###Exemplo 2: Progressão aritmética de números ímpares"
      ],
      "metadata": {
        "id": "8E_rPMrvSeUl"
      }
    },
    {
      "cell_type": "code",
      "source": [
        "termos = int(input('Número de termos:  '))\n",
        "n=0\n",
        "while n<=termos:\n",
        "  n =  2*n+(1)\n",
        "  print(n)"
      ],
      "metadata": {
        "colab": {
          "base_uri": "https://localhost:8080/"
        },
        "id": "I363YMvpSs1y",
        "outputId": "9ef9329b-f010-4ef6-f4f6-3eee000a2fdc"
      },
      "execution_count": null,
      "outputs": [
        {
          "output_type": "stream",
          "name": "stdout",
          "text": [
            "Número de termos:  10\n",
            "1\n",
            "3\n",
            "7\n",
            "15\n"
          ]
        }
      ]
    },
    {
      "cell_type": "markdown",
      "source": [
        "##Sintaxe de condição lógica\n",
        "- Neste caso não há um número predeterminado de execuções do loop, dessa maneira, precisa-se inserir o comando 'break' quando a condição lógica for atendida.\n",
        "- Neste código existe um método utizado nas listas e dicionários, o comando append(). Este é responsável por adicionar um novo item neste tipo de variável. \n",
        "\n",
        "```\n",
        "# Sintaxe do genérica do comando append()\n",
        "lista = [1,2]\n",
        "lista.append(3)\n",
        "## resposta do programa\n",
        "[1,2,3]\n",
        "```\n",
        "\n"
      ],
      "metadata": {
        "id": "yaRE8QV3kGXM"
      }
    },
    {
      "cell_type": "markdown",
      "source": [
        "###Exemplo 3: lista de produtos do mercado "
      ],
      "metadata": {
        "id": "izxCmJ94QYWZ"
      }
    },
    {
      "cell_type": "code",
      "source": [
        "lista_produtos = []\n",
        "while True: \n",
        "  produto = input('Informe o produto?')\n",
        "  resposta = input('Algo a mais? Tecle \"n\" para sair.').upper()\n",
        "  lista_produtos.append(resposta) # COMANDO NOVO: o comando append() é utilizado para adicionar um novo elemento em uma lista\n",
        "  if resposta == 'N':\n",
        "    print('Lista finalizada')\n",
        "    break "
      ],
      "metadata": {
        "colab": {
          "base_uri": "https://localhost:8080/"
        },
        "id": "md5jcuKQ9zor",
        "outputId": "683ec74e-65ca-4322-fcb6-9fbf0886ec27"
      },
      "execution_count": null,
      "outputs": [
        {
          "output_type": "stream",
          "name": "stdout",
          "text": [
            "Informe o produto?banana\n",
            "Algo a mais? Tecle \"n\" para sair.a\n",
            "Informe o produto?maça\n",
            "Algo a mais? Tecle \"n\" para sair.a\n",
            "Informe o produto?arroz\n",
            "Algo a mais? Tecle \"n\" para sair.n\n",
            "Lista finalizada\n"
          ]
        }
      ]
    },
    {
      "cell_type": "markdown",
      "source": [
        "##Exemplo 4: Cálculo de calor em caldeira - parte 2\n",
        "Construa um programa que calcula o valor de calor de caldeiras cilínndricas e depois adicione em uma lista com os valores organizados de maneira decrescente.\\\n",
        "**Método sort()**\n",
        "- Responsável de organizar os item de uma lista ou dicionário de forma crescente (por padrão), este tipo de organização pode ser em ordem númerica ou em ordem alfabética. \n",
        "\n",
        "```\n",
        "# Sintaxe genérica do método sort()\n",
        "lista1= [1,2,654,454]\n",
        "lista2= ['acido cloridríco', 'oxido de chumbo', 'iodo', 'urânio', 'einstênio']\n",
        "lista1.sort()\n",
        "lista2.sort()\n",
        "print(lista1)\n",
        "print(lista2)\n",
        "## resposta do programa\n",
        "[1, 2, 454, 654]\n",
        "['acido cloridríco', 'einstênio', 'iodo', 'oxido de chumbo', 'urânio']\n",
        "```\n",
        "**Resposta do Desafio 1 da Aula 1**\n",
        "\n",
        "\n",
        "```\n",
        "altura = float(input('Qual é a altura da caldeira?Em m³'))\n",
        "diametro = float(input('Qual é o diametro da caldeira?Em m³'))\n",
        "pi = 3.14\n",
        "v = altura*(pi*(diametro**2/4))\n",
        "calor = (1000*v)*1*(80-25)\n",
        "print(f\"O calor necessário para aquecer a caldeira é de {calor} cal.\")\n",
        "```\n",
        "\n",
        "\n"
      ],
      "metadata": {
        "id": "3U3iAjFClmjE"
      }
    },
    {
      "cell_type": "code",
      "source": [
        "import math\n",
        "calculos_calor = []\n",
        "while True:\n",
        "  altura = float(input('Qual é a altura da caldeira?Em m³'))\n",
        "  diametro = float(input('Qual é o diametro da caldeira?Em m³'))\n",
        "  pi = math.pi\n",
        "  v = altura*(pi*(diametro**2/4))\n",
        "  calor = (1000*v)*1*(80-25)\n",
        "  #print(f\"O calor necessário para aquecer a caldeira é de {calor} cal.\")\n",
        "  calculos_calor.append(calor)\n",
        "  resposta = str(input('Inserir mais um cálculo? Digite \"n\" para sair'))\n",
        "  if resposta == 'N' or resposta == 'n':\n",
        "    break\n",
        "calculos_calor.sort()\n",
        "print(f'Valor do calor gerado pelos aquecimento das caldeiras: {calculos_calor}')"
      ],
      "metadata": {
        "id": "7hYKgndRk1GB",
        "colab": {
          "base_uri": "https://localhost:8080/"
        },
        "outputId": "7252cc59-ef27-4aa9-c0e0-c177ff76185f"
      },
      "execution_count": null,
      "outputs": [
        {
          "output_type": "stream",
          "name": "stdout",
          "text": [
            "Qual é a altura da caldeira?Em m³11\n",
            "Qual é o diametro da caldeira?Em m³2\n",
            "Inserir mais um cálculo? Digite \"n\" para sairn\n",
            "Valor do calor gerado pelos aquecimento das caldeiras: [1900663.5554218246]\n"
          ]
        }
      ]
    },
    {
      "cell_type": "code",
      "source": [
        "tempo, concentracao = []"
      ],
      "metadata": {
        "colab": {
          "base_uri": "https://localhost:8080/"
        },
        "id": "-2BcehmtndIh",
        "outputId": "6ab88a6f-9fab-42d8-9462-e4ebd0c51e8d"
      },
      "execution_count": null,
      "outputs": [
        {
          "output_type": "stream",
          "name": "stdout",
          "text": [
            "None\n",
            "None\n"
          ]
        }
      ]
    },
    {
      "cell_type": "markdown",
      "source": [
        "##DESAFIO I\n",
        "Faça um programa que imprima uma lista com n termo da sequencia abaixo juntamente com a sua soma total.\\\n",
        "(Utilize o comando while)\\\n",
        "![Screenshot_10.png](data:image/png;base64,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)\n",
        "\n",
        "\n",
        "**Método sum() em listas**\\\n",
        "Calcula a soma dos itens de uma lista\n",
        "```\n",
        "#Sintaxe genérica do método sum() em listas\n",
        "lista = [1,2,3,4]\n",
        "sum(lista)\n",
        "# resposta do programa\n",
        "11\n",
        "```\n",
        "\n"
      ],
      "metadata": {
        "id": "GXIpgVFgzzyv"
      }
    },
    {
      "cell_type": "code",
      "source": [
        "lista = []\n",
        "n=1\n",
        "i=0\n",
        "termos = int(input('Número de termos:  '))\n",
        "while i<=termos:\n",
        "  i += 1\n",
        "  e = ((-1)**(i-1))*(n**2)\n",
        "  lista.append(e)\n",
        "  print(e,n)\n",
        "  n = 2*i+1\n",
        "  e=0\n",
        "sum(lista)\n",
        "print(sum(lista),lista)"
      ],
      "metadata": {
        "colab": {
          "base_uri": "https://localhost:8080/"
        },
        "id": "-cCOLx_cYCRd",
        "outputId": "961c5b6b-36b9-431c-fae2-dc7685cfb249"
      },
      "execution_count": null,
      "outputs": [
        {
          "output_type": "stream",
          "name": "stdout",
          "text": [
            "Número de termos:  10\n",
            "1 1\n",
            "-9 3\n",
            "25 5\n",
            "-49 7\n",
            "81 9\n",
            "-121 11\n",
            "169 13\n",
            "-225 15\n",
            "289 17\n",
            "-361 19\n",
            "441 21\n",
            "241 [1, -9, 25, -49, 81, -121, 169, -225, 289, -361, 441]\n"
          ]
        }
      ]
    },
    {
      "cell_type": "code",
      "source": [
        "pressoes = []\n",
        "while True:\n",
        "  pressao = float(input('Digite a pressão parcial: '))\n",
        "  pressoes.append(pressao)\n",
        "  resposta = input('Adicionar mais um ponto experimental? Digite não para finalizar').upper()\n",
        "  if resposta == 'N':\n",
        "    break\n",
        "pressao_mistura = sum(pressoes) # COMANDO NOVO: o método sum() calcula a soma dos itens de uma lista\n",
        "print(pressao_mistura)"
      ],
      "metadata": {
        "colab": {
          "base_uri": "https://localhost:8080/"
        },
        "id": "ahVnybdRzzy5",
        "outputId": "95d8201a-cc81-459c-e0ee-ea46f0dc62d2"
      },
      "execution_count": null,
      "outputs": [
        {
          "name": "stdout",
          "output_type": "stream",
          "text": [
            "Digite a pressão parcial: 1\n",
            "Adicionar mais um ponto experimental? Digite não para finalizar1\n",
            "Digite a pressão parcial: 2\n",
            "Adicionar mais um ponto experimental? Digite não para finalizar2\n",
            "Digite a pressão parcial: 3\n",
            "Adicionar mais um ponto experimental? Digite não para finalizar3\n",
            "Digite a pressão parcial: 4\n",
            "Adicionar mais um ponto experimental? Digite não para finalizarn\n"
          ]
        }
      ]
    },
    {
      "cell_type": "markdown",
      "source": [
        "##DESAFIO II\n",
        "Construa um programa que recolha um-a-um dos dados experimentais de tempo e concentração. depois, aplique-o com os dados oferecidos abaixo:\\\n",
        "(Utilize o comando while)\\\n",
        "![Screenshot_4.png](data:image/png;base64,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)"
      ],
      "metadata": {
        "id": "QKMv3D1mumNr"
      }
    },
    {
      "cell_type": "code",
      "source": [
        "tempo, concentracao = [], []\n",
        "concentracao = []\n",
        "while True:\n",
        "  dado1 = float(input('Digite o valor de tempo: '))\n",
        "  dado2 = float(input('Digite a respectiva concentração do composto: '))\n",
        "  tempo.append(dado1)\n",
        "  concentracao.append(dado2)\n",
        "  resposta = input('Adicionar mais um ponto experimental? Digite não para finalizar').upper()\n",
        "  if resposta == 'N':\n",
        "    break\n",
        "print('Operação finalizada','\\n',tempo,'\\n', concentracao)  "
      ],
      "metadata": {
        "colab": {
          "base_uri": "https://localhost:8080/"
        },
        "id": "-NTh6o1Xnfpf",
        "outputId": "3200128f-2158-42a8-b5df-ca324891667a"
      },
      "execution_count": null,
      "outputs": [
        {
          "output_type": "stream",
          "name": "stdout",
          "text": [
            "Digite o valor de tempo: 0\n",
            "Digite a respectiva concentração do composto: 0.001\n",
            "Adicionar mais um ponto experimental? Digite não para finalizar\n",
            "Digite o valor de tempo: 5\n",
            "Digite a respectiva concentração do composto: 0.002\n",
            "Adicionar mais um ponto experimental? Digite não para finalizar\n",
            "Digite o valor de tempo: 10\n",
            "Digite a respectiva concentração do composto: 0.003\n",
            "Adicionar mais um ponto experimental? Digite não para finalizarn\n",
            "Operação finalizada \n",
            " [0.0, 5.0, 10.0] [0.001, 0.002, 0.003]\n"
          ]
        }
      ]
    },
    {
      "cell_type": "markdown",
      "source": [
        "#RANGE\n",
        "Esta função retorna uma sequência numérica que é definida através do argumento da função.\\\n",
        "Ela pode ser utilizada de três maneiras:\n",
        "- Stop possui intervalo aberto;\n",
        "\n",
        "- Start possui intervalo fechado;\n",
        "\n",
        "- Por padrão, step = 1;\n",
        "\n",
        "- É possível construir sequências negativas."
      ],
      "metadata": {
        "id": "n1_EG8ldq4IY"
      }
    },
    {
      "cell_type": "markdown",
      "source": [
        "## Método 1 - range(stop)\n"
      ],
      "metadata": {
        "id": "gN7vXUcj3-Dx"
      }
    },
    {
      "cell_type": "code",
      "source": [
        ""
      ],
      "metadata": {
        "id": "PL0dp6cM4B4h"
      },
      "execution_count": null,
      "outputs": []
    },
    {
      "cell_type": "markdown",
      "source": [
        "##Método 2 - range(start,stop)\n"
      ],
      "metadata": {
        "id": "SRuko4X34bRX"
      }
    },
    {
      "cell_type": "code",
      "source": [
        ""
      ],
      "metadata": {
        "id": "zwaynB0j4lqv"
      },
      "execution_count": null,
      "outputs": []
    },
    {
      "cell_type": "markdown",
      "source": [
        "##Método 3 - range(start,stop,step)"
      ],
      "metadata": {
        "id": "OdYPkyH74nJG"
      }
    },
    {
      "cell_type": "code",
      "source": [
        ""
      ],
      "metadata": {
        "id": "c4Sa_uhS4uqH"
      },
      "execution_count": null,
      "outputs": []
    },
    {
      "cell_type": "markdown",
      "source": [
        "## Desafio em aula\n",
        "Construa um programa que leia um valor de um intervalor contendo números naturais e depois realize as seguintes operações:\n",
        "- Soma total, media e desvio padrão de todos os números ímpares\n",
        "- Soma total, media e desvio padrão de todos os números pares\n",
        "- Soma total, media e desvio padrão de todos os números multíplos de 7.\\\n",
        "Dica: utilize o comando while e tbm utilize o link com a documentação da biblioteca statistics para executar os comandos solicitados"
      ],
      "metadata": {
        "id": "4wIZJ9204xWm"
      }
    },
    {
      "cell_type": "code",
      "source": [
        "import statistics as sta\n",
        "n=int(input('Valor: '))\n",
        "i =0\n",
        "while i<n:\n",
        "  lista = list(range(1, n,2))\n",
        "  i+=1\n",
        "print(f'Soma total: {sum(lista)}','\\n',f'Desvio Padrão: {sta.stdev(lista)}')"
      ],
      "metadata": {
        "colab": {
          "base_uri": "https://localhost:8080/"
        },
        "id": "CVo_g8Fa42jo",
        "outputId": "bc8590fb-85f9-4512-f115-a2c6814a1f27"
      },
      "execution_count": null,
      "outputs": [
        {
          "output_type": "stream",
          "name": "stdout",
          "text": [
            "Valor: 1000\n",
            "Soma total: 250000 \n",
            " Desvio Padrão: 288.9636655359978\n"
          ]
        }
      ]
    },
    {
      "cell_type": "code",
      "source": [
        "}lista"
      ],
      "metadata": {
        "colab": {
          "base_uri": "https://localhost:8080/"
        },
        "id": "8KtVR2jL7KO2",
        "outputId": "9cf1a580-3630-4d5b-b6a7-b7799f245671"
      },
      "execution_count": null,
      "outputs": [
        {
          "output_type": "execute_result",
          "data": {
            "text/plain": [
              "[1,\n",
              " 3,\n",
              " 5,\n",
              " 7,\n",
              " 9,\n",
              " 11,\n",
              " 13,\n",
              " 15,\n",
              " 17,\n",
              " 19,\n",
              " 21,\n",
              " 23,\n",
              " 25,\n",
              " 27,\n",
              " 29,\n",
              " 31,\n",
              " 33,\n",
              " 35,\n",
              " 37,\n",
              " 39,\n",
              " 41,\n",
              " 43,\n",
              " 45,\n",
              " 47,\n",
              " 49,\n",
              " 51,\n",
              " 53,\n",
              " 55,\n",
              " 57,\n",
              " 59,\n",
              " 61,\n",
              " 63,\n",
              " 65,\n",
              " 67,\n",
              " 69,\n",
              " 71,\n",
              " 73,\n",
              " 75,\n",
              " 77,\n",
              " 79,\n",
              " 81,\n",
              " 83,\n",
              " 85,\n",
              " 87,\n",
              " 89,\n",
              " 91,\n",
              " 93,\n",
              " 95,\n",
              " 97,\n",
              " 99]"
            ]
          },
          "metadata": {},
          "execution_count": 2
        }
      ]
    },
    {
      "cell_type": "markdown",
      "source": [
        "#COMANDO FOR\n",
        "- Responsável de executar um conjuntos de comandos, o fim do loop será dado por um número limitado de vezes"
      ],
      "metadata": {
        "id": "HXap_DxGqWIw"
      }
    }
  ]
}