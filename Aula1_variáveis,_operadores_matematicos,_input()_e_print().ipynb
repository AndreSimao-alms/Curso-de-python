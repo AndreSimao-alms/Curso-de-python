{
  "nbformat": 4,
  "nbformat_minor": 0,
  "metadata": {
    "colab": {
      "name": "Aula1- variáveis, operadores matematicos, input() e print().ipynb",
      "provenance": [],
      "collapsed_sections": [],
      "authorship_tag": "ABX9TyM/k1QNQBODVKnCNmX2X+vS",
      "include_colab_link": true
    },
    "kernelspec": {
      "name": "python3",
      "display_name": "Python 3"
    },
    "language_info": {
      "name": "python"
    }
  },
  "cells": [
    {
      "cell_type": "markdown",
      "metadata": {
        "id": "view-in-github",
        "colab_type": "text"
      },
      "source": [
        "<a href=\"https://colab.research.google.com/github/AndreSimao-alms/Curso-de-python/blob/main/Aula1_vari%C3%A1veis%2C_operadores_matematicos%2C_input()_e_print().ipynb\" target=\"_parent\"><img src=\"https://colab.research.google.com/assets/colab-badge.svg\" alt=\"Open In Colab\"/></a>"
      ]
    },
    {
      "cell_type": "markdown",
      "metadata": {
        "id": "UXMRA6CC0rPQ"
      },
      "source": [
        "# Tipo de variáveis"
      ]
    },
    {
      "cell_type": "markdown",
      "source": [
        "# Parte 1 -> seção 1 | int & float"
      ],
      "metadata": {
        "id": "JQrcfukeH-Mi"
      }
    },
    {
      "cell_type": "markdown",
      "metadata": {
        "id": "--ris8gq1dxg"
      },
      "source": [
        "## Int\n",
        "- Número inteiros. "
      ]
    },
    {
      "cell_type": "code",
      "source": [
        "# Apresentado no terminal Prompt de Comando"
      ],
      "metadata": {
        "id": "L_GwrgVtu06B"
      },
      "execution_count": null,
      "outputs": []
    },
    {
      "cell_type": "markdown",
      "metadata": {
        "id": "wvNruCyI2Ogr"
      },
      "source": [
        "## Float\n",
        "- Números decimais:\\\n",
        "    CUIDADO! Utilize ponto para a separação de casas, uma vez que a vírgula é utilizada para declaração de tuplas, por exemplo:\n",
        "\n"
      ]
    },
    {
      "cell_type": "code",
      "source": [
        "# Apresentado no terminal Prompt de Comando"
      ],
      "metadata": {
        "id": "wAMQbltou8gY"
      },
      "execution_count": null,
      "outputs": []
    },
    {
      "cell_type": "markdown",
      "source": [
        "## Exemplo 1 - Conversão de unidades milhas/kilometros\n",
        "\n",
        "\n",
        "```\n",
        "milhas = 1.60934*distancia \n",
        "```\n",
        "\n"
      ],
      "metadata": {
        "id": "IOXAmHmOHGg6"
      }
    },
    {
      "cell_type": "code",
      "source": [
        "# Apresentado no terminal Prompt de Comando"
      ],
      "metadata": {
        "id": "uICguOl1vFJg"
      },
      "execution_count": null,
      "outputs": []
    },
    {
      "cell_type": "markdown",
      "source": [
        "##Função type()"
      ],
      "metadata": {
        "id": "w48zFoBaHs95"
      }
    },
    {
      "cell_type": "code",
      "source": [
        "# Apresentado no terminal Prompt de Comando"
      ],
      "metadata": {
        "id": "fDGGUNLXvFtq"
      },
      "execution_count": null,
      "outputs": []
    },
    {
      "cell_type": "markdown",
      "source": [
        "# Parte 2 -> seção 1"
      ],
      "metadata": {
        "id": "vaLWVVMYIG4B"
      }
    },
    {
      "cell_type": "markdown",
      "metadata": {
        "id": "dSQiIQ-y4Uq5"
      },
      "source": [
        "## String\n",
        "  - Combinação de múltiplos caracteres"
      ]
    },
    {
      "cell_type": "code",
      "source": [
        "nome = 'André Luiz'\n",
        "type(nome)"
      ],
      "metadata": {
        "colab": {
          "base_uri": "https://localhost:8080/"
        },
        "id": "Fq8226jnybIJ",
        "outputId": "f5f45077-7065-486c-a941-0031b63debf9"
      },
      "execution_count": null,
      "outputs": [
        {
          "output_type": "execute_result",
          "data": {
            "text/plain": [
              "str"
            ]
          },
          "metadata": {},
          "execution_count": 109
        }
      ]
    },
    {
      "cell_type": "markdown",
      "source": [
        "### Index\n"
      ],
      "metadata": {
        "id": "oXWQeb0qJKW2"
      }
    },
    {
      "cell_type": "code",
      "source": [
        "#[0,1,2,3,4,5,6,7,8,9,10]\n",
        "\n",
        "nome[-2]"
      ],
      "metadata": {
        "colab": {
          "base_uri": "https://localhost:8080/",
          "height": 35
        },
        "id": "gjeLBbvnOLFH",
        "outputId": "efcfce85-484b-42cc-87c2-91285e2f35a0"
      },
      "execution_count": null,
      "outputs": [
        {
          "output_type": "execute_result",
          "data": {
            "application/vnd.google.colaboratory.intrinsic+json": {
              "type": "string"
            },
            "text/plain": [
              "'i'"
            ]
          },
          "metadata": {},
          "execution_count": 110
        }
      ]
    },
    {
      "cell_type": "markdown",
      "source": [
        "### Slice"
      ],
      "metadata": {
        "id": "1pBHdpY1JP-A"
      }
    },
    {
      "cell_type": "code",
      "source": [
        "nome[6:10]"
      ],
      "metadata": {
        "colab": {
          "base_uri": "https://localhost:8080/",
          "height": 35
        },
        "id": "qnMPtRGRqNhv",
        "outputId": "de354c59-2cb5-49bb-fa81-410cc710ba1d"
      },
      "execution_count": null,
      "outputs": [
        {
          "output_type": "execute_result",
          "data": {
            "application/vnd.google.colaboratory.intrinsic+json": {
              "type": "string"
            },
            "text/plain": [
              "'Luiz'"
            ]
          },
          "metadata": {},
          "execution_count": 92
        }
      ]
    },
    {
      "cell_type": "markdown",
      "source": [
        "###Alguns métodos strings"
      ],
      "metadata": {
        "id": "6twZEeomJTf_"
      }
    },
    {
      "cell_type": "markdown",
      "source": [
        "#### upper( )"
      ],
      "metadata": {
        "id": "0oZ0T4ORJwF2"
      }
    },
    {
      "cell_type": "code",
      "source": [
        "# Retorna string com caracteres maiúsculos\n",
        "nome.upper()"
      ],
      "metadata": {
        "colab": {
          "base_uri": "https://localhost:8080/",
          "height": 35
        },
        "id": "eQWLS4tUKCpE",
        "outputId": "72259a72-b173-494e-c4c3-8be6de087c5d"
      },
      "execution_count": null,
      "outputs": [
        {
          "output_type": "execute_result",
          "data": {
            "application/vnd.google.colaboratory.intrinsic+json": {
              "type": "string"
            },
            "text/plain": [
              "'ANDRÉ LUIZ'"
            ]
          },
          "metadata": {},
          "execution_count": 100
        }
      ]
    },
    {
      "cell_type": "markdown",
      "source": [
        "#### lower( \n",
        "  \n",
        ")"
      ],
      "metadata": {
        "id": "euNuUuhgJyW-"
      }
    },
    {
      "cell_type": "code",
      "source": [
        "# Retorna string com caracteres minúsculos\n",
        "nome.lower()"
      ],
      "metadata": {
        "colab": {
          "base_uri": "https://localhost:8080/",
          "height": 35
        },
        "id": "xtnwmyFYKP1L",
        "outputId": "128bfe2f-8dc3-466f-cad4-ddb1c5e1ddb6"
      },
      "execution_count": null,
      "outputs": [
        {
          "output_type": "execute_result",
          "data": {
            "application/vnd.google.colaboratory.intrinsic+json": {
              "type": "string"
            },
            "text/plain": [
              "'andré luiz'"
            ]
          },
          "metadata": {},
          "execution_count": 94
        }
      ]
    },
    {
      "cell_type": "markdown",
      "source": [
        "#### title( )"
      ],
      "metadata": {
        "id": "4oXOzhsqJ0at"
      }
    },
    {
      "cell_type": "code",
      "source": [
        "# Retorna string com primeiro caractere maiúsculo de cada palavra\n",
        "'curso de python'.title()"
      ],
      "metadata": {
        "colab": {
          "base_uri": "https://localhost:8080/",
          "height": 35
        },
        "id": "FS2LH8pYKYw0",
        "outputId": "91f9a292-371a-4a56-8fc7-cb0c647af375"
      },
      "execution_count": null,
      "outputs": [
        {
          "output_type": "execute_result",
          "data": {
            "application/vnd.google.colaboratory.intrinsic+json": {
              "type": "string"
            },
            "text/plain": [
              "'Curso De Python'"
            ]
          },
          "metadata": {},
          "execution_count": 95
        }
      ]
    },
    {
      "cell_type": "markdown",
      "source": [
        "#### split( ) e parâmetro \"sep\""
      ],
      "metadata": {
        "id": "keOc7mc_J3It"
      }
    },
    {
      "cell_type": "code",
      "source": [
        "# Retorna uma lista compostas pelas palavras construídas em um string\n",
        "curso = 'curso_de_python'\n",
        "curso.split(sep='o')"
      ],
      "metadata": {
        "id": "DRy0gbdjK_SC"
      },
      "execution_count": null,
      "outputs": []
    },
    {
      "cell_type": "markdown",
      "source": [
        "#### replace( )"
      ],
      "metadata": {
        "id": "q0yED6GM_dJT"
      }
    },
    {
      "cell_type": "code",
      "source": [
        "# Recebe (elemento_velho, elemento_novo) e retorna uma nova string\n",
        "curso = 'curso_de_python'\n",
        "curso = curso.replace('_',' ')\n",
        "curso.title()"
      ],
      "metadata": {
        "colab": {
          "base_uri": "https://localhost:8080/",
          "height": 35
        },
        "id": "kCipufbD_lsT",
        "outputId": "9ebc8c4b-d1d9-42ef-e33c-2e12eb85a6d9"
      },
      "execution_count": null,
      "outputs": [
        {
          "output_type": "execute_result",
          "data": {
            "application/vnd.google.colaboratory.intrinsic+json": {
              "type": "string"
            },
            "text/plain": [
              "'Curso De Python'"
            ]
          },
          "metadata": {},
          "execution_count": 103
        }
      ]
    },
    {
      "cell_type": "markdown",
      "source": [
        "#### map( )"
      ],
      "metadata": {
        "id": "EQi0RDWNITIC"
      }
    },
    {
      "cell_type": "code",
      "source": [
        "# Aplica uma função para cada iterável\n",
        "dados = '''19.37\n",
        "33.87\n",
        "12.17\n",
        "22.86\n",
        "10.14\n",
        "15.41\n",
        "6.31\n",
        "7.77\n",
        "46.61\n",
        "69.45\n",
        "31.21\n",
        "32.82\n",
        "34.74\n",
        "40.02\n",
        "26.23\n",
        "31.21'''\n",
        "dados = dados.replace('\\n', ',')\n",
        "dados = dados.split(sep= ',')\n",
        "dados = list(map(float,dados))\n",
        "dados"
      ],
      "metadata": {
        "colab": {
          "base_uri": "https://localhost:8080/"
        },
        "id": "L4s_f9bVIXzT",
        "outputId": "0dc6f734-50cd-4d9c-87b5-64ed04d9ed9b"
      },
      "execution_count": null,
      "outputs": [
        {
          "output_type": "execute_result",
          "data": {
            "text/plain": [
              "[19.37,\n",
              " 33.87,\n",
              " 12.17,\n",
              " 22.86,\n",
              " 10.14,\n",
              " 15.41,\n",
              " 6.31,\n",
              " 7.77,\n",
              " 46.61,\n",
              " 69.45,\n",
              " 31.21,\n",
              " 32.82,\n",
              " 34.74,\n",
              " 40.02,\n",
              " 26.23,\n",
              " 31.21]"
            ]
          },
          "metadata": {},
          "execution_count": 107
        }
      ]
    },
    {
      "cell_type": "markdown",
      "source": [
        "##Desafio 1 -> Contador de caracteres e palavras \n",
        "Construa um programa que receba uma string e calcule: \n",
        "- O número de palavras \n",
        "- O número de caracteres \n",
        "- O número de caracteres sem espaços \\\n",
        "\\\n",
        "__Utilize a função `len()`__"
      ],
      "metadata": {
        "id": "r76h7bvV7kT9"
      }
    },
    {
      "cell_type": "code",
      "source": [
        "dados_n = 'Return True if the object argument is an instance of the classinfo argument, or of a (direct, indirect, or virtual) subclass thereof. If object is not an object of the given type, the function always returns False. If classinfo is a tuple of type objects (or recursively, other such tuples) or a Union Type of multiple types, return True if object is an instance of any of the types. If classinfo is not a type or tuple of types and such tuples, a TypeError exception is raised.'\n",
        "n_palavras = len(dados_n.rsplit())\n",
        "n_carac = len(dados_n)\n",
        "n_carac_sem_espaco = len(dados_n.replace(' ', ''))\n",
        "print(n_palavras)\n",
        "print(n_carac)\n",
        "print(n_carac_sem_espaco)"
      ],
      "metadata": {
        "colab": {
          "base_uri": "https://localhost:8080/"
        },
        "id": "PEl0EEDL3lhz",
        "outputId": "229d90fd-01c6-4411-8715-fb9591ba277d"
      },
      "execution_count": null,
      "outputs": [
        {
          "output_type": "stream",
          "name": "stdout",
          "text": [
            "87\n",
            "478\n",
            "392\n"
          ]
        }
      ]
    },
    {
      "cell_type": "markdown",
      "source": [
        "## Exemplo 3 -> Limpeza de dados "
      ],
      "metadata": {
        "id": "ju8EBpBviGeZ"
      }
    },
    {
      "cell_type": "code",
      "source": [
        "# Tabela de efeitos de planejamento experimental 2^4\n",
        "dados = '''-55\t-55\t-55\t-55\t55\t55\t55\t55\t55\t55\t-55\t-55\t-55\t-55\t55\n",
        "53\t-53\t-53\t-53\t-53\t-53\t-53\t53\t53\t53\t53\t53\t53\t-53\t-53\n",
        "-91\t91\t-91\t-91\t-91\t91\t91\t-91\t-91\t91\t91\t91\t-91\t91\t-91\n",
        "94\t94\t-94\t-94\t94\t-94\t-94\t-94\t-94\t94\t-94\t-94\t94\t94\t94\n",
        "-88\t-88\t88\t-88\t88\t-88\t88\t-88\t88\t-88\t88\t-88\t88\t88\t-88\n",
        "97\t-97\t97\t-97\t-97\t97\t-97\t-97\t97\t-97\t-97\t97\t-97\t97\t97\n",
        "-100\t100\t100\t-100\t-100\t-100\t100\t100\t-100\t-100\t-100\t100\t100\t-100\t100\n",
        "98\t98\t98\t-98\t98\t98\t-98\t98\t-98\t-98\t98\t-98\t-98\t-98\t-98\n",
        "-72\t-72\t-72\t72\t72\t72\t-72\t72\t-72\t-72\t-72\t72\t72\t72\t-72\n",
        "62\t-62\t-62\t62\t-62\t-62\t62\t62\t-62\t-62\t62\t-62\t-62\t62\t62\n",
        "-90\t90\t-90\t90\t-90\t90\t-90\t-90\t90\t-90\t90\t-90\t90\t-90\t90\n",
        "90\t90\t-90\t90\t90\t-90\t90\t-90\t90\t-90\t-90\t90\t-90\t-90\t-90\n",
        "-90\t-90\t90\t90\t90\t-90\t-90\t-90\t-90\t90\t90\t90\t-90\t-90\t90\n",
        "98\t-98\t98\t98\t-98\t98\t98\t-98\t-98\t98\t-98\t-98\t98\t-98\t-98\n",
        "-104\t104\t104\t104\t-104\t-104\t-104\t104\t104\t104\t-104\t-104\t-104\t104\t-104\n",
        "100\t100\t100\t100\t100\t100\t100\t100\t100\t100\t100\t100\t100\t100\t100'''\n",
        "\n",
        "import numpy as np\n",
        "def limpar_dados(dados): # Função parametrizada - > seção 6 \n",
        "  dados = dados.replace('\\t', ' ')\n",
        "  dados = dados.replace('\\n', ',')\n",
        "  dados = dados.split(sep=',')\n",
        "  dados = [[i] for i in dados]  # List comprehensions -> seção 4\n",
        "  return np.array([dados[j][0].split() for j in range(len(dados))]) # List comprehensions e função range()-> seção 4 e 5\n",
        "limpar_dados(dados)  # Função parametrizada - > seção 6 "
      ],
      "metadata": {
        "colab": {
          "base_uri": "https://localhost:8080/"
        },
        "id": "Fk2ad7JBBvBM",
        "outputId": "0ca24edc-47d9-4c06-ef16-2a729f6ad140"
      },
      "execution_count": null,
      "outputs": [
        {
          "output_type": "execute_result",
          "data": {
            "text/plain": [
              "array([['-55', '-55', '-55', '-55', '55', '55', '55', '55', '55', '55',\n",
              "        '-55', '-55', '-55', '-55', '55'],\n",
              "       ['53', '-53', '-53', '-53', '-53', '-53', '-53', '53', '53', '53',\n",
              "        '53', '53', '53', '-53', '-53'],\n",
              "       ['-91', '91', '-91', '-91', '-91', '91', '91', '-91', '-91', '91',\n",
              "        '91', '91', '-91', '91', '-91'],\n",
              "       ['94', '94', '-94', '-94', '94', '-94', '-94', '-94', '-94', '94',\n",
              "        '-94', '-94', '94', '94', '94'],\n",
              "       ['-88', '-88', '88', '-88', '88', '-88', '88', '-88', '88', '-88',\n",
              "        '88', '-88', '88', '88', '-88'],\n",
              "       ['97', '-97', '97', '-97', '-97', '97', '-97', '-97', '97', '-97',\n",
              "        '-97', '97', '-97', '97', '97'],\n",
              "       ['-100', '100', '100', '-100', '-100', '-100', '100', '100',\n",
              "        '-100', '-100', '-100', '100', '100', '-100', '100'],\n",
              "       ['98', '98', '98', '-98', '98', '98', '-98', '98', '-98', '-98',\n",
              "        '98', '-98', '-98', '-98', '-98'],\n",
              "       ['-72', '-72', '-72', '72', '72', '72', '-72', '72', '-72', '-72',\n",
              "        '-72', '72', '72', '72', '-72'],\n",
              "       ['62', '-62', '-62', '62', '-62', '-62', '62', '62', '-62', '-62',\n",
              "        '62', '-62', '-62', '62', '62'],\n",
              "       ['-90', '90', '-90', '90', '-90', '90', '-90', '-90', '90', '-90',\n",
              "        '90', '-90', '90', '-90', '90'],\n",
              "       ['90', '90', '-90', '90', '90', '-90', '90', '-90', '90', '-90',\n",
              "        '-90', '90', '-90', '-90', '-90'],\n",
              "       ['-90', '-90', '90', '90', '90', '-90', '-90', '-90', '-90', '90',\n",
              "        '90', '90', '-90', '-90', '90'],\n",
              "       ['98', '-98', '98', '98', '-98', '98', '98', '-98', '-98', '98',\n",
              "        '-98', '-98', '98', '-98', '-98'],\n",
              "       ['-104', '104', '104', '104', '-104', '-104', '-104', '104',\n",
              "        '104', '104', '-104', '-104', '-104', '104', '-104'],\n",
              "       ['100', '100', '100', '100', '100', '100', '100', '100', '100',\n",
              "        '100', '100', '100', '100', '100', '100']], dtype='<U4')"
            ]
          },
          "metadata": {},
          "execution_count": 126
        }
      ]
    },
    {
      "cell_type": "markdown",
      "source": [
        "# Parte 3 -> seção 1"
      ],
      "metadata": {
        "id": "oGIOPkI3IQwY"
      }
    },
    {
      "cell_type": "markdown",
      "source": [
        "## Uma abordagem breve sobre variáveis compostas\n",
        "Variáveis compostas "
      ],
      "metadata": {
        "id": "G0Ecj6dzNdp0"
      }
    },
    {
      "cell_type": "markdown",
      "source": [
        "### **list**"
      ],
      "metadata": {
        "id": "JbNvs_fjOADR"
      }
    },
    {
      "cell_type": "code",
      "source": [
        "lista = [True, 2, 2.5, 'andre', [1,2,3], (2,3)]\n",
        "lista\n",
        "tuplas = True, 2, 2.5, 'andre', [1,2,3], (2,3)\n",
        "print(type(tupla))"
      ],
      "metadata": {
        "colab": {
          "base_uri": "https://localhost:8080/"
        },
        "id": "A50FEuzCN3yv",
        "outputId": "5d583feb-c120-41cb-f0f1-187a67e03b78"
      },
      "execution_count": null,
      "outputs": [
        {
          "output_type": "stream",
          "name": "stdout",
          "text": [
            "<class 'tuple'>\n"
          ]
        }
      ]
    },
    {
      "cell_type": "markdown",
      "source": [
        "#### index\n",
        "\n",
        "```\n",
        "\n",
        "index ->[0,1,2,3,4]\n",
        "\n",
        "lista = [1,2,3,4,5]\n",
        "\n",
        "index->[-5,-4,-3,-2,-1] \n",
        "\n",
        "lista[0]\n",
        ">>> 1\n",
        "\n",
        "lista[-1]\n",
        ">>> 5\n",
        "```\n",
        "\n"
      ],
      "metadata": {
        "id": "QIFRdMhuOoro"
      }
    },
    {
      "cell_type": "code",
      "source": [
        "lista[3]\n",
        "lista[-1][1]"
      ],
      "metadata": {
        "id": "TaINlXj9Rea8"
      },
      "execution_count": null,
      "outputs": []
    },
    {
      "cell_type": "markdown",
      "source": [
        "#### slice\n",
        "\n",
        "```\n",
        "index ->[0,1,2,3,4]\n",
        "lista = [1,2,3,4,5]\n",
        "\n",
        "lista[0:3]\n",
        ">>> 1\n",
        "```\n"
      ],
      "metadata": {
        "id": "GpYrlC9mOymX"
      }
    },
    {
      "cell_type": "code",
      "source": [
        "lista = [1,2,3,4,5]\n",
        "lista[0:4]"
      ],
      "metadata": {
        "colab": {
          "base_uri": "https://localhost:8080/"
        },
        "id": "UU2fQZGvYr3z",
        "outputId": "b0d3346e-1ac8-4ba2-82ec-14df7bbb960f"
      },
      "execution_count": null,
      "outputs": [
        {
          "output_type": "execute_result",
          "data": {
            "text/plain": [
              "[1, 2, 3, 4]"
            ]
          },
          "metadata": {},
          "execution_count": 169
        }
      ]
    },
    {
      "cell_type": "markdown",
      "source": [
        "#### Método append ()"
      ],
      "metadata": {
        "id": "KNEBbr7KNoxH"
      }
    },
    {
      "cell_type": "code",
      "source": [
        "# Retorna um valor para o final de uma lista\n",
        "lista.append([1,2,3])\n",
        "lista"
      ],
      "metadata": {
        "colab": {
          "base_uri": "https://localhost:8080/"
        },
        "id": "Ma1tUEqwZfxL",
        "outputId": "aeb79028-ab69-435a-f244-313454bf71d7"
      },
      "execution_count": null,
      "outputs": [
        {
          "output_type": "execute_result",
          "data": {
            "text/plain": [
              "[1, 2, 3, 4, 5, 6, 6, 'andre', False, [1, 2, 3]]"
            ]
          },
          "metadata": {},
          "execution_count": 174
        }
      ]
    },
    {
      "cell_type": "markdown",
      "source": [
        "### **dict**"
      ],
      "metadata": {
        "id": "9pY0SheQPwh9"
      }
    },
    {
      "cell_type": "markdown",
      "source": [
        "####Estrutura de dicionários:\n",
        "\n",
        "\n",
        "```\n",
        "#ESTRUTURA GENÉRICA:\n",
        "\n",
        "dict_ex = {'Key':value}\n",
        "\n",
        "dicionario = {'Nome': 'André', 'Idade': 25, 'Semestre': 9, 'Ano de ingresso':2017}\n",
        "\n",
        "# items:\n",
        ">>> 'Nome': 'André', 'Idade': 25, 'Semestre': 9, 'Ano de ingresso':2017\n",
        "\n",
        "# key:\n",
        ">>> 'Nome', 'Idade', 'Semestre', 'Ano de ingresso'\n",
        "\n",
        "# values:\n",
        ">>> 'André', 25, 9, 2017\n",
        "\n",
        "```\n",
        "\n"
      ],
      "metadata": {
        "id": "DsmWpF-7VEUv"
      }
    },
    {
      "cell_type": "code",
      "source": [
        "dicionario = {'Nome': 'André', 'Idade': 25, 'Semestre': 9, 'Ano de ingresso':2017}\n",
        "len(dicionario)"
      ],
      "metadata": {
        "colab": {
          "base_uri": "https://localhost:8080/"
        },
        "id": "YZjLxyUHRqwD",
        "outputId": "bdae571f-fcd1-46b5-e071-8c4f1ef6fc69"
      },
      "execution_count": null,
      "outputs": [
        {
          "output_type": "execute_result",
          "data": {
            "text/plain": [
              "4"
            ]
          },
          "metadata": {},
          "execution_count": 22
        }
      ]
    },
    {
      "cell_type": "markdown",
      "source": [
        "####Método items( )"
      ],
      "metadata": {
        "id": "EWbpdDjKXDki"
      }
    },
    {
      "cell_type": "code",
      "source": [
        "# Retorna as itens do dicionário.\n",
        "dicionario.items()"
      ],
      "metadata": {
        "id": "DFKZnVDzX882",
        "colab": {
          "base_uri": "https://localhost:8080/"
        },
        "outputId": "89b3f562-3b65-4630-8600-05664377920a"
      },
      "execution_count": null,
      "outputs": [
        {
          "output_type": "execute_result",
          "data": {
            "text/plain": [
              "dict_items([('Nome', 'André'), ('Idade', 25), ('Semestre', 9), ('Ano de ingresso', 2017)])"
            ]
          },
          "metadata": {},
          "execution_count": 25
        }
      ]
    },
    {
      "cell_type": "markdown",
      "source": [
        "####Método keys( )"
      ],
      "metadata": {
        "id": "eHr-1nfjXLXg"
      }
    },
    {
      "cell_type": "code",
      "source": [
        "# Retorna as chaves do dicionário.\n",
        "dicionario.keys()"
      ],
      "metadata": {
        "id": "xpghLuGOXb4j",
        "colab": {
          "base_uri": "https://localhost:8080/"
        },
        "outputId": "8096b290-123f-420a-a3f9-45710850330e"
      },
      "execution_count": null,
      "outputs": [
        {
          "output_type": "execute_result",
          "data": {
            "text/plain": [
              "dict_keys(['Nome', 'Idade', 'Semestre', 'Ano de ingresso'])"
            ]
          },
          "metadata": {},
          "execution_count": 26
        }
      ]
    },
    {
      "cell_type": "markdown",
      "source": [
        "#### Método values( )"
      ],
      "metadata": {
        "id": "4f9byhAXXPVh"
      }
    },
    {
      "cell_type": "code",
      "source": [
        "# Retorna os valores do dicionário.\n",
        "dicionario.values()"
      ],
      "metadata": {
        "id": "h4Cuj95vXvh4",
        "colab": {
          "base_uri": "https://localhost:8080/"
        },
        "outputId": "4f9e3154-9cfd-469a-9395-fb99f588c1fc"
      },
      "execution_count": null,
      "outputs": [
        {
          "output_type": "execute_result",
          "data": {
            "text/plain": [
              "dict_values(['André', 25, 9, 2017])"
            ]
          },
          "metadata": {},
          "execution_count": 27
        }
      ]
    },
    {
      "cell_type": "markdown",
      "source": [
        "#### Método get( )"
      ],
      "metadata": {
        "id": "Z6lv0xYAN5vP"
      }
    },
    {
      "cell_type": "code",
      "source": [
        "# Recebe o nome da chave e retorna o seu repectivo valor. Caso o parâmetro inserido for inesxistente será retornado um NoneType\n",
        "type(dicionario.get('Curso'))"
      ],
      "metadata": {
        "colab": {
          "base_uri": "https://localhost:8080/"
        },
        "id": "mVQOvM23QEno",
        "outputId": "5193cce9-add7-4569-c2ba-28abe7c9334a"
      },
      "execution_count": null,
      "outputs": [
        {
          "output_type": "execute_result",
          "data": {
            "text/plain": [
              "NoneType"
            ]
          },
          "metadata": {},
          "execution_count": 32
        }
      ]
    },
    {
      "cell_type": "markdown",
      "source": [
        "####Adicionando item ao dicionário"
      ],
      "metadata": {
        "id": "F8FH2y4RYDV2"
      }
    },
    {
      "cell_type": "code",
      "source": [
        "dicionario['Curso']='Química'"
      ],
      "metadata": {
        "id": "bPgSCJbHNgAg"
      },
      "execution_count": null,
      "outputs": []
    },
    {
      "cell_type": "code",
      "source": [
        "dicionario['CPF']=00000000000"
      ],
      "metadata": {
        "id": "KhrTEsevTax1"
      },
      "execution_count": null,
      "outputs": []
    },
    {
      "cell_type": "code",
      "source": [
        "composto_quimicos = [a,b,c,d]"
      ],
      "metadata": {
        "colab": {
          "base_uri": "https://localhost:8080/"
        },
        "id": "DCx-LpseTmz1",
        "outputId": "992425aa-43d3-4a26-acb3-b8629a582d92"
      },
      "execution_count": null,
      "outputs": [
        {
          "output_type": "execute_result",
          "data": {
            "text/plain": [
              "{'Ano de ingresso': 2017,\n",
              " 'CPF': 0,\n",
              " 'Curso': 'Química',\n",
              " 'Idade': 25,\n",
              " 'Nome': 'André',\n",
              " 'Semestre': 9}"
            ]
          },
          "metadata": {},
          "execution_count": 36
        }
      ]
    },
    {
      "cell_type": "markdown",
      "source": [
        "#Parte 4 -> seção 1"
      ],
      "metadata": {
        "id": "7uMgO3QLNvbi"
      }
    },
    {
      "cell_type": "markdown",
      "metadata": {
        "id": "prvggJssAzO2"
      },
      "source": [
        "# Função print()\n",
        "- Imprime valores ou elementos no terminal do compilador\n"
      ]
    },
    {
      "cell_type": "markdown",
      "source": [
        "## Exemplo 1 - Conversão de unidades milhas/kilometros\n",
        "Crie um programa que receba a distância em milhas e tempo (h) e imprima valores de distância em km, tempo em horas e a valocidade escalar média em km/h.\n",
        "\n",
        "```\n",
        "milhas = 1.60934*distancia \n",
        "```"
      ],
      "metadata": {
        "id": "1fT-9JUG8S5H"
      }
    },
    {
      "cell_type": "code",
      "metadata": {
        "id": "oD_UUdTo-J-2",
        "colab": {
          "base_uri": "https://localhost:8080/"
        },
        "outputId": "30ab6ff0-b075-4af8-e9d2-ad8f0c682589"
      },
      "source": [
        "distancia = float(input())\n",
        "tempo = float(input())\n",
        "km = 1.60934*distancia \n",
        "v_media = km/tempo \n",
        "print(distancia)\n",
        "print(tempo)\n",
        "print(v_media)"
      ],
      "execution_count": null,
      "outputs": [
        {
          "output_type": "stream",
          "name": "stdout",
          "text": [
            "10\n",
            "1\n",
            "10.0\n",
            "1.0\n",
            "16.0934\n"
          ]
        }
      ]
    },
    {
      "cell_type": "markdown",
      "metadata": {
        "id": "08T51I-lCRIS"
      },
      "source": [
        "## Concatenação de variaveis na função print"
      ]
    },
    {
      "cell_type": "code",
      "source": [
        "print('Distância:', distancia )\n",
        "print('Tempo:',tempo)\n",
        "print('Velocidade média', v_media)"
      ],
      "metadata": {
        "colab": {
          "base_uri": "https://localhost:8080/"
        },
        "id": "h52AyVPd7OkS",
        "outputId": "5c44fe3f-305b-4863-beb2-f3753cbd1dc0"
      },
      "execution_count": null,
      "outputs": [
        {
          "output_type": "stream",
          "name": "stdout",
          "text": [
            "Distância: 10.0\n",
            "Tempo: 1.0\n",
            "Velocidade média 16.0934\n"
          ]
        }
      ]
    },
    {
      "cell_type": "markdown",
      "metadata": {
        "id": "l2ybtizyCcpA"
      },
      "source": [
        "## Método 'f'"
      ]
    },
    {
      "cell_type": "code",
      "source": [
        "print(f\"Distância: {distancia}\")\n",
        "print(f\"Tempo:' {tempo}\")\n",
        "print(f\"Velocidade média' {v_media}\")"
      ],
      "metadata": {
        "colab": {
          "base_uri": "https://localhost:8080/"
        },
        "id": "QeKzlURXC71w",
        "outputId": "1222db09-11f1-4023-fc8c-7e645f310956"
      },
      "execution_count": null,
      "outputs": [
        {
          "output_type": "stream",
          "name": "stdout",
          "text": [
            "Distância: 10.0\n",
            "Tempo:' 1.0\n",
            "Velocidade média' 16.0934\n"
          ]
        }
      ]
    },
    {
      "cell_type": "code",
      "source": [
        ""
      ],
      "metadata": {
        "id": "u8lYcEdy8jI0"
      },
      "execution_count": null,
      "outputs": []
    },
    {
      "cell_type": "markdown",
      "metadata": {
        "id": "_WY_d_A3C5po"
      },
      "source": [
        "## Método .format()"
      ]
    },
    {
      "cell_type": "code",
      "source": [
        "print(\"Distância: {}, {}\".format(distancia,tempo))\n",
        "print(\"Tempo:' {}\".format(tempo))\n",
        "print(\"Velocidade média' {}\".format(v_media))"
      ],
      "metadata": {
        "colab": {
          "base_uri": "https://localhost:8080/"
        },
        "id": "K2a6IoPuDp7u",
        "outputId": "1ca3985b-0577-4a40-e3bf-65cd7253a540"
      },
      "execution_count": null,
      "outputs": [
        {
          "output_type": "stream",
          "name": "stdout",
          "text": [
            "Distância: 10.0, 1.0\n",
            "Tempo:' 1.0\n",
            "Velocidade média' 16.0934\n"
          ]
        }
      ]
    },
    {
      "cell_type": "markdown",
      "source": [
        "## %s | %f | %d"
      ],
      "metadata": {
        "id": "AzszKCzt2nNK"
      }
    },
    {
      "cell_type": "code",
      "source": [
        "print(\"Distância: %d\"%distancia)\n",
        "print(\"Tempo:' %d\"%tempo)\n",
        "print(\"Velocidade média' %.1f\"%v_media)\n",
        "print('A distãncia percorrida foi de %d km e sua respectiva velocidade média foi de %.2f km/h'%(distancia, v_media))"
      ],
      "metadata": {
        "colab": {
          "base_uri": "https://localhost:8080/"
        },
        "id": "lLncs0y8Ea5K",
        "outputId": "c60943e1-d855-4c84-9336-1229d3bff392"
      },
      "execution_count": null,
      "outputs": [
        {
          "output_type": "stream",
          "name": "stdout",
          "text": [
            "Distância: 10\n",
            "Tempo:' 1\n",
            "Velocidade média' 16.1\n",
            "A distãncia percorrida foi de 10 km e sua respectiva velocidade média foi de 16.09 km/h\n"
          ]
        }
      ]
    },
    {
      "cell_type": "markdown",
      "source": [
        "#Parte 5 -> seção 1"
      ],
      "metadata": {
        "id": "00dHMx1kf75J"
      }
    },
    {
      "cell_type": "markdown",
      "metadata": {
        "id": "KBXYIPtCERrs"
      },
      "source": [
        "# Função input() \n",
        "- insere dados ao programa\n",
        "- Estrutura: _tipodevariavel_input_informação\n",
        "\\\n",
        "Função input( ): https://docs.python.org/3/library/functions.html#input"
      ]
    },
    {
      "cell_type": "code",
      "source": [
        "a = int(input('Digite um valor: '))"
      ],
      "metadata": {
        "colab": {
          "base_uri": "https://localhost:8080/"
        },
        "id": "mGbujLGhfYgI",
        "outputId": "9a16cb49-e91e-4b93-889a-1094fee6672b"
      },
      "execution_count": null,
      "outputs": [
        {
          "name": "stdout",
          "output_type": "stream",
          "text": [
            "Digite um valor: 15\n"
          ]
        }
      ]
    },
    {
      "cell_type": "code",
      "source": [
        "type(a)"
      ],
      "metadata": {
        "colab": {
          "base_uri": "https://localhost:8080/"
        },
        "id": "QBvUrwhXfgVY",
        "outputId": "512e3c2e-53cb-49c5-8ad0-4c5e75e37675"
      },
      "execution_count": null,
      "outputs": [
        {
          "output_type": "execute_result",
          "data": {
            "text/plain": [
              "int"
            ]
          },
          "metadata": {},
          "execution_count": 102
        }
      ]
    },
    {
      "cell_type": "markdown",
      "source": [
        "## Exemplo 1 - Construção de tanque cilídrico inox\n",
        "**Construa um programa que leia diâmetro e altura de um cilíndro e retorna o usuário valor e metragem das chapas inox necessárias para construção do cilindro.**\n",
        "- Preço por m² da chapa: R$580,00\n",
        "- A empresa realiza cortes circulares\n",
        "\\\n",
        "Biblioteca Math: https://pypi.org/project/python-math/"
      ],
      "metadata": {
        "id": "o_syoBXvEfXx"
      }
    },
    {
      "cell_type": "code",
      "source": [
        "!pip install python-math"
      ],
      "metadata": {
        "colab": {
          "base_uri": "https://localhost:8080/"
        },
        "id": "GuGdEFqrgl0u",
        "outputId": "dfa00f58-d133-4940-b009-a4d954f5b3f8"
      },
      "execution_count": null,
      "outputs": [
        {
          "output_type": "stream",
          "name": "stdout",
          "text": [
            "Requirement already satisfied: python-math in /usr/local/lib/python3.7/dist-packages (0.0.1)\n"
          ]
        }
      ]
    },
    {
      "cell_type": "code",
      "source": [
        "import math"
      ],
      "metadata": {
        "id": "Sz_y_SNzgtpU"
      },
      "execution_count": 4,
      "outputs": []
    },
    {
      "cell_type": "code",
      "source": [
        "pi = math.pi\n",
        "pi"
      ],
      "metadata": {
        "colab": {
          "base_uri": "https://localhost:8080/"
        },
        "id": "uLbuKGhbgxol",
        "outputId": "5aeb020b-3bf5-4855-8eb6-4a0bf9d65ee9"
      },
      "execution_count": 5,
      "outputs": [
        {
          "output_type": "execute_result",
          "data": {
            "text/plain": [
              "3.141592653589793"
            ]
          },
          "metadata": {},
          "execution_count": 5
        }
      ]
    },
    {
      "cell_type": "code",
      "source": [
        "h = float(input('Qual é a altura? Em metros. '))\n",
        "d = float(input('Qual é o diãmetro? Em metros '))\n",
        "\n",
        "area_l = h*2*(d/2)\n",
        "area_b = 2*(pi*(d/2)**2)\n",
        "area_t = round(area_l + area_b, 2)\n",
        "\n",
        "valor = 580 \n",
        "valor_t = round(valor*area_t, 2)\n",
        "\n",
        "print(f\"A área total das chapas: {area_t}\")\n",
        "print('Preço total das chapas: R$ {}'.format(valor_t))\n"
      ],
      "metadata": {
        "id": "GlmsRD8PYVf1",
        "colab": {
          "base_uri": "https://localhost:8080/"
        },
        "outputId": "3b8ce462-0dab-4fd1-ce29-fe327bc1429e"
      },
      "execution_count": 11,
      "outputs": [
        {
          "output_type": "stream",
          "name": "stdout",
          "text": [
            "Qual é a altura? Em metros. 1\n",
            "Qual é o diãmetro? Em metros 0.5\n",
            "A área total das chapas: 0.89\n",
            "Preço total das chapas: R$ 516.2\n"
          ]
        }
      ]
    },
    {
      "cell_type": "markdown",
      "metadata": {
        "id": "AV7oL0A_Ib-O"
      },
      "source": [
        "##Exemplo 2 - Custos e ganhos de um funcionário\n",
        "**Receba o salário-base de um funcionário. Calcule e imprima o valor do salário-base considerando 7% de bônus de gratificação e o desconto de 7% de imposto sob estes ganhos.** "
      ]
    },
    {
      "cell_type": "code",
      "source": [
        "salario = float(input('Qual salário-base? Em R$ '))\n",
        "ganhos_b = salario*1.07\n",
        "ganhos_t = ganhos_b - 0.07*(ganhos_b)\n",
        "print('O valor bruto a ser ganho é de R$ %.2f, enquanto seu valor líquido é de R$ %.2f'%(ganhos_b, ganhos_t))"
      ],
      "metadata": {
        "colab": {
          "base_uri": "https://localhost:8080/"
        },
        "id": "PNCc-Bqc8Mqh",
        "outputId": "11a8ab17-149c-4eac-acce-430c72c880ac"
      },
      "execution_count": 12,
      "outputs": [
        {
          "output_type": "stream",
          "name": "stdout",
          "text": [
            "Qual salário-base? Em R$ 1200\n",
            "O valor bruto a ser ganho é de R$ 1284.00, enquanto seu valor líquido é de R$ 1194.12\n"
          ]
        }
      ]
    },
    {
      "cell_type": "markdown",
      "metadata": {
        "id": "WrrKKl6zIF0R"
      },
      "source": [
        "#**DESAFIO I**"
      ]
    },
    {
      "cell_type": "markdown",
      "metadata": {
        "id": "UyPb4m5dIO4I"
      },
      "source": [
        "**Construa um programa que forneça o tamanho do diâmetro e altura de uma caldeira cilíndrica contendo água pura e imprima quanto de calor seria necessário para aquecê-la de 25 °C até 80ºC, desprezando efeitos dissipativos. Dados: calor específico da água =  1 cal/g ºC. e massa específica = 1000 kg/m³**\\\n",
        "Q = m.c.deltaT"
      ]
    },
    {
      "cell_type": "code",
      "metadata": {
        "id": "jixvNBpCINbx",
        "colab": {
          "base_uri": "https://localhost:8080/"
        },
        "outputId": "396f5613-8dac-4e4e-c11e-07a2ae50ed76"
      },
      "source": [
        "import math \n",
        "pi = math.pi\n",
        "\n",
        "d = float(input('Qual é o diâmetro da caldeira? Em metros.'))\n",
        "h = float(input('Qual é a altura da caldeira? Em metros.'))\n",
        "\n",
        "densidade = 1000\n",
        "calor_s = 1\n",
        "volume = round(h*(((d/2)**2)*pi), 2)\n",
        "massa = round(densidade*volume, 2)\n",
        "\n",
        "q = round(massa*calor_s*(80-25), 2)\n",
        "\n",
        "print(f\"Volume de água: {volume} m²\")\n",
        "print(f\"Massa de água: {massa} kg\")\n",
        "print(f\"Calor necessário: {q} cal\")"
      ],
      "execution_count": 16,
      "outputs": [
        {
          "output_type": "stream",
          "name": "stdout",
          "text": [
            "Qual é o diâmetro da caldeira? Em metros.5\n",
            "Qual é a altura da caldeira? Em metros.2\n",
            "Volume de água: 39.27 m²\n",
            "Massa de água: 39270.0 kg\n",
            "Calor necessário: 2159850.0 cal\n"
          ]
        }
      ]
    },
    {
      "cell_type": "markdown",
      "source": [
        "## **DESAFIO II - Salmoura em uma caldeira**\n",
        "Construa um programa que leia as dimensões de uma caldeira cilíndrica e a concentração de NaCl (em % m/m) necessária. Retorne o valor do volume da caldeira e a quantidade em kilogramas de NaCl. \n",
        "- Lembrando que a solução máxima do cloreto de sódio em água é de 36% em 25 ºC\n",
        "\n",
        "\n",
        "\n",
        "```\n",
        "massa_sal = Concentração(%)*massa_agua\n",
        "```\n",
        "\n",
        "\n"
      ],
      "metadata": {
        "id": "DHV26jG1G7Ha"
      }
    },
    {
      "cell_type": "code",
      "source": [
        "import math \n",
        "pi = math.pi\n",
        "\n",
        "d = float(input('Qual é o diâmetro da caldeira? Em metros.'))\n",
        "h = float(input('Qual é a altura da caldeira? Em metros.'))\n",
        "conc = float(input('Qual é a concentração do sal? Em % (m/m) '))\n",
        "\n",
        "\n",
        "densidade = 1000\n",
        "volume = h*(((d/2)**2)*pi)\n",
        "massa = densidade*volume\n",
        "\n",
        "massa_sal = conc*massa\n",
        "\n",
        "print('='*40)\n",
        "print('Massa de água total: %.2f'%massa)\n",
        "print('Massa de cloreto de sódio: %.2f'%massa_sal)\n",
        "print('='*40)"
      ],
      "metadata": {
        "id": "EebFSOhimZHL",
        "colab": {
          "base_uri": "https://localhost:8080/"
        },
        "outputId": "9a4d4271-55fe-413a-97b1-a3b3aeb3f632"
      },
      "execution_count": 23,
      "outputs": [
        {
          "output_type": "stream",
          "name": "stdout",
          "text": [
            "Qual é o diâmetro da caldeira? Em metros.2\n",
            "Qual é a altura da caldeira? Em metros.0.7\n",
            "Qual é a concentração do sal? Em % (m/m) 15\n",
            "========================================\n",
            "Massa de água total: 2199.11\n",
            "Massa de cloreto de sódio: 32986.72\n",
            "========================================\n"
          ]
        }
      ]
    }
  ]
}