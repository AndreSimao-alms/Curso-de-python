{
  "nbformat": 4,
  "nbformat_minor": 0,
  "metadata": {
    "colab": {
      "name": "Aula1- variáveis, operadores matematicos, input() e print().ipynb",
      "provenance": [],
      "authorship_tag": "ABX9TyNRWn0KL8U0SCXgEp0Z2A51",
      "include_colab_link": true
    },
    "kernelspec": {
      "name": "python3",
      "display_name": "Python 3"
    },
    "language_info": {
      "name": "python"
    }
  },
  "cells": [
    {
      "cell_type": "markdown",
      "metadata": {
        "id": "view-in-github",
        "colab_type": "text"
      },
      "source": [
        "<a href=\"https://colab.research.google.com/github/AndreSimao-alms/Curso-de-python/blob/main/Aula1_vari%C3%A1veis%2C_operadores_matematicos%2C_input()_e_print().ipynb\" target=\"_parent\"><img src=\"https://colab.research.google.com/assets/colab-badge.svg\" alt=\"Open In Colab\"/></a>"
      ]
    },
    {
      "cell_type": "markdown",
      "metadata": {
        "id": "UXMRA6CC0rPQ"
      },
      "source": [
        "# Tipo de variáveis"
      ]
    },
    {
      "cell_type": "markdown",
      "metadata": {
        "id": "--ris8gq1dxg"
      },
      "source": [
        "## int\n",
        "- Número inteiros."
      ]
    },
    {
      "cell_type": "code",
      "metadata": {
        "colab": {
          "base_uri": "https://localhost:8080/"
        },
        "id": "H_2xpdLA0kkn",
        "outputId": "3325c2da-8532-458e-b739-e39d88ba5d56"
      },
      "source": [
        "a = 15\n",
        "a"
      ],
      "execution_count": 35,
      "outputs": [
        {
          "output_type": "execute_result",
          "data": {
            "text/plain": [
              "15"
            ]
          },
          "metadata": {},
          "execution_count": 35
        }
      ]
    },
    {
      "cell_type": "code",
      "metadata": {
        "colab": {
          "base_uri": "https://localhost:8080/"
        },
        "id": "7tvwUUxi1zHi",
        "outputId": "7b52304b-40c8-4291-a5e4-dcb0dce0ab46"
      },
      "source": [
        "b = 9\n",
        "b"
      ],
      "execution_count": 32,
      "outputs": [
        {
          "output_type": "execute_result",
          "data": {
            "text/plain": [
              "9"
            ]
          },
          "metadata": {},
          "execution_count": 32
        }
      ]
    },
    {
      "cell_type": "markdown",
      "metadata": {
        "id": "wvNruCyI2Ogr"
      },
      "source": [
        "## Float\n",
        "- Números decimais \n"
      ]
    },
    {
      "cell_type": "code",
      "metadata": {
        "colab": {
          "base_uri": "https://localhost:8080/"
        },
        "id": "EwU5I5en2MBN",
        "outputId": "e7d98a00-221b-4c6b-f7bf-ca15ca4ea255"
      },
      "source": [
        "float_ = 1,2\n",
        "float_"
      ],
      "execution_count": 34,
      "outputs": [
        {
          "output_type": "execute_result",
          "data": {
            "text/plain": [
              "(1, 2)"
            ]
          },
          "metadata": {},
          "execution_count": 34
        }
      ]
    },
    {
      "cell_type": "code",
      "metadata": {
        "id": "cbMqrKeh2cpo"
      },
      "source": [
        "# CUIDADO! Utilize ponto para a separação de casas, uma vez que a vírgula é utilizada para declaração de tuplas, por exemplo:\n"
      ],
      "execution_count": 22,
      "outputs": []
    },
    {
      "cell_type": "markdown",
      "metadata": {
        "id": "w1NJMUic3I74"
      },
      "source": [
        "## Bool \n",
        "- operador lógico falso ou verdadeiros"
      ]
    },
    {
      "cell_type": "code",
      "metadata": {
        "colab": {
          "base_uri": "https://localhost:8080/"
        },
        "id": "ZU3cdjSh3S9f",
        "outputId": "bf9edc3c-7ba5-4b11-88ad-6bb00098cf04"
      },
      "source": [
        "a = b\n",
        "b\n",
        "# Aqui é utilizado dois símbolos iguais ('==') para verificar a igualdade, se fosse digitado \"a=b\" seria armazenado na mémoria o valor de \"b\" em \"a\". "
      ],
      "execution_count": 39,
      "outputs": [
        {
          "output_type": "execute_result",
          "data": {
            "text/plain": [
              "9"
            ]
          },
          "metadata": {},
          "execution_count": 39
        }
      ]
    },
    {
      "cell_type": "markdown",
      "metadata": {
        "id": "dSQiIQ-y4Uq5"
      },
      "source": [
        "## String\n",
        "  - Combinação de múltiplos caracteres"
      ]
    },
    {
      "cell_type": "code",
      "metadata": {
        "colab": {
          "base_uri": "https://localhost:8080/",
          "height": 35
        },
        "id": "hDw35uYF4H5V",
        "outputId": "db7ee029-1f8a-44b1-d32a-202bb8437f33"
      },
      "source": [
        "nome = \"André\"\n",
        "nome"
      ],
      "execution_count": 41,
      "outputs": [
        {
          "output_type": "execute_result",
          "data": {
            "application/vnd.google.colaboratory.intrinsic+json": {
              "type": "string"
            },
            "text/plain": [
              "'André'"
            ]
          },
          "metadata": {},
          "execution_count": 41
        }
      ]
    },
    {
      "cell_type": "code",
      "metadata": {
        "colab": {
          "base_uri": "https://localhost:8080/",
          "height": 35
        },
        "id": "uhcaijVf6ZMu",
        "outputId": "d794499c-3a24-4ad3-9ecc-24097f62defc"
      },
      "source": [
        "sobrenome = 'Luiz'\n",
        "sobrenome"
      ],
      "execution_count": 43,
      "outputs": [
        {
          "output_type": "execute_result",
          "data": {
            "application/vnd.google.colaboratory.intrinsic+json": {
              "type": "string"
            },
            "text/plain": [
              "'Luiz'"
            ]
          },
          "metadata": {},
          "execution_count": 43
        }
      ]
    },
    {
      "cell_type": "markdown",
      "metadata": {
        "id": "QBurvzlN6b89"
      },
      "source": [
        "## list\n",
        "- Um dos tipos de declaração multivariada no python"
      ]
    },
    {
      "cell_type": "code",
      "metadata": {
        "colab": {
          "base_uri": "https://localhost:8080/"
        },
        "id": "yLY_2dyg6iiw",
        "outputId": "1ecddccc-703a-4d7d-ca0d-76133690b7ae"
      },
      "source": [
        "lista = [1,2,3,4, True, 'Python', 1.44]\n",
        "lista"
      ],
      "execution_count": 45,
      "outputs": [
        {
          "output_type": "execute_result",
          "data": {
            "text/plain": [
              "[1, 2, 3, 4, True, 'Python', 1.44]"
            ]
          },
          "metadata": {},
          "execution_count": 45
        }
      ]
    },
    {
      "cell_type": "markdown",
      "metadata": {
        "id": "EWTXYhnd7e8_"
      },
      "source": [
        "## dict\n",
        "- Declaração multivariada onde inclui índice com elementos\n"
      ]
    },
    {
      "cell_type": "code",
      "metadata": {
        "id": "vEx61XHO6tyx",
        "colab": {
          "base_uri": "https://localhost:8080/"
        },
        "outputId": "39c5a159-58ac-46eb-a95c-5b3c22384bfa"
      },
      "source": [
        "dicio = {'Nome':nome,'Sobrenome': sobrenome}\n",
        "dicio"
      ],
      "execution_count": 46,
      "outputs": [
        {
          "output_type": "execute_result",
          "data": {
            "text/plain": [
              "{'Nome': 'André', 'Sobrenome': 'Luiz'}"
            ]
          },
          "metadata": {},
          "execution_count": 46
        }
      ]
    },
    {
      "cell_type": "markdown",
      "metadata": {
        "id": "HGUJooYC-EA5"
      },
      "source": [
        "#Operadores matemáticos "
      ]
    },
    {
      "cell_type": "code",
      "metadata": {
        "id": "CGLFjcir7gmX",
        "colab": {
          "base_uri": "https://localhost:8080/"
        },
        "outputId": "d5b6f466-554a-4a8a-b9b6-437353ba5161"
      },
      "source": [
        "n = 0\n",
        "# SOMA\n",
        "n += 1\n",
        "\n",
        "# SUBSTRAÇÃO \n",
        "n -= 2\n",
        "\n",
        "# MULTIPLICAÇÃO \n",
        "n *= 2\n",
        "\n",
        "# EXPONENCIAÇÃO \n",
        "n **= 2\n",
        "\n",
        "# DIVISÃO \n",
        "n /= 2\n",
        "\n",
        "# RESTO\n",
        "n %= 2\n",
        "n"
      ],
      "execution_count": 57,
      "outputs": [
        {
          "output_type": "execute_result",
          "data": {
            "text/plain": [
              "0.0"
            ]
          },
          "metadata": {},
          "execution_count": 57
        }
      ]
    },
    {
      "cell_type": "markdown",
      "metadata": {
        "id": "prvggJssAzO2"
      },
      "source": [
        "# Função print()\n",
        "- Imprime valores ou elementos no terminal do compilador\n"
      ]
    },
    {
      "cell_type": "code",
      "metadata": {
        "id": "oD_UUdTo-J-2",
        "colab": {
          "base_uri": "https://localhost:8080/"
        },
        "outputId": "ea8df19c-fbff-489c-cac2-6064059435af"
      },
      "source": [
        "nome = \"André\"\n",
        "idade = 24 \n",
        "curso = 'Python em quimiometria'\n",
        "media_enem = 787.6\n",
        "print(curso)"
      ],
      "execution_count": 64,
      "outputs": [
        {
          "output_type": "stream",
          "name": "stdout",
          "text": [
            "Python em quimiometria\n"
          ]
        }
      ]
    },
    {
      "cell_type": "markdown",
      "metadata": {
        "id": "08T51I-lCRIS"
      },
      "source": [
        "## Concatenação de variaveis na função print"
      ]
    },
    {
      "cell_type": "code",
      "metadata": {
        "colab": {
          "base_uri": "https://localhost:8080/"
        },
        "id": "OPk9cdfU-2m8",
        "outputId": "2205108e-a981-46f6-876e-287663914f35"
      },
      "source": [
        "print('Meu nome é', nome, 'e tenho', idade, 'anos')"
      ],
      "execution_count": 62,
      "outputs": [
        {
          "output_type": "stream",
          "name": "stdout",
          "text": [
            "Meu nome é Luiz e tenho 24 anos\n"
          ]
        }
      ]
    },
    {
      "cell_type": "markdown",
      "metadata": {
        "id": "l2ybtizyCcpA"
      },
      "source": [
        "## Método 'f'"
      ]
    },
    {
      "cell_type": "code",
      "metadata": {
        "colab": {
          "base_uri": "https://localhost:8080/"
        },
        "id": "ocEXVyIFBd1C",
        "outputId": "2bff8051-b32e-47cc-d138-87c6d0de61d4"
      },
      "source": [
        "print(f\"Meu nome é {nome}\")"
      ],
      "execution_count": 65,
      "outputs": [
        {
          "output_type": "stream",
          "name": "stdout",
          "text": [
            "Meu nome é André\n"
          ]
        }
      ]
    },
    {
      "cell_type": "markdown",
      "metadata": {
        "id": "_WY_d_A3C5po"
      },
      "source": [
        "## Método .format()"
      ]
    },
    {
      "cell_type": "code",
      "metadata": {
        "colab": {
          "base_uri": "https://localhost:8080/"
        },
        "id": "SUaVfiuNCnDB",
        "outputId": "7da261e0-5ea7-44b5-9db5-f0de2ff15636"
      },
      "source": [
        "print('Meu nome é {}'.format(nome))"
      ],
      "execution_count": 66,
      "outputs": [
        {
          "output_type": "stream",
          "name": "stdout",
          "text": [
            "Meu nome é André\n"
          ]
        }
      ]
    },
    {
      "cell_type": "markdown",
      "metadata": {
        "id": "SdsvgJMKDBBc"
      },
      "source": [
        "## Método \"sep\""
      ]
    },
    {
      "cell_type": "code",
      "metadata": {
        "colab": {
          "base_uri": "https://localhost:8080/"
        },
        "id": "s4lPMnM2DrAR",
        "outputId": "68a061b9-9a12-41d9-c3f5-b54f58e6b939"
      },
      "source": [
        "nome1 = 'André'\n",
        "nome2 = 'Luiz'\n",
        "nome3 = 'Simão'\n",
        "print(nome1,nome2,nome3, sep='  ')"
      ],
      "execution_count": 70,
      "outputs": [
        {
          "output_type": "stream",
          "name": "stdout",
          "text": [
            "André  Luiz  Simão\n"
          ]
        }
      ]
    },
    {
      "cell_type": "markdown",
      "metadata": {
        "id": "KBXYIPtCERrs"
      },
      "source": [
        "# Função input() \n",
        "- insere dados ao programa\n",
        "- Estrutura: _tipodevariavel_input_informação"
      ]
    },
    {
      "cell_type": "code",
      "metadata": {
        "colab": {
          "base_uri": "https://localhost:8080/"
        },
        "id": "RK7HO7UfD7yB",
        "outputId": "405bbf82-ec7c-4cc5-822e-3e8258bfd143"
      },
      "source": [
        "#a = int(input('Qual é a idade?'))\n",
        "nome = str(input('Qual é o seu nome?'))"
      ],
      "execution_count": 76,
      "outputs": [
        {
          "name": "stdout",
          "output_type": "stream",
          "text": [
            "Qual é o seu nome?André\n"
          ]
        }
      ]
    },
    {
      "cell_type": "code",
      "source": [
        "nome"
      ],
      "metadata": {
        "colab": {
          "base_uri": "https://localhost:8080/",
          "height": 35
        },
        "id": "SP1wxrZXFDC7",
        "outputId": "f6c13298-6a31-44aa-9809-b9ba2b92cf14"
      },
      "execution_count": 78,
      "outputs": [
        {
          "output_type": "execute_result",
          "data": {
            "application/vnd.google.colaboratory.intrinsic+json": {
              "type": "string"
            },
            "text/plain": [
              "'André'"
            ]
          },
          "metadata": {},
          "execution_count": 78
        }
      ]
    },
    {
      "cell_type": "markdown",
      "metadata": {
        "id": "WrrKKl6zIF0R"
      },
      "source": [
        "#**DESAFIO**"
      ]
    },
    {
      "cell_type": "markdown",
      "metadata": {
        "id": "UyPb4m5dIO4I"
      },
      "source": [
        "**Construa um programa que forneça o tamanho do diâmetro e altura de uma caldeira cilíndrica contendo água pura e imprima quanto de calor seria necessário para aquecê-la de 25 °C até 80ºC, desprezando efeitos dissipativos. Dados: calor específico da água =  1 cal/g ºC. e massa específica = 1000 kg/m3**\\\n",
        "Q = m.c.deltaT"
      ]
    },
    {
      "cell_type": "code",
      "metadata": {
        "colab": {
          "base_uri": "https://localhost:8080/"
        },
        "id": "jixvNBpCINbx",
        "outputId": "96488a39-8114-4872-fd7c-69adbf25b29b"
      },
      "source": [
        "altura = float(input('Qual é a altura da caldeira?Em m³'))\n",
        "diametro = float(input('Qual é o diametro da caldeira?Em m³'))\n",
        "pi = 3.14\n",
        "v = altura*(pi*(diametro**2/4))\n",
        "calor = (1000*v)*1*(80-25)\n",
        "print(f\"O calor necessário para aquecer a caldeira é de {calor} cal.\")"
      ],
      "execution_count": 83,
      "outputs": [
        {
          "output_type": "stream",
          "name": "stdout",
          "text": [
            "Qual é a altura da caldeira?Em m³14\n",
            "Qual é o diametro da caldeira?Em m³159\n",
            "O calor necessário para aquecer a caldeira é de 15281100450.0 cal.\n"
          ]
        }
      ]
    },
    {
      "cell_type": "markdown",
      "metadata": {
        "id": "AV7oL0A_Ib-O"
      },
      "source": [
        "#**DESAFIOS EM SOLO**\n",
        "**1. Construa um programa que leia 3 dimensões de uma caixa aberta retangular e calcule a área externa total, imprimindo esse valor no terminal**\\\n",
        "**2.Faça um programa que forneça o tamanho do diâmetro, altura de um reator cilíndrico e massa  um composto para calcular e imprimir o seu número de mols**"
      ]
    },
    {
      "cell_type": "code",
      "metadata": {
        "id": "JYC54SfwIheA"
      },
      "source": [
        ""
      ],
      "execution_count": 26,
      "outputs": []
    }
  ]
}