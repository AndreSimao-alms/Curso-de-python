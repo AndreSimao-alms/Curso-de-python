{
  "nbformat": 4,
  "nbformat_minor": 0,
  "metadata": {
    "colab": {
      "name": "Aula1.ipynb",
      "provenance": [],
      "authorship_tag": "ABX9TyPxON+UY+/x1ieBqtdt5SGH",
      "include_colab_link": true
    },
    "kernelspec": {
      "name": "python3",
      "display_name": "Python 3"
    },
    "language_info": {
      "name": "python"
    }
  },
  "cells": [
    {
      "cell_type": "markdown",
      "metadata": {
        "id": "view-in-github",
        "colab_type": "text"
      },
      "source": [
        "<a href=\"https://colab.research.google.com/github/AndreSimao-alms/Curso-de-python/blob/main/Aula1.ipynb\" target=\"_parent\"><img src=\"https://colab.research.google.com/assets/colab-badge.svg\" alt=\"Open In Colab\"/></a>"
      ]
    },
    {
      "cell_type": "markdown",
      "metadata": {
        "id": "UXMRA6CC0rPQ"
      },
      "source": [
        "# Tipo de variáveis"
      ]
    },
    {
      "cell_type": "markdown",
      "metadata": {
        "id": "--ris8gq1dxg"
      },
      "source": [
        "## int\n",
        "- Número inteiros."
      ]
    },
    {
      "cell_type": "code",
      "metadata": {
        "colab": {
          "base_uri": "https://localhost:8080/"
        },
        "id": "H_2xpdLA0kkn",
        "outputId": "1397462f-040c-45b1-ec62-1108bdbe882d"
      },
      "source": [
        "a= 1\n",
        "a"
      ],
      "execution_count": 1,
      "outputs": [
        {
          "output_type": "stream",
          "name": "stdout",
          "text": [
            "1\n"
          ]
        }
      ]
    },
    {
      "cell_type": "code",
      "metadata": {
        "colab": {
          "base_uri": "https://localhost:8080/"
        },
        "id": "7tvwUUxi1zHi",
        "outputId": "fbf15e3f-2029-4f2f-d851-f8e74f93d59f"
      },
      "source": [
        "b = 87\n",
        "b"
      ],
      "execution_count": 2,
      "outputs": [
        {
          "output_type": "stream",
          "name": "stdout",
          "text": [
            "87\n"
          ]
        }
      ]
    },
    {
      "cell_type": "markdown",
      "metadata": {
        "id": "wvNruCyI2Ogr"
      },
      "source": [
        "## Float\n",
        "- Números decimais \n"
      ]
    },
    {
      "cell_type": "code",
      "metadata": {
        "colab": {
          "base_uri": "https://localhost:8080/"
        },
        "id": "EwU5I5en2MBN",
        "outputId": "aafdff4e-9d78-416b-a0b8-87946b359b50"
      },
      "source": [
        "a = 1.75\n",
        "a"
      ],
      "execution_count": 8,
      "outputs": [
        {
          "output_type": "execute_result",
          "data": {
            "text/plain": [
              "(1, 75)"
            ]
          },
          "metadata": {},
          "execution_count": 8
        }
      ]
    },
    {
      "cell_type": "code",
      "metadata": {
        "colab": {
          "base_uri": "https://localhost:8080/"
        },
        "id": "cbMqrKeh2cpo",
        "outputId": "f6cb8139-1461-42b6-dfe1-1e9674c0caa1"
      },
      "source": [
        "# CUIDADO! Utilize ponto para a separação de casas, uma vez que a vírgula é utilizada para declaração de tuplas, por exemplo:\n",
        "b = 1,75\n",
        "b"
      ],
      "execution_count": 9,
      "outputs": [
        {
          "output_type": "execute_result",
          "data": {
            "text/plain": [
              "(1, 75)"
            ]
          },
          "metadata": {},
          "execution_count": 9
        }
      ]
    },
    {
      "cell_type": "markdown",
      "metadata": {
        "id": "w1NJMUic3I74"
      },
      "source": [
        "## Bool \n",
        "- operador lógico falso ou verdadeiros"
      ]
    },
    {
      "cell_type": "code",
      "metadata": {
        "colab": {
          "base_uri": "https://localhost:8080/"
        },
        "id": "ZU3cdjSh3S9f",
        "outputId": "4f052fe5-26c8-4591-b84d-c0bffce8b888"
      },
      "source": [
        "a = 1\n",
        "b = 2\n",
        "a == b\n",
        "# Aqui é utilizado dois símbolos iguais ('==') para verificar a igualdade, se fosse digitado \"a=b\" seria armazenado na mémoria o valor de \"b\" em \"a\". "
      ],
      "execution_count": 17,
      "outputs": [
        {
          "output_type": "execute_result",
          "data": {
            "text/plain": [
              "False"
            ]
          },
          "metadata": {},
          "execution_count": 17
        }
      ]
    },
    {
      "cell_type": "markdown",
      "metadata": {
        "id": "dSQiIQ-y4Uq5"
      },
      "source": [
        "## String\n",
        "  - Combinação de múltiplos caracteres"
      ]
    },
    {
      "cell_type": "code",
      "metadata": {
        "colab": {
          "base_uri": "https://localhost:8080/",
          "height": 35
        },
        "id": "hDw35uYF4H5V",
        "outputId": "5ed61299-6093-482c-a39e-95af2e0cbecc"
      },
      "source": [
        "nome = 'André'\n",
        "nome"
      ],
      "execution_count": 43,
      "outputs": [
        {
          "output_type": "execute_result",
          "data": {
            "application/vnd.google.colaboratory.intrinsic+json": {
              "type": "string"
            },
            "text/plain": [
              "'André'"
            ]
          },
          "metadata": {},
          "execution_count": 43
        }
      ]
    },
    {
      "cell_type": "code",
      "metadata": {
        "colab": {
          "base_uri": "https://localhost:8080/",
          "height": 35
        },
        "id": "uhcaijVf6ZMu",
        "outputId": "79e62c4f-ba3e-459f-aab2-d0ee10bd771d"
      },
      "source": [
        "curso = 'Curso de Python em Quimiometria'\n",
        "curso"
      ],
      "execution_count": 42,
      "outputs": [
        {
          "output_type": "execute_result",
          "data": {
            "application/vnd.google.colaboratory.intrinsic+json": {
              "type": "string"
            },
            "text/plain": [
              "'Curso de Python em Quimiometria'"
            ]
          },
          "metadata": {},
          "execution_count": 42
        }
      ]
    },
    {
      "cell_type": "markdown",
      "metadata": {
        "id": "QBurvzlN6b89"
      },
      "source": [
        "## list\n",
        "- Um dos tipos de declaração multivariada no python"
      ]
    },
    {
      "cell_type": "code",
      "metadata": {
        "colab": {
          "base_uri": "https://localhost:8080/"
        },
        "id": "yLY_2dyg6iiw",
        "outputId": "3f8b8f11-c2b8-4810-e5a3-acbc114b54f4"
      },
      "source": [
        "elementos = ['H', 'P','N', 'Cl', 'He']\n",
        "mm = [1, 30.97, 14, 35.46, 4]\n",
        "print(compostos)\n",
        "print(mm)"
      ],
      "execution_count": 22,
      "outputs": [
        {
          "output_type": "stream",
          "name": "stdout",
          "text": [
            "['H', 'P', 'N', 'HCl', 'NH2']\n",
            "[1, 30.97, 14, 36.46, 16]\n"
          ]
        }
      ]
    },
    {
      "cell_type": "markdown",
      "metadata": {
        "id": "EWTXYhnd7e8_"
      },
      "source": [
        "## dict\n",
        "- Declaração multivariada onde inclui índice com elementos\n"
      ]
    },
    {
      "cell_type": "code",
      "metadata": {
        "id": "vEx61XHO6tyx"
      },
      "source": [
        "mm_elementos = {'H':1, 'P':30.97,'N':14,'Cl':35.46,'He':4}"
      ],
      "execution_count": null,
      "outputs": []
    },
    {
      "cell_type": "markdown",
      "metadata": {
        "id": "HGUJooYC-EA5"
      },
      "source": [
        "#Operadores matemáticos "
      ]
    },
    {
      "cell_type": "code",
      "metadata": {
        "id": "CGLFjcir7gmX"
      },
      "source": [
        "n = 0\n",
        "# SOMA\n",
        "# SUBSTRAÇÃO \n",
        "# MULTIPLICAÇÃO \n",
        "# EXPONENCIAÇÃO \n",
        "# DIVISÃO \n",
        "# RESTO"
      ],
      "execution_count": 44,
      "outputs": []
    },
    {
      "cell_type": "markdown",
      "metadata": {
        "id": "prvggJssAzO2"
      },
      "source": [
        "# Função print()\n",
        "- Imprime valores ou elementos no terminal do compilador\n"
      ]
    },
    {
      "cell_type": "code",
      "metadata": {
        "id": "oD_UUdTo-J-2"
      },
      "source": [
        "nome = \"Luiz\"\n",
        "idade = 24 \n",
        "curso = 'Python em quimiometria'\n",
        "media_enem = 787.6"
      ],
      "execution_count": 46,
      "outputs": []
    },
    {
      "cell_type": "markdown",
      "metadata": {
        "id": "08T51I-lCRIS"
      },
      "source": [
        "## Concatenação de variaveis na função print"
      ]
    },
    {
      "cell_type": "code",
      "metadata": {
        "colab": {
          "base_uri": "https://localhost:8080/"
        },
        "id": "OPk9cdfU-2m8",
        "outputId": "147b0f0b-e714-4428-944e-2f8b9e00ed9f"
      },
      "source": [
        "print(nome, 'possui', idade, 'anos', 'e está estudando', curso, 'e sua média do enem foi de', media_enem, '.')"
      ],
      "execution_count": 53,
      "outputs": [
        {
          "output_type": "stream",
          "name": "stdout",
          "text": [
            "Luiz possui 24 anos e está estudando Python em quimiometria e sua média do enem foi de 787.6\n"
          ]
        }
      ]
    },
    {
      "cell_type": "markdown",
      "metadata": {
        "id": "l2ybtizyCcpA"
      },
      "source": [
        "## Método 'f'"
      ]
    },
    {
      "cell_type": "code",
      "metadata": {
        "colab": {
          "base_uri": "https://localhost:8080/"
        },
        "id": "ocEXVyIFBd1C",
        "outputId": "db2d6228-722a-4904-ea1e-a9f7d50a8cbd"
      },
      "source": [
        "print(f\"O nome dele é {nome} e tem {idade} anos de idade\")"
      ],
      "execution_count": 55,
      "outputs": [
        {
          "output_type": "stream",
          "name": "stdout",
          "text": [
            "O nome dele é Luiz e tem 24 anos de idade\n"
          ]
        }
      ]
    },
    {
      "cell_type": "markdown",
      "metadata": {
        "id": "_WY_d_A3C5po"
      },
      "source": [
        "## Método .format()"
      ]
    },
    {
      "cell_type": "code",
      "metadata": {
        "colab": {
          "base_uri": "https://localhost:8080/"
        },
        "id": "SUaVfiuNCnDB",
        "outputId": "a59b10d0-bcb3-401b-ed99-32f69fec2965"
      },
      "source": [
        "}print(\"O nome dele é {} e tem {} anos de idade\".format(nome, idade))"
      ],
      "execution_count": 56,
      "outputs": [
        {
          "output_type": "stream",
          "name": "stdout",
          "text": [
            "O nome dele é Luiz e tem 24 anos de idade\n"
          ]
        }
      ]
    },
    {
      "cell_type": "markdown",
      "metadata": {
        "id": "SdsvgJMKDBBc"
      },
      "source": [
        "## Método \"sep\""
      ]
    },
    {
      "cell_type": "code",
      "metadata": {
        "colab": {
          "base_uri": "https://localhost:8080/"
        },
        "id": "s4lPMnM2DrAR",
        "outputId": "838d4233-8c3c-4869-dfab-c74dd77274be"
      },
      "source": [
        "nome1 = 'André'\n",
        "nome2 = 'Luiz'\n",
        "nome3 = 'Simão'\n",
        "print(nome1,nome2,nome3,sep='  ')"
      ],
      "execution_count": 60,
      "outputs": [
        {
          "output_type": "stream",
          "name": "stdout",
          "text": [
            "André  Luiz  Simão\n"
          ]
        }
      ]
    },
    {
      "cell_type": "markdown",
      "metadata": {
        "id": "KBXYIPtCERrs"
      },
      "source": [
        "# Função input() \n",
        "- insere dados ao programa"
      ]
    },
    {
      "cell_type": "code",
      "metadata": {
        "colab": {
          "base_uri": "https://localhost:8080/"
        },
        "id": "RK7HO7UfD7yB",
        "outputId": "ce17f1e8-adb6-4233-f22b-0f62ee515d6b"
      },
      "source": [
        "distancia = float(input('Qual a distancia percorrida? Em metros. '))\n",
        "tempo = float(input('Qual foi o tempo? Em segundos. '))\n",
        "print(f\"A velocidade média foi equivalente a {distancia/tempo}\")"
      ],
      "execution_count": 61,
      "outputs": [
        {
          "output_type": "stream",
          "name": "stdout",
          "text": [
            "Qual a distancia percorrida? Em metros. 10\n",
            "Qual foi o tempo? Em segundos. 2\n",
            "A velocidade média foi equivalente a 5.0\n"
          ]
        }
      ]
    },
    {
      "cell_type": "markdown",
      "metadata": {
        "id": "Rxo5_O5fHGh2"
      },
      "source": [
        "#**MINI-DESAFIO**\n"
      ]
    },
    {
      "cell_type": "markdown",
      "metadata": {
        "id": "WrrKKl6zIF0R"
      },
      "source": [
        "#**DESAFIO**"
      ]
    },
    {
      "cell_type": "markdown",
      "metadata": {
        "id": "UyPb4m5dIO4I"
      },
      "source": [
        "**2. Leia um programa que forneça o tamanho do diâmetro e altura de uma caldeira cilíndrica contendo água pura e imprima quanto de calor seria necessário para aquecê-la de 25 °C até 80ºC. Dados: calor específico da água =  1 cal/g ºC. e massa específica = 1000 kg/m3**\\\n",
        "Q = m.c.deltaT"
      ]
    },
    {
      "cell_type": "code",
      "metadata": {
        "colab": {
          "base_uri": "https://localhost:8080/"
        },
        "id": "jixvNBpCINbx",
        "outputId": "929551ac-734c-40e6-eebb-de341b1bedb8"
      },
      "source": [
        "pi = 3.14\n",
        "d = float(input(\"diametro do reator, em metros: \"))\n",
        "h = float(input(\"Altura do reator, em metros: \"))\n",
        "v = pi*h*(d**2/4)\n",
        "calor = v*1000*(85-25)\n",
        "print(f\"O calor fornecido no aquecimento foi de {calor} cal.\")"
      ],
      "execution_count": 66,
      "outputs": [
        {
          "output_type": "stream",
          "name": "stdout",
          "text": [
            "diametro do reator, em metros: 1\n",
            "Altura do reator, em metros: 4\n",
            "O calor fornecido no aquecimento foi de 188400.0 cal.\n"
          ]
        }
      ]
    },
    {
      "cell_type": "markdown",
      "metadata": {
        "id": "AV7oL0A_Ib-O"
      },
      "source": [
        "#**DESAFIOS EM SOLO**\n",
        "**1. Faça um programa que forneça o tamanho do diâmetro e altura de um reator cilíndrico e imprima quantos litros de uma solução concentrada de ácido sulfúrico 96% (m/m) seria necessário para tornar a solução 6M no volume calculado. Dados: d= 1,84 g/mL e pi = 3,14**\n",
        "**2. Construa um programa que leia 3 dimensões de uma caixa aberta retangular e calcule a área externa total, imprimindo esse valor no terminal**"
      ]
    },
    {
      "cell_type": "code",
      "metadata": {
        "id": "JYC54SfwIheA"
      },
      "source": [
        ""
      ],
      "execution_count": null,
      "outputs": []
    }
  ]
}